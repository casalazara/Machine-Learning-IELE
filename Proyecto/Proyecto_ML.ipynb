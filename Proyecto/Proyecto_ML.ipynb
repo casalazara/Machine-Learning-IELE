{
  "nbformat": 4,
  "nbformat_minor": 0,
  "metadata": {
    "colab": {
      "name": "Proyecto_ML.ipynb",
      "provenance": [],
      "toc_visible": true,
      "authorship_tag": "ABX9TyPiFGDRuFEh3izirSjgIszS",
      "include_colab_link": true
    },
    "kernelspec": {
      "name": "python3",
      "display_name": "Python 3"
    }
  },
  "cells": [
    {
      "cell_type": "markdown",
      "metadata": {
        "id": "view-in-github",
        "colab_type": "text"
      },
      "source": [
        "<a href=\"https://colab.research.google.com/github/casalazara/Machine-Learning-IELE/blob/master/Proyecto/Proyecto_ML.ipynb\" target=\"_parent\"><img src=\"https://colab.research.google.com/assets/colab-badge.svg\" alt=\"Open In Colab\"/></a>"
      ]
    },
    {
      "cell_type": "code",
      "metadata": {
        "id": "6nWTdLoZWk-1"
      },
      "source": [
        "import os\n",
        "import numpy as np \n",
        "import pandas as pd\n",
        "import tensorflow as tf\n",
        "import matplotlib.pyplot as plt\n",
        "%matplotlib inline\n",
        "from google.colab import drive\n",
        "from tensorflow.keras.applications import VGG16\n",
        "from tensorflow.keras.preprocessing.image import ImageDataGenerator\n",
        "from tensorflow.keras.utils import to_categorical\n",
        "from tensorflow import keras\n",
        "from tensorflow.keras import backend as K\n",
        "from sklearn.model_selection import train_test_split\n"
      ],
      "execution_count": 1,
      "outputs": []
    },
    {
      "cell_type": "markdown",
      "metadata": {
        "id": "ObcfKZe7XIU9"
      },
      "source": [
        "# Carga de datos"
      ]
    },
    {
      "cell_type": "markdown",
      "metadata": {
        "id": "0f_N9IB-XJka"
      },
      "source": [
        "## Directorio con los datos"
      ]
    },
    {
      "cell_type": "code",
      "metadata": {
        "colab": {
          "base_uri": "https://localhost:8080/"
        },
        "id": "G5X9-nX5XLG8",
        "outputId": "f5e63c99-c21f-4908-dd99-850f242080b7"
      },
      "source": [
        "drive.mount('/gdrive')\n",
        "\n",
        "path = \"../gdrive/MyDrive/Data\"\n"
      ],
      "execution_count": 2,
      "outputs": [
        {
          "output_type": "stream",
          "text": [
            "Mounted at /gdrive\n"
          ],
          "name": "stdout"
        }
      ]
    },
    {
      "cell_type": "markdown",
      "metadata": {
        "id": "Oj2B7fjTXNAU"
      },
      "source": [
        "## Separación de los datos"
      ]
    },
    {
      "cell_type": "code",
      "metadata": {
        "colab": {
          "base_uri": "https://localhost:8080/"
        },
        "id": "w-HHZdlCYFjF",
        "outputId": "f1fb3d2b-7905-4224-e48a-072cdf3ab68a"
      },
      "source": [
        "data = []\n",
        "labels = []\n",
        "genres = [\"Cumbia\",\"Vallenato\",\"Salsa\",\"Merengue\",\"Bachata\"]\n",
        "for i in range(len(genres)):   \n",
        "    genre=genres[i]\n",
        "    for img in os.listdir(path+\"/\"+genre):\n",
        "      image=tf.keras.preprocessing.image.load_img(path+\"/\"+genre+\"/\"+img, color_mode='rgb', target_size= (300,300))\n",
        "      image=np.array(image)\n",
        "      data.append(image)\n",
        "      labels.append(i)\n",
        "\n",
        "data = np.array(data)\n",
        "labels = np.array(labels)\n",
        "labels = to_categorical(labels, 5)\n",
        "X_train, X_test_val, y_train, y_test_val = train_test_split(data, labels, test_size=0.2, random_state=42)\n",
        "X_test,X_val,y_test,y_val = train_test_split(X_test_val,y_test_val,test_size=.5,random_state=42)\n",
        "X_train.shape, X_test.shape, X_val.shape"
      ],
      "execution_count": 3,
      "outputs": [
        {
          "output_type": "execute_result",
          "data": {
            "text/plain": [
              "array([[[[255, 255, 255],\n",
              "         [255, 255, 255],\n",
              "         [255, 255, 255],\n",
              "         ...,\n",
              "         [255, 255, 255],\n",
              "         [255, 255, 255],\n",
              "         [255, 255, 255]],\n",
              "\n",
              "        [[255, 255, 255],\n",
              "         [255, 255, 255],\n",
              "         [255, 255, 255],\n",
              "         ...,\n",
              "         [255, 255, 255],\n",
              "         [255, 255, 255],\n",
              "         [255, 255, 255]],\n",
              "\n",
              "        [[255, 255, 255],\n",
              "         [255, 255, 255],\n",
              "         [255, 255, 255],\n",
              "         ...,\n",
              "         [255, 255, 255],\n",
              "         [255, 255, 255],\n",
              "         [255, 255, 255]],\n",
              "\n",
              "        ...,\n",
              "\n",
              "        [[255, 255, 255],\n",
              "         [255, 255, 255],\n",
              "         [255, 255, 255],\n",
              "         ...,\n",
              "         [255, 255, 255],\n",
              "         [255, 255, 255],\n",
              "         [255, 255, 255]],\n",
              "\n",
              "        [[255, 255, 255],\n",
              "         [255, 255, 255],\n",
              "         [255, 255, 255],\n",
              "         ...,\n",
              "         [255, 255, 255],\n",
              "         [255, 255, 255],\n",
              "         [255, 255, 255]],\n",
              "\n",
              "        [[255, 255, 255],\n",
              "         [255, 255, 255],\n",
              "         [255, 255, 255],\n",
              "         ...,\n",
              "         [255, 255, 255],\n",
              "         [255, 255, 255],\n",
              "         [255, 255, 255]]],\n",
              "\n",
              "\n",
              "       [[[255, 255, 255],\n",
              "         [255, 255, 255],\n",
              "         [255, 255, 255],\n",
              "         ...,\n",
              "         [255, 255, 255],\n",
              "         [255, 255, 255],\n",
              "         [255, 255, 255]],\n",
              "\n",
              "        [[255, 255, 255],\n",
              "         [255, 255, 255],\n",
              "         [255, 255, 255],\n",
              "         ...,\n",
              "         [255, 255, 255],\n",
              "         [255, 255, 255],\n",
              "         [255, 255, 255]],\n",
              "\n",
              "        [[255, 255, 255],\n",
              "         [255, 255, 255],\n",
              "         [255, 255, 255],\n",
              "         ...,\n",
              "         [255, 255, 255],\n",
              "         [255, 255, 255],\n",
              "         [255, 255, 255]],\n",
              "\n",
              "        ...,\n",
              "\n",
              "        [[255, 255, 255],\n",
              "         [255, 255, 255],\n",
              "         [255, 255, 255],\n",
              "         ...,\n",
              "         [255, 255, 255],\n",
              "         [255, 255, 255],\n",
              "         [255, 255, 255]],\n",
              "\n",
              "        [[255, 255, 255],\n",
              "         [255, 255, 255],\n",
              "         [255, 255, 255],\n",
              "         ...,\n",
              "         [255, 255, 255],\n",
              "         [255, 255, 255],\n",
              "         [255, 255, 255]],\n",
              "\n",
              "        [[255, 255, 255],\n",
              "         [255, 255, 255],\n",
              "         [255, 255, 255],\n",
              "         ...,\n",
              "         [255, 255, 255],\n",
              "         [255, 255, 255],\n",
              "         [255, 255, 255]]]], dtype=uint8)"
            ]
          },
          "metadata": {
            "tags": []
          },
          "execution_count": 3
        }
      ]
    },
    {
      "cell_type": "code",
      "metadata": {
        "id": "fgxPYpuIESHk"
      },
      "source": [
        "X_train[:2]"
      ],
      "execution_count": null,
      "outputs": []
    },
    {
      "cell_type": "code",
      "metadata": {
        "colab": {
          "base_uri": "https://localhost:8080/"
        },
        "id": "lMmnU_PvdBYm",
        "outputId": "42172533-56f7-4a5b-d182-7627e2511cc6"
      },
      "source": [
        "y_train[:2]"
      ],
      "execution_count": 4,
      "outputs": [
        {
          "output_type": "execute_result",
          "data": {
            "text/plain": [
              "array([[0., 1., 0., 0., 0.],\n",
              "       [0., 1., 0., 0., 0.]], dtype=float32)"
            ]
          },
          "metadata": {
            "tags": []
          },
          "execution_count": 4
        }
      ]
    },
    {
      "cell_type": "code",
      "metadata": {
        "id": "99IBI63Cc7Mh"
      },
      "source": [
        "#X_train = np.expand_dims(X_train,axis=3)\n",
        "#X_test = np.expand_dims(X_test,axis=3)\n",
        "\n",
        "# Create an ImageDataGenerator and do Image Augmentation\n",
        "train_datagen = ImageDataGenerator(rescale = 1./255.)\n",
        "\n",
        "validation_datagen = ImageDataGenerator(rescale = 1./255.)\n",
        "\n",
        "train_generator = train_datagen.flow(X_train, y_train,\n",
        "  batch_size=8\n",
        ")\n",
        "-\n",
        "validation_generator = validation_datagen.flow(X_val,y_val,\n",
        "  batch_size=8\n",
        ")\n"
      ],
      "execution_count": 5,
      "outputs": []
    },
    {
      "cell_type": "markdown",
      "metadata": {
        "id": "4lU2J-Otatta"
      },
      "source": [
        "# Modelo\n"
      ]
    },
    {
      "cell_type": "markdown",
      "metadata": {
        "id": "OPzqJ4FrcSEt"
      },
      "source": [
        "## Carga del modelo"
      ]
    },
    {
      "cell_type": "code",
      "metadata": {
        "id": "TJAr1ojYauqx",
        "outputId": "842396ef-b711-4cb9-b781-0d55cf2418f7",
        "colab": {
          "base_uri": "https://localhost:8080/"
        }
      },
      "source": [
        "model=VGG16(include_top=False,input_shape=(300,300,3))"
      ],
      "execution_count": 6,
      "outputs": [
        {
          "output_type": "stream",
          "text": [
            "Downloading data from https://storage.googleapis.com/tensorflow/keras-applications/vgg16/vgg16_weights_tf_dim_ordering_tf_kernels_notop.h5\n",
            "58892288/58889256 [==============================] - 4s 0us/step\n"
          ],
          "name": "stdout"
        }
      ]
    },
    {
      "cell_type": "markdown",
      "metadata": {
        "id": "6fir_h3pcUJ4"
      },
      "source": [
        "#Congelamiento de capas"
      ]
    },
    {
      "cell_type": "code",
      "metadata": {
        "id": "LzvZieDCaxQ0"
      },
      "source": [
        "for layer in model.layers:\n",
        "    layer.trainable=False"
      ],
      "execution_count": 7,
      "outputs": []
    },
    {
      "cell_type": "markdown",
      "metadata": {
        "id": "aeS3FtWIcbw-"
      },
      "source": [
        "## Últimas capas"
      ]
    },
    {
      "cell_type": "code",
      "metadata": {
        "id": "DZdKZn_kcd4t"
      },
      "source": [
        "output=model.layers[-1].output\n",
        "model_final=tf.keras.layers.Flatten()(output)\n",
        "model_final=tf.keras.layers.Dense(512,activation='relu')(model_final)\n",
        "model_final=tf.keras.layers.Dense(256,activation='relu')(model_final)\n",
        "model_final=tf.keras.layers.Dense(128,activation='relu')(model_final)\n",
        "model_final=tf.keras.layers.Dense(64,activation='relu')(model_final)\n",
        "model_final=tf.keras.layers.Dense(5,activation='softmax')(model_final)"
      ],
      "execution_count": 8,
      "outputs": []
    },
    {
      "cell_type": "markdown",
      "metadata": {
        "id": "ZWK6wMLJci4V"
      },
      "source": [
        "## Modelo final"
      ]
    },
    {
      "cell_type": "code",
      "metadata": {
        "id": "QILks2NXckOU"
      },
      "source": [
        "model=tf.keras.models.Model(model.input,model_final)"
      ],
      "execution_count": 9,
      "outputs": []
    },
    {
      "cell_type": "markdown",
      "metadata": {
        "id": "Zzit6l7BCcNT"
      },
      "source": [
        "## Callback"
      ]
    },
    {
      "cell_type": "code",
      "metadata": {
        "id": "pXL07N-ZCeU7"
      },
      "source": [
        "class CustomCallback(keras.callbacks.Callback):\n",
        "    def __init__(self, weights_dir, patience=10, rate=0.5):\n",
        "        \"\"\"\n",
        "        Initializer Method\n",
        "        :param weights_dir: The directory of the model weights\n",
        "        :param patience: Number of epochs before reducing lr\n",
        "        :param rate: The rate to reduce the lr\n",
        "        \"\"\"\n",
        "        super(CustomCallback, self).__init__()\n",
        "        self.weights_dir = weights_dir\n",
        "        self.rate = rate\n",
        "        self.patience = patience\n",
        "\n",
        "    def on_train_begin(self, logs=None):\n",
        "        \"\"\"\n",
        "        Configurations to be taken an account on\n",
        "        before training begins.\n",
        "        :param logs: The logs from the output.\n",
        "        \"\"\"\n",
        "        self.best_loss = np.Inf\n",
        "        self.best_recall = 0\n",
        "        self.wait = 0\n",
        "        self.best_weights = None\n",
        "    \n",
        "    def on_epoch_end(self, epoch, logs=None):\n",
        "        \"\"\"\n",
        "        Method that is called each time an epoch ends\n",
        "        excecution\n",
        "        :param epoch: The current epoch of the training\n",
        "        :param logs: The logs from the output from an epoch ended\n",
        "        \"\"\"\n",
        "        # Current validation loss\n",
        "        current_loss = logs.get(\"val_loss\")\n",
        "        # Current validation Recall\n",
        "        current_recall = logs.get(\"val_Recall\")\n",
        "        if (current_loss < self.best_loss or \n",
        "            current_recall > self.best_recall):\n",
        "            # We save the model weights\n",
        "            # We wait again\n",
        "            # We assign the best loss and the best recall.\n",
        "            self.wait = 0\n",
        "            self.best_loss = current_loss\n",
        "            self.best_recall = current_recall\n",
        "            self.model.save_weights(self.weights_dir)\n",
        "            self.best_weights = self.model.get_weights()\n",
        "            print(\"\\nBest Weights Saved!!\")\n",
        "        else:\n",
        "            self.wait += 1\n",
        "            if self.wait >= self.patience:\n",
        "                # Reduce learning rate by the initialized rate.\n",
        "                self.wait = 0\n",
        "                print(f\"\\nEpoch {epoch}, Reducing Learning Rate\")\n",
        "                # We set the new learning rate\n",
        "                lr = K.get_value(self.model.optimizer.lr)\n",
        "                new_lr = lr * self.rate\n",
        "                K.set_value(self.model.optimizer.lr, new_lr)\n",
        "                print(f\"\\nLearning Rate Reduced: {new_lr}\")\n",
        "                # We load the best weights to continue the training.\n",
        "                self.model.set_weights(self.best_weights)\n",
        "                print(\"\\nBest Weights Loaded!!\")\n"
      ],
      "execution_count": 10,
      "outputs": []
    },
    {
      "cell_type": "markdown",
      "metadata": {
        "id": "2pZn_C-wclwM"
      },
      "source": [
        "## Compilación"
      ]
    },
    {
      "cell_type": "code",
      "metadata": {
        "id": "ZAmxIK1TcnYX"
      },
      "source": [
        "model.compile(loss='categorical_crossentropy',optimizer='adam',metrics=['acc','Recall'])\n",
        "#model.compile(loss = 'sparse_categorical_crossentropy', optimizer='rmsprop', metrics=['acc'])\n"
      ],
      "execution_count": 16,
      "outputs": []
    },
    {
      "cell_type": "markdown",
      "metadata": {
        "id": "CfZZyUu4cn_T"
      },
      "source": [
        "## Entrenamiento"
      ]
    },
    {
      "cell_type": "code",
      "metadata": {
        "colab": {
          "base_uri": "https://localhost:8080/"
        },
        "id": "gUEnuQRLcrR_",
        "outputId": "92b769fd-a451-4abb-fd49-59e56a23f620"
      },
      "source": [
        "history = model.fit_generator(train_generator, epochs=5,validation_data = validation_generator, callbacks = [CustomCallback('./')])\n",
        "\n",
        "model.evaluate(X_test, y_test, verbose=0)"
      ],
      "execution_count": 17,
      "outputs": [
        {
          "output_type": "stream",
          "text": [
            "Epoch 1/2\n",
            "150/150 [==============================] - ETA: 0s - loss: 1.4709 - acc: 0.5033 - recall: 0.3717\n",
            "Best Weights Saved!!\n",
            "150/150 [==============================] - 1185s 8s/step - loss: 1.4709 - acc: 0.5033 - recall: 0.3717 - val_loss: 1.0099 - val_acc: 0.6200 - val_recall: 0.5267\n",
            "Epoch 2/2\n",
            "150/150 [==============================] - ETA: 0s - loss: 0.6768 - acc: 0.7350 - recall: 0.6825\n",
            "Best Weights Saved!!\n",
            "150/150 [==============================] - 1192s 8s/step - loss: 0.6768 - acc: 0.7350 - recall: 0.6825 - val_loss: 0.8680 - val_acc: 0.7000 - val_recall: 0.6867\n"
          ],
          "name": "stdout"
        },
        {
          "output_type": "execute_result",
          "data": {
            "text/plain": [
              "[22.046785354614258, 0.5066666603088379, 0.5066666603088379]"
            ]
          },
          "metadata": {
            "tags": []
          },
          "execution_count": 17
        }
      ]
    },
    {
      "cell_type": "markdown",
      "metadata": {
        "id": "fGtcHETNq9S-"
      },
      "source": [
        "## Evaluación"
      ]
    },
    {
      "cell_type": "code",
      "metadata": {
        "colab": {
          "base_uri": "https://localhost:8080/",
          "height": 544
        },
        "id": "UjRGf0CSq-dc",
        "outputId": "3e6857ab-88f8-488c-8768-036423c931ca"
      },
      "source": [
        "acc = history.history['acc']\n",
        "val_acc = history.history['val_acc']\n",
        "loss = history.history['loss']\n",
        "val_loss = history.history['val_loss']\n",
        "\n",
        "epochs = range(len(acc))\n",
        "\n",
        "plt.plot(epochs, acc, 'r', label='Training accuracy')\n",
        "plt.plot(epochs, val_acc, 'b', label='Validation accuracy')\n",
        "plt.title('Training and validation accuracy')\n",
        "plt.legend()\n",
        "plt.figure()\n",
        "\n",
        "plt.plot(epochs, loss, 'r', label='Training Loss')\n",
        "plt.plot(epochs, val_loss, 'b', label='Validation Loss')\n",
        "plt.title('Training and validation loss')\n",
        "plt.legend()\n",
        "\n",
        "plt.show()"
      ],
      "execution_count": 18,
      "outputs": [
        {
          "output_type": "display_data",
          "data": {
            "image/png": "[encoded data removed]",
            "text/plain": [
              "<Figure size 432x288 with 1 Axes>"
            ]
          },
          "metadata": {
            "tags": [],
            "needs_background": "light"
          }
        },
        {
          "output_type": "display_data",
          "data": {
            "image/png": "[encoded data removed]",
            "text/plain": [
              "<Figure size 432x288 with 1 Axes>"
            ]
          },
          "metadata": {
            "tags": [],
            "needs_background": "light"
          }
        }
      ]
    }
  ]
}