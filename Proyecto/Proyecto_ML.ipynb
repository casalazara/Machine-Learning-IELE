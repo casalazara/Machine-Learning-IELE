{
  "nbformat": 4,
  "nbformat_minor": 0,
  "metadata": {
    "colab": {
      "name": "Proyecto_ML.ipynb",
      "provenance": [],
      "toc_visible": true,
      "authorship_tag": "ABX9TyPzvWpWH84d42GIHr7jNY34",
      "include_colab_link": true
    },
    "kernelspec": {
      "name": "python3",
      "display_name": "Python 3"
    }
  },
  "cells": [
    {
      "cell_type": "markdown",
      "metadata": {
        "id": "view-in-github",
        "colab_type": "text"
      },
      "source": [
        "<a href=\"https://colab.research.google.com/github/casalazara/Machine-Learning-IELE/blob/master/Proyecto/Proyecto_ML.ipynb\" target=\"_parent\"><img src=\"https://colab.research.google.com/assets/colab-badge.svg\" alt=\"Open In Colab\"/></a>"
      ]
    },
    {
      "cell_type": "code",
      "metadata": {
        "id": "6nWTdLoZWk-1"
      },
      "source": [
        "import os\n",
        "import numpy as np \n",
        "import pandas as pd\n",
        "import tensorflow as tf\n",
        "import matplotlib.pyplot as plt\n",
        "%matplotlib inline\n",
        "from google.colab import drive\n",
        "from tensorflow.keras.applications import VGG16\n",
        "from tensorflow.keras.preprocessing.image import ImageDataGenerator\n",
        "from tensorflow.keras.utils import to_categorical\n",
        "from tensorflow import keras\n",
        "from tensorflow.keras import backend as K\n",
        "from sklearn.model_selection import train_test_split"
      ],
      "execution_count": 1,
      "outputs": []
    },
    {
      "cell_type": "markdown",
      "metadata": {
        "id": "ObcfKZe7XIU9"
      },
      "source": [
        "# Carga de datos"
      ]
    },
    {
      "cell_type": "markdown",
      "metadata": {
        "id": "0f_N9IB-XJka"
      },
      "source": [
        "## Directorio con los datos"
      ]
    },
    {
      "cell_type": "code",
      "metadata": {
        "colab": {
          "base_uri": "https://localhost:8080/"
        },
        "id": "G5X9-nX5XLG8",
        "outputId": "f42d42b3-607e-4a4d-9e3b-53021f5e9a1d"
      },
      "source": [
        "drive.mount('/gdrive')\n",
        "path = \"../gdrive/MyDrive/Data\""
      ],
      "execution_count": 2,
      "outputs": [
        {
          "output_type": "stream",
          "text": [
            "Drive already mounted at /gdrive; to attempt to forcibly remount, call drive.mount(\"/gdrive\", force_remount=True).\n"
          ],
          "name": "stdout"
        }
      ]
    },
    {
      "cell_type": "markdown",
      "metadata": {
        "id": "Oj2B7fjTXNAU"
      },
      "source": [
        "## Separación de los datos"
      ]
    },
    {
      "cell_type": "code",
      "metadata": {
        "id": "w-HHZdlCYFjF"
      },
      "source": [
        "data = []\n",
        "labels = []\n",
        "genres = [\"Cumbia\",\"Vallenato\",\"Salsa\",\"Merengue\",\"Bachata\"]\n",
        "for i in range(len(genres)):   \n",
        "    genre=genres[i]\n",
        "    for img in os.listdir(path+\"/\"+genre):\n",
        "      image=tf.keras.preprocessing.image.load_img(path+\"/\"+genre+\"/\"+img, color_mode='rgb', target_size= (300,300))\n",
        "      image=np.array(image)\n",
        "      data.append(image)\n",
        "      labels.append(i)\n",
        "\n",
        "data = np.array(data)\n",
        "labels = np.array(labels)\n",
        "labels = to_categorical(labels, 5)\n",
        "X_train, X_test_val, y_train, y_test_val = train_test_split(data, labels, test_size=0.2, random_state=42)\n",
        "X_test,X_val,y_test,y_val = train_test_split(X_test_val,y_test_val,test_size=.5,random_state=42)\n",
        "X_train.shape, X_test.shape, X_val.shape"
      ],
      "execution_count": null,
      "outputs": []
    },
    {
      "cell_type": "code",
      "metadata": {
        "id": "fgxPYpuIESHk"
      },
      "source": [
        "X_train[:2]"
      ],
      "execution_count": null,
      "outputs": []
    },
    {
      "cell_type": "code",
      "metadata": {
        "id": "lMmnU_PvdBYm"
      },
      "source": [
        "y_train[:2]"
      ],
      "execution_count": null,
      "outputs": []
    },
    {
      "cell_type": "code",
      "metadata": {
        "id": "99IBI63Cc7Mh"
      },
      "source": [
        "# Create an ImageDataGenerator\n",
        "train_datagen = ImageDataGenerator(rescale = 1./255.)\n",
        "validation_datagen = ImageDataGenerator(rescale = 1./255.)\n",
        "train_generator = train_datagen.flow(X_train, y_train, batch_size=8)\n",
        "validation_generator = validation_datagen.flow(X_val, y_val, batch_size=8)"
      ],
      "execution_count": null,
      "outputs": []
    },
    {
      "cell_type": "markdown",
      "metadata": {
        "id": "4lU2J-Otatta"
      },
      "source": [
        "# Modelo\n"
      ]
    },
    {
      "cell_type": "markdown",
      "metadata": {
        "id": "OPzqJ4FrcSEt"
      },
      "source": [
        "## Carga del modelo"
      ]
    },
    {
      "cell_type": "code",
      "metadata": {
        "id": "TJAr1ojYauqx"
      },
      "source": [
        "model=VGG16(include_top=False,input_shape=(300,300,3))"
      ],
      "execution_count": null,
      "outputs": []
    },
    {
      "cell_type": "markdown",
      "metadata": {
        "id": "6fir_h3pcUJ4"
      },
      "source": [
        "#Congelamiento de capas"
      ]
    },
    {
      "cell_type": "code",
      "metadata": {
        "id": "LzvZieDCaxQ0"
      },
      "source": [
        "for layer in model.layers:\n",
        "    layer.trainable=False"
      ],
      "execution_count": null,
      "outputs": []
    },
    {
      "cell_type": "markdown",
      "metadata": {
        "id": "aeS3FtWIcbw-"
      },
      "source": [
        "## Últimas capas"
      ]
    },
    {
      "cell_type": "code",
      "metadata": {
        "id": "DZdKZn_kcd4t"
      },
      "source": [
        "output=model.layers[-1].output\n",
        "model_final=tf.keras.layers.Flatten()(output)\n",
        "model_final=tf.keras.layers.Dense(512,activation='relu')(model_final)\n",
        "model_final=tf.keras.layers.Dense(64,activation='relu')(model_final)\n",
        "model_final=tf.keras.layers.Dense(5,activation='softmax')(model_final)"
      ],
      "execution_count": null,
      "outputs": []
    },
    {
      "cell_type": "markdown",
      "metadata": {
        "id": "ZWK6wMLJci4V"
      },
      "source": [
        "## Modelo final"
      ]
    },
    {
      "cell_type": "code",
      "metadata": {
        "id": "QILks2NXckOU"
      },
      "source": [
        "model=tf.keras.models.Model(model.input,model_final)"
      ],
      "execution_count": null,
      "outputs": []
    },
    {
      "cell_type": "markdown",
      "metadata": {
        "id": "Zzit6l7BCcNT"
      },
      "source": [
        "## Callback"
      ]
    },
    {
      "cell_type": "code",
      "metadata": {
        "id": "pXL07N-ZCeU7"
      },
      "source": [
        "class CustomCallback(keras.callbacks.Callback):\n",
        "    def __init__(self, weights_dir, patience=10, rate=0.5):\n",
        "        \"\"\"\n",
        "        Initializer Method\n",
        "        :param weights_dir: The directory of the model weights\n",
        "        :param patience: Number of epochs before reducing lr\n",
        "        :param rate: The rate to reduce the lr\n",
        "        \"\"\"\n",
        "        super(CustomCallback, self).__init__()\n",
        "        self.weights_dir = weights_dir\n",
        "        self.rate = rate\n",
        "        self.patience = patience\n",
        "\n",
        "    def on_train_begin(self, logs=None):\n",
        "        \"\"\"\n",
        "        Configurations to be taken an account on\n",
        "        before training begins.\n",
        "        :param logs: The logs from the output.\n",
        "        \"\"\"\n",
        "        self.best_loss = np.Inf\n",
        "        self.best_recall = 0\n",
        "        self.wait = 0\n",
        "        self.best_weights = None\n",
        "    \n",
        "    def on_epoch_end(self, epoch, logs=None):\n",
        "        \"\"\"\n",
        "        Method that is called each time an epoch ends\n",
        "        excecution\n",
        "        :param epoch: The current epoch of the training\n",
        "        :param logs: The logs from the output from an epoch ended\n",
        "        \"\"\"\n",
        "        # Current validation loss\n",
        "        current_loss = logs.get(\"val_loss\")\n",
        "        # Current validation Recall\n",
        "        current_recall = logs.get(\"val_Recall\")\n",
        "        if (current_loss < self.best_loss or \n",
        "            current_recall > self.best_recall):\n",
        "            # We save the model weights\n",
        "            # We wait again\n",
        "            # We assign the best loss and the best recall.\n",
        "            self.wait = 0\n",
        "            self.best_loss = current_loss\n",
        "            self.best_recall = current_recall\n",
        "            self.model.save_weights(self.weights_dir)\n",
        "            self.best_weights = self.model.get_weights()\n",
        "            print(\"\\nBest Weights Saved!!\")\n",
        "        else:\n",
        "            self.wait += 1\n",
        "            if self.wait >= self.patience:\n",
        "                # Reduce learning rate by the initialized rate.\n",
        "                self.wait = 0\n",
        "                print(f\"\\nEpoch {epoch}, Reducing Learning Rate\")\n",
        "                # We set the new learning rate\n",
        "                lr = K.get_value(self.model.optimizer.lr)\n",
        "                new_lr = lr * self.rate\n",
        "                K.set_value(self.model.optimizer.lr, new_lr)\n",
        "                print(f\"\\nLearning Rate Reduced: {new_lr}\")\n",
        "                # We load the best weights to continue the training.\n",
        "                self.model.set_weights(self.best_weights)\n",
        "                print(\"\\nBest Weights Loaded!!\")\n"
      ],
      "execution_count": null,
      "outputs": []
    },
    {
      "cell_type": "markdown",
      "metadata": {
        "id": "2pZn_C-wclwM"
      },
      "source": [
        "## Compilación"
      ]
    },
    {
      "cell_type": "code",
      "metadata": {
        "id": "ZAmxIK1TcnYX"
      },
      "source": [
        "model.compile(loss='categorical_crossentropy',optimizer='adam',metrics=['acc','Recall'])"
      ],
      "execution_count": null,
      "outputs": []
    },
    {
      "cell_type": "markdown",
      "metadata": {
        "id": "CfZZyUu4cn_T"
      },
      "source": [
        "## Entrenamiento"
      ]
    },
    {
      "cell_type": "code",
      "metadata": {
        "id": "gUEnuQRLcrR_"
      },
      "source": [
        "history = model.fit_generator(train_generator, epochs=2,validation_data = validation_generator, callbacks = [CustomCallback('./train_best_weights.h5')])"
      ],
      "execution_count": null,
      "outputs": []
    },
    {
      "cell_type": "code",
      "metadata": {
        "id": "3rR_4cgzoEm2"
      },
      "source": [
        "test_loss, test_acc = model.evaluate(X_test, y_test, verbose=0)\n",
        "print(f'Test loss: {test_loss}, Test acc: {test_acc}')"
      ],
      "execution_count": null,
      "outputs": []
    },
    {
      "cell_type": "markdown",
      "metadata": {
        "id": "fGtcHETNq9S-"
      },
      "source": [
        "## Evaluación"
      ]
    },
    {
      "cell_type": "code",
      "metadata": {
        "id": "UjRGf0CSq-dc"
      },
      "source": [
        "acc = history.history['acc']\n",
        "val_acc = history.history['val_acc']\n",
        "loss = history.history['loss']\n",
        "val_loss = history.history['val_loss']\n",
        "\n",
        "epochs = range(len(acc))\n",
        "\n",
        "plt.plot(epochs, acc, 'r', label='Training accuracy')\n",
        "plt.plot(epochs, val_acc, 'b', label='Validation accuracy')\n",
        "plt.title('Training and validation accuracy')\n",
        "plt.legend()\n",
        "plt.figure()\n",
        "\n",
        "plt.plot(epochs, loss, 'r', label='Training Loss')\n",
        "plt.plot(epochs, val_loss, 'b', label='Validation Loss')\n",
        "plt.title('Training and validation loss')\n",
        "plt.legend()\n",
        "\n",
        "plt.show()"
      ],
      "execution_count": null,
      "outputs": []
    },
    {
      "cell_type": "markdown",
      "metadata": {
        "id": "yk8fwD4KlGJz"
      },
      "source": [
        "## Guardado del modelo y pesos"
      ]
    },
    {
      "cell_type": "code",
      "metadata": {
        "id": "ICdgT_LolHbD"
      },
      "source": [
        "model.save_weights('best_weights.h5')\n",
        "model.save('model.h5')"
      ],
      "execution_count": null,
      "outputs": []
    }
  ]
}