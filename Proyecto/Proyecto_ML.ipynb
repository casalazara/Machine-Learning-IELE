{
  "nbformat": 4,
  "nbformat_minor": 0,
  "metadata": {
    "colab": {
      "name": "Proyecto_ML.ipynb",
      "provenance": [],
      "toc_visible": true,
      "include_colab_link": true
    },
    "kernelspec": {
      "name": "python3",
      "display_name": "Python 3"
    }
  },
  "cells": [
    {
      "cell_type": "markdown",
      "metadata": {
        "id": "view-in-github",
        "colab_type": "text"
      },
      "source": [
        "<a href=\"https://colab.research.google.com/github/casalazara/Machine-Learning-IELE/blob/master/Proyecto/Proyecto_ML.ipynb\" target=\"_parent\"><img src=\"https://colab.research.google.com/assets/colab-badge.svg\" alt=\"Open In Colab\"/></a>"
      ]
    },
    {
      "cell_type": "code",
      "metadata": {
        "id": "6nWTdLoZWk-1",
        "colab": {
          "base_uri": "https://localhost:8080/",
          "height": 239
        },
        "outputId": "c19f9566-3a66-4617-b899-aa91d49b5362"
      },
      "source": [
        "!pip install pydub\n",
        "import os\n",
        "import numpy as np \n",
        "import pandas as pd\n",
        "import tensorflow as tf\n",
        "import matplotlib.pyplot as plt\n",
        "%matplotlib inline\n",
        "from google.colab import drive\n",
        "from tensorflow.keras.applications import VGG16\n",
        "from tensorflow.keras.preprocessing.image import ImageDataGenerator\n",
        "from tensorflow.keras.utils import to_categorical\n",
        "from tensorflow import keras\n",
        "from tensorflow.keras import backend as K\n",
        "from sklearn.model_selection import train_test_split\n",
        "from google.colab import files\n",
        "from pydub import AudioSegment\n",
        "import librosa                    \n",
        "import librosa.display\n",
        "os.mkdir('./songs')\n",
        "os.mkdir(\"./spectograms\")"
      ],
      "execution_count": 23,
      "outputs": [
        {
          "output_type": "stream",
          "text": [
            "Requirement already satisfied: pydub in /usr/local/lib/python3.6/dist-packages (0.24.1)\n"
          ],
          "name": "stdout"
        },
        {
          "output_type": "error",
          "ename": "FileExistsError",
          "evalue": "ignored",
          "traceback": [
            "\u001b[0;31m---------------------------------------------------------------------------\u001b[0m",
            "\u001b[0;31mFileExistsError\u001b[0m                           Traceback (most recent call last)",
            "\u001b[0;32m<ipython-input-23-4fe6347e9754>\u001b[0m in \u001b[0;36m<module>\u001b[0;34m()\u001b[0m\n\u001b[1;32m     17\u001b[0m \u001b[0;32mimport\u001b[0m \u001b[0mlibrosa\u001b[0m\u001b[0;34m\u001b[0m\u001b[0;34m\u001b[0m\u001b[0m\n\u001b[1;32m     18\u001b[0m \u001b[0;32mimport\u001b[0m \u001b[0mlibrosa\u001b[0m\u001b[0;34m.\u001b[0m\u001b[0mdisplay\u001b[0m\u001b[0;34m\u001b[0m\u001b[0;34m\u001b[0m\u001b[0m\n\u001b[0;32m---> 19\u001b[0;31m \u001b[0mos\u001b[0m\u001b[0;34m.\u001b[0m\u001b[0mmkdir\u001b[0m\u001b[0;34m(\u001b[0m\u001b[0;34m'./songs'\u001b[0m\u001b[0;34m)\u001b[0m\u001b[0;34m\u001b[0m\u001b[0;34m\u001b[0m\u001b[0m\n\u001b[0m\u001b[1;32m     20\u001b[0m \u001b[0mos\u001b[0m\u001b[0;34m.\u001b[0m\u001b[0mmkdir\u001b[0m\u001b[0;34m(\u001b[0m\u001b[0;34m\"./spectograms\"\u001b[0m\u001b[0;34m)\u001b[0m\u001b[0;34m\u001b[0m\u001b[0;34m\u001b[0m\u001b[0m\n",
            "\u001b[0;31mFileExistsError\u001b[0m: [Errno 17] File exists: './songs'"
          ]
        }
      ]
    },
    {
      "cell_type": "markdown",
      "metadata": {
        "id": "ObcfKZe7XIU9"
      },
      "source": [
        "# Carga de datos"
      ]
    },
    {
      "cell_type": "markdown",
      "metadata": {
        "id": "NMogxuiKwacg"
      },
      "source": [
        "Se importa las librerías a usar y posteriormente los datos. Estos fueron generados anteriormente a partir de audios de 30 segundos de los distintos géneros musicales. Con las librerías librosa y matplotlib se generaron espectogramas de MEL de los audios, estas imágenes son las que nuestro modelo analizará."
      ]
    },
    {
      "cell_type": "markdown",
      "metadata": {
        "id": "0f_N9IB-XJka"
      },
      "source": [
        "## Directorio con los datos"
      ]
    },
    {
      "cell_type": "code",
      "metadata": {
        "id": "G5X9-nX5XLG8"
      },
      "source": [
        "drive.mount('/gdrive')\n",
        "path = \"../gdrive/MyDrive/spectograms\""
      ],
      "execution_count": null,
      "outputs": []
    },
    {
      "cell_type": "markdown",
      "metadata": {
        "id": "mRIgE87N9YYA"
      },
      "source": [
        "## Géneros"
      ]
    },
    {
      "cell_type": "code",
      "metadata": {
        "id": "bOJYe_q_9Z39"
      },
      "source": [
        "genres = [\"Cumbia\",\"Vallenato\",\"Salsa\",\"Merengue\",\"Bachata\"]"
      ],
      "execution_count": null,
      "outputs": []
    },
    {
      "cell_type": "code",
      "metadata": {
        "id": "BvkccRos-4tE"
      },
      "source": [
        "menor = 10000\r\n",
        "for i in range(len(genres)):   \r\n",
        "    genre=genres[i]\r\n",
        "    cont = 0\r\n",
        "    for img in os.listdir(path+\"/\"+genre):\r\n",
        "      cont += 1\r\n",
        "    if cont < menor:\r\n",
        "      menor = cont"
      ],
      "execution_count": null,
      "outputs": []
    },
    {
      "cell_type": "code",
      "metadata": {
        "id": "Ex5r4vYLAK-F"
      },
      "source": [
        "menor"
      ],
      "execution_count": null,
      "outputs": []
    },
    {
      "cell_type": "markdown",
      "metadata": {
        "id": "Oj2B7fjTXNAU"
      },
      "source": [
        "## Separación de los datos"
      ]
    },
    {
      "cell_type": "markdown",
      "metadata": {
        "id": "KloXi2ZYAM_3"
      },
      "source": [
        "Los datos son separados en los conjuntos de entrenamiento, validación y prueba, además de ser clasificados según su género. Los 3 conjuntos son mutuamente excluyentes y serán utilizados por el modelo."
      ]
    },
    {
      "cell_type": "code",
      "metadata": {
        "id": "w-HHZdlCYFjF"
      },
      "source": [
        "cont = 0\n",
        "data = []\n",
        "labels = []\n",
        "for i in range(len(genres)):   \n",
        "    genre=genres[i]\n",
        "    cont = 0\n",
        "    for img in os.listdir(path+\"/\"+genre):\n",
        "      if cont == menor:\n",
        "        break\n",
        "      cont += 1\n",
        "      image=tf.keras.preprocessing.image.load_img(path+\"/\"+genre+\"/\"+img, color_mode='rgb', target_size= (300,300))\n",
        "      image=np.array(image)\n",
        "      data.append(image)\n",
        "      labels.append(i)\n",
        "\n",
        "data = np.array(data)\n",
        "labels = np.array(labels)\n",
        "labels = to_categorical(labels, 5)\n",
        "X_train, X_test_val, y_train, y_test_val = train_test_split(data, labels, test_size=0.2, random_state=42)\n",
        "X_test,X_val,y_test,y_val = train_test_split(X_test_val,y_test_val,test_size=.5,random_state=42)\n",
        "X_train.shape, X_test.shape, X_val.shape"
      ],
      "execution_count": null,
      "outputs": []
    },
    {
      "cell_type": "code",
      "metadata": {
        "id": "fgxPYpuIESHk"
      },
      "source": [
        "X_train[:2]"
      ],
      "execution_count": null,
      "outputs": []
    },
    {
      "cell_type": "code",
      "metadata": {
        "id": "lMmnU_PvdBYm",
        "colab": {
          "base_uri": "https://localhost:8080/"
        },
        "outputId": "30f1441a-2442-4676-a294-120b252c60f9"
      },
      "source": [
        "y_train[:2]"
      ],
      "execution_count": 8,
      "outputs": [
        {
          "output_type": "execute_result",
          "data": {
            "text/plain": [
              "array([[0., 1., 0., 0., 0.],\n",
              "       [0., 0., 0., 0., 1.]], dtype=float32)"
            ]
          },
          "metadata": {
            "tags": []
          },
          "execution_count": 8
        }
      ]
    },
    {
      "cell_type": "markdown",
      "metadata": {
        "id": "u1M7qW6mAdF9"
      },
      "source": [
        "Se prepara los datos de validación y entrenamiento para que funcionen correctamente en el modelo."
      ]
    },
    {
      "cell_type": "code",
      "metadata": {
        "id": "99IBI63Cc7Mh"
      },
      "source": [
        "# Create an ImageDataGenerator\n",
        "train_datagen = ImageDataGenerator(rescale = 1./255.)\n",
        "validation_datagen = ImageDataGenerator(rescale = 1./255.)\n",
        "X_test = X_test/255.\n",
        "train_generator = train_datagen.flow(X_train, y_train, batch_size=8)\n",
        "validation_generator = validation_datagen.flow(X_val, y_val, batch_size=8)"
      ],
      "execution_count": 9,
      "outputs": []
    },
    {
      "cell_type": "markdown",
      "metadata": {
        "id": "4lU2J-Otatta"
      },
      "source": [
        "# Modelo\n"
      ]
    },
    {
      "cell_type": "markdown",
      "metadata": {
        "id": "2kSwS2l1AncC"
      },
      "source": [
        "Se carga el modelo VGG16 el cuál ya está previamente entrenado en la clasificación de imágenes. "
      ]
    },
    {
      "cell_type": "markdown",
      "metadata": {
        "id": "OPzqJ4FrcSEt"
      },
      "source": [
        "## Carga del modelo"
      ]
    },
    {
      "cell_type": "code",
      "metadata": {
        "id": "TJAr1ojYauqx",
        "colab": {
          "base_uri": "https://localhost:8080/"
        },
        "outputId": "15163f3d-c835-4bfa-ceea-76ef370567d2"
      },
      "source": [
        "model=VGG16(include_top=False,input_shape=(300,300,3))"
      ],
      "execution_count": 10,
      "outputs": [
        {
          "output_type": "stream",
          "text": [
            "Downloading data from https://storage.googleapis.com/tensorflow/keras-applications/vgg16/vgg16_weights_tf_dim_ordering_tf_kernels_notop.h5\n",
            "58892288/58889256 [==============================] - 0s 0us/step\n"
          ],
          "name": "stdout"
        }
      ]
    },
    {
      "cell_type": "markdown",
      "metadata": {
        "id": "6fir_h3pcUJ4"
      },
      "source": [
        "## Congelamiento de capas"
      ]
    },
    {
      "cell_type": "markdown",
      "metadata": {
        "id": "uNpRJ7fNAv36"
      },
      "source": [
        "Se \"congelan\" las capas pertenecientes al modelo VGG16 de forma que estas no se modifiquen durante el entrenamiento. Posteriormente a este modelo le agregaremos 3 capas diseñadas para el conjunto de datos nuestro."
      ]
    },
    {
      "cell_type": "code",
      "metadata": {
        "id": "LzvZieDCaxQ0"
      },
      "source": [
        "for layer in model.layers:\n",
        "    layer.trainable=False"
      ],
      "execution_count": 11,
      "outputs": []
    },
    {
      "cell_type": "markdown",
      "metadata": {
        "id": "aeS3FtWIcbw-"
      },
      "source": [
        "## Últimas capas"
      ]
    },
    {
      "cell_type": "markdown",
      "metadata": {
        "id": "bqvBjfTUAvSL"
      },
      "source": [
        "Se agregan las últimas capas orientadas al conjunto de imágenes que tenemos. La última capa tiene 5 neuronas pues hay 5 posibles clases."
      ]
    },
    {
      "cell_type": "code",
      "metadata": {
        "id": "DZdKZn_kcd4t"
      },
      "source": [
        "output=model.layers[-1].output\n",
        "model_final=tf.keras.layers.Flatten()(output)\n",
        "model_final=tf.keras.layers.Dense(512,activation='relu', kernel_regularizer=keras.regularizers.l1_l2())(model_final)\n",
        "model_final=tf.keras.layers.Dense(64,activation='relu', kernel_regularizer=keras.regularizers.l1_l2(0.001))(model_final)\n",
        "model_final=tf.keras.layers.Dense(5,activation='softmax')(model_final)"
      ],
      "execution_count": 12,
      "outputs": []
    },
    {
      "cell_type": "markdown",
      "metadata": {
        "id": "ZWK6wMLJci4V"
      },
      "source": [
        "## Modelo final"
      ]
    },
    {
      "cell_type": "code",
      "metadata": {
        "id": "QILks2NXckOU"
      },
      "source": [
        "model=tf.keras.models.Model(model.input,model_final)"
      ],
      "execution_count": 13,
      "outputs": []
    },
    {
      "cell_type": "markdown",
      "metadata": {
        "id": "Zzit6l7BCcNT"
      },
      "source": [
        "## Callback"
      ]
    },
    {
      "cell_type": "markdown",
      "metadata": {
        "id": "6mQjplSRBHwi"
      },
      "source": [
        "Creamos un callback para que utilize como base los mejores pesos que encontramos para la identificación de los géneros de estas canciones."
      ]
    },
    {
      "cell_type": "code",
      "metadata": {
        "id": "pXL07N-ZCeU7"
      },
      "source": [
        "class CustomCallback(keras.callbacks.Callback):\n",
        "    def __init__(self, weights_dir, patience=10, rate=0.5):\n",
        "        \"\"\"\n",
        "        Initializer Method\n",
        "        :param weights_dir: The directory of the model weights\n",
        "        :param patience: Number of epochs before reducing lr\n",
        "        :param rate: The rate to reduce the lr\n",
        "        \"\"\"\n",
        "        super(CustomCallback, self).__init__()\n",
        "        self.weights_dir = weights_dir\n",
        "        self.rate = rate\n",
        "        self.patience = patience\n",
        "\n",
        "    def on_train_begin(self, logs=None):\n",
        "        \"\"\"\n",
        "        Configurations to be taken an account on\n",
        "        before training begins.\n",
        "        :param logs: The logs from the output.\n",
        "        \"\"\"\n",
        "        self.best_loss = np.Inf\n",
        "        self.best_acc = 0\n",
        "        self.wait = 0\n",
        "        self.best_weights = None\n",
        "    \n",
        "    def on_epoch_end(self, epoch, logs=None):\n",
        "        \"\"\"\n",
        "        Method that is called each time an epoch ends\n",
        "        excecution\n",
        "        :param epoch: The current epoch of the training\n",
        "        :param logs: The logs from the output from an epoch ended\n",
        "        \"\"\"\n",
        "        # Current validation loss\n",
        "        current_loss = logs.get(\"val_loss\")\n",
        "        # Current validation Accuracy\n",
        "        current_acc = logs.get(\"val_acc\")\n",
        "        if (current_loss < self.best_loss and \n",
        "            current_acc > self.best_acc):\n",
        "            # We save the model weights\n",
        "            # We wait again\n",
        "            # We assign the best loss and the best accuracy.\n",
        "            self.wait = 0\n",
        "            self.best_loss = current_loss\n",
        "            self.best_acc = current_acc\n",
        "            self.model.z(self.weights_dir)\n",
        "            self.best_weights = self.model.get_weights()\n",
        "            print(\"\\nBest Weights Saved!!\")\n",
        "        else:\n",
        "            self.wait += 1\n",
        "            if self.wait >= self.patience:\n",
        "                # Reduce learning rate by the initialized rate.\n",
        "                self.wait = 0\n",
        "                print(f\"\\nEpoch {epoch}, Reducing Learning Rate\")\n",
        "                # We set the new learning rate\n",
        "                lr = K.get_value(self.model.optimizer.lr)\n",
        "                new_lr = lr * self.rate\n",
        "                K.set_value(self.model.optimizer.lr, new_lr)\n",
        "                print(f\"\\nLearning Rate Reduced: {new_lr}\")\n",
        "                # We load the best weights to continue the training.\n",
        "                self.model.set_weights(self.best_weights)\n",
        "                print(\"\\nBest Weights Loaded!!\")\n"
      ],
      "execution_count": 14,
      "outputs": []
    },
    {
      "cell_type": "markdown",
      "metadata": {
        "id": "2pZn_C-wclwM"
      },
      "source": [
        "## Compilación"
      ]
    },
    {
      "cell_type": "code",
      "metadata": {
        "id": "ZAmxIK1TcnYX"
      },
      "source": [
        "model.compile(loss='categorical_crossentropy',optimizer='adam',metrics=['acc'])"
      ],
      "execution_count": 15,
      "outputs": []
    },
    {
      "cell_type": "markdown",
      "metadata": {
        "id": "-VGpkW4EG_Ts"
      },
      "source": [
        "## Resumen del modelo"
      ]
    },
    {
      "cell_type": "code",
      "metadata": {
        "colab": {
          "base_uri": "https://localhost:8080/"
        },
        "id": "qidfCILcG94s",
        "outputId": "4f7752d5-bef5-40ed-d970-75b9ef127bfb"
      },
      "source": [
        "model.summary()"
      ],
      "execution_count": 16,
      "outputs": [
        {
          "output_type": "stream",
          "text": [
            "Model: \"functional_1\"\n",
            "_________________________________________________________________\n",
            "Layer (type)                 Output Shape              Param #   \n",
            "=================================================================\n",
            "input_1 (InputLayer)         [(None, 300, 300, 3)]     0         \n",
            "_________________________________________________________________\n",
            "block1_conv1 (Conv2D)        (None, 300, 300, 64)      1792      \n",
            "_________________________________________________________________\n",
            "block1_conv2 (Conv2D)        (None, 300, 300, 64)      36928     \n",
            "_________________________________________________________________\n",
            "block1_pool (MaxPooling2D)   (None, 150, 150, 64)      0         \n",
            "_________________________________________________________________\n",
            "block2_conv1 (Conv2D)        (None, 150, 150, 128)     73856     \n",
            "_________________________________________________________________\n",
            "block2_conv2 (Conv2D)        (None, 150, 150, 128)     147584    \n",
            "_________________________________________________________________\n",
            "block2_pool (MaxPooling2D)   (None, 75, 75, 128)       0         \n",
            "_________________________________________________________________\n",
            "block3_conv1 (Conv2D)        (None, 75, 75, 256)       295168    \n",
            "_________________________________________________________________\n",
            "block3_conv2 (Conv2D)        (None, 75, 75, 256)       590080    \n",
            "_________________________________________________________________\n",
            "block3_conv3 (Conv2D)        (None, 75, 75, 256)       590080    \n",
            "_________________________________________________________________\n",
            "block3_pool (MaxPooling2D)   (None, 37, 37, 256)       0         \n",
            "_________________________________________________________________\n",
            "block4_conv1 (Conv2D)        (None, 37, 37, 512)       1180160   \n",
            "_________________________________________________________________\n",
            "block4_conv2 (Conv2D)        (None, 37, 37, 512)       2359808   \n",
            "_________________________________________________________________\n",
            "block4_conv3 (Conv2D)        (None, 37, 37, 512)       2359808   \n",
            "_________________________________________________________________\n",
            "block4_pool (MaxPooling2D)   (None, 18, 18, 512)       0         \n",
            "_________________________________________________________________\n",
            "block5_conv1 (Conv2D)        (None, 18, 18, 512)       2359808   \n",
            "_________________________________________________________________\n",
            "block5_conv2 (Conv2D)        (None, 18, 18, 512)       2359808   \n",
            "_________________________________________________________________\n",
            "block5_conv3 (Conv2D)        (None, 18, 18, 512)       2359808   \n",
            "_________________________________________________________________\n",
            "block5_pool (MaxPooling2D)   (None, 9, 9, 512)         0         \n",
            "_________________________________________________________________\n",
            "flatten (Flatten)            (None, 41472)             0         \n",
            "_________________________________________________________________\n",
            "dense (Dense)                (None, 512)               21234176  \n",
            "_________________________________________________________________\n",
            "dense_1 (Dense)              (None, 64)                32832     \n",
            "_________________________________________________________________\n",
            "dense_2 (Dense)              (None, 5)                 325       \n",
            "=================================================================\n",
            "Total params: 35,982,021\n",
            "Trainable params: 21,267,333\n",
            "Non-trainable params: 14,714,688\n",
            "_________________________________________________________________\n"
          ],
          "name": "stdout"
        }
      ]
    },
    {
      "cell_type": "code",
      "metadata": {
        "id": "p67F3mCWvuNY"
      },
      "source": [
        "weights_path = path + \"/weights/\""
      ],
      "execution_count": 18,
      "outputs": []
    },
    {
      "cell_type": "markdown",
      "metadata": {
        "id": "CfZZyUu4cn_T"
      },
      "source": [
        "## Entrenamiento"
      ]
    },
    {
      "cell_type": "markdown",
      "metadata": {
        "id": "zm-0EcPyBUbG"
      },
      "source": [
        "Se entrena el modelo haciendo uso de los mejores pesos obtenidos con el callback."
      ]
    },
    {
      "cell_type": "code",
      "metadata": {
        "id": "gUEnuQRLcrR_",
        "colab": {
          "base_uri": "https://localhost:8080/"
        },
        "outputId": "2ea36b87-3c51-4912-9bca-73b54e4570ad"
      },
      "source": [
        "history = model.fit_generator(train_generator, epochs=5,\n",
        "                              validation_data = validation_generator, \n",
        "                              callbacks = [CustomCallback(weights_path+'train_best_weights_2.h5')])"
      ],
      "execution_count": 25,
      "outputs": [
        {
          "output_type": "stream",
          "text": [
            "Epoch 1/5\n",
            "317/317 [==============================] - ETA: 0s - loss: 0.2645 - acc: 0.9050\n",
            "Best Weights Saved!!\n",
            "317/317 [==============================] - 1507s 5s/step - loss: 0.2645 - acc: 0.9050 - val_loss: 0.8861 - val_acc: 0.7571\n",
            "Epoch 2/5\n",
            "317/317 [==============================] - 1485s 5s/step - loss: 0.2299 - acc: 0.9196 - val_loss: 0.7123 - val_acc: 0.7571\n",
            "Epoch 3/5\n",
            "317/317 [==============================] - ETA: 0s - loss: 0.1729 - acc: 0.9314\n",
            "Best Weights Saved!!\n",
            "317/317 [==============================] - 1493s 5s/step - loss: 0.1729 - acc: 0.9314 - val_loss: 0.6519 - val_acc: 0.8360\n",
            "Epoch 4/5\n",
            "317/317 [==============================] - 1484s 5s/step - loss: 0.1205 - acc: 0.9566 - val_loss: 1.0168 - val_acc: 0.7603\n",
            "Epoch 5/5\n",
            "317/317 [==============================] - ETA: 0s - loss: 0.1548 - acc: 0.9460\n",
            "Best Weights Saved!!\n",
            "317/317 [==============================] - 1488s 5s/step - loss: 0.1548 - acc: 0.9460 - val_loss: 0.5012 - val_acc: 0.8423\n"
          ],
          "name": "stdout"
        }
      ]
    },
    {
      "cell_type": "markdown",
      "metadata": {
        "id": "_UAeLUApByF_"
      },
      "source": [
        "Evaluamos el desempeño del modelo con el conjunto de prueba. Se ve un accuracy alto y pérdida relativamente baja."
      ]
    },
    {
      "cell_type": "code",
      "metadata": {
        "id": "3rR_4cgzoEm2",
        "colab": {
          "base_uri": "https://localhost:8080/"
        },
        "outputId": "5dd6d4c5-5980-47f0-9eef-67f475a5a420"
      },
      "source": [
        "test_loss, test_acc = model.evaluate(X_test, y_test, verbose=0)\n",
        "print(f'Test loss: {test_loss}, Test acc: {test_acc}')"
      ],
      "execution_count": 26,
      "outputs": [
        {
          "output_type": "stream",
          "text": [
            "Test loss: 0.506537675857544, Test acc: 0.8359621167182922\n"
          ],
          "name": "stdout"
        }
      ]
    },
    {
      "cell_type": "markdown",
      "metadata": {
        "id": "fGtcHETNq9S-"
      },
      "source": [
        "## Evaluación"
      ]
    },
    {
      "cell_type": "markdown",
      "metadata": {
        "id": "hpJvB2T2BcSt"
      },
      "source": [
        "Se genera una gráfica para evidenciar mejor los resultados."
      ]
    },
    {
      "cell_type": "code",
      "metadata": {
        "id": "UjRGf0CSq-dc",
        "colab": {
          "base_uri": "https://localhost:8080/",
          "height": 545
        },
        "outputId": "5062171f-23c0-485a-fa29-09153ad4b2e4"
      },
      "source": [
        "acc = history.history['acc']\n",
        "val_acc = history.history['val_acc']\n",
        "loss = history.history['loss']\n",
        "val_loss = history.history['val_loss']\n",
        "\n",
        "epochs = range(len(acc))\n",
        "\n",
        "plt.plot(epochs, acc, 'r', label='Training accuracy')\n",
        "plt.plot(epochs, val_acc, 'b', label='Validation accuracy')\n",
        "plt.title('Training and validation accuracy')\n",
        "plt.legend()\n",
        "plt.figure()\n",
        "\n",
        "plt.plot(epochs, loss, 'r', label='Training Loss')\n",
        "plt.plot(epochs, val_loss, 'b', label='Validation Loss')\n",
        "plt.title('Training and validation loss')\n",
        "plt.legend()\n",
        "\n",
        "plt.show()"
      ],
      "execution_count": 27,
      "outputs": [
        {
          "output_type": "display_data",
          "data": {
            "image/png": "[encoded data removed]",
            "text/plain": [
              "<Figure size 432x288 with 1 Axes>"
            ]
          },
          "metadata": {
            "tags": [],
            "needs_background": "light"
          }
        },
        {
          "output_type": "display_data",
          "data": {
            "image/png": "[encoded data removed]",
            "text/plain": [
              "<Figure size 432x288 with 1 Axes>"
            ]
          },
          "metadata": {
            "tags": [],
            "needs_background": "light"
          }
        }
      ]
    },
    {
      "cell_type": "markdown",
      "metadata": {
        "id": "yk8fwD4KlGJz"
      },
      "source": [
        "## Guardado del modelo y pesos"
      ]
    },
    {
      "cell_type": "code",
      "metadata": {
        "id": "fP3lRagAHbdP"
      },
      "source": [
        "model.save_weights(weights_path+'latest_weights_2.h5')\r\n",
        "model.save(weights_path+'model_2.h5')"
      ],
      "execution_count": 24,
      "outputs": []
    },
    {
      "cell_type": "markdown",
      "metadata": {
        "id": "Mf0ym6_FHXu5"
      },
      "source": [
        "## Carga de pesos "
      ]
    },
    {
      "cell_type": "code",
      "metadata": {
        "id": "jkLR3bnnHbIQ"
      },
      "source": [
        "model.load_weights(weights_path+'train_best_weights_2.h5')"
      ],
      "execution_count": null,
      "outputs": []
    },
    {
      "cell_type": "code",
      "metadata": {
        "id": "ngJqDhwFHZc3",
        "colab": {
          "base_uri": "https://localhost:8080/"
        },
        "outputId": "88a05b57-0ed4-465f-e8f9-dedc852a999b"
      },
      "source": [
        "test_loss, test_acc = model.evaluate(X_test, y_test, verbose=0)\n",
        "print(f'Test loss: {test_loss}, Test acc: {test_acc}')"
      ],
      "execution_count": null,
      "outputs": [
        {
          "output_type": "stream",
          "text": [
            "Test loss: 0.2670901417732239, Test acc: 0.9066666960716248\n"
          ],
          "name": "stdout"
        }
      ]
    },
    {
      "cell_type": "markdown",
      "metadata": {
        "id": "lino1A7DuTXp"
      },
      "source": [
        "# Prueba del modelo"
      ]
    },
    {
      "cell_type": "code",
      "metadata": {
        "id": "nm6xMdnDuUwQ"
      },
      "source": [
        "def split_song(song):\n",
        "  sound = AudioSegment.from_mp3(song)\n",
        "  # len() and slicing are in milliseconds\n",
        "  segment_size = 30000\n",
        "  parts = len(sound) // segment_size\n",
        "  for i in range(parts):\n",
        "    if segment_size*(i+1) < len(sound):\n",
        "      temp = sound[segment_size*i: segment_size*(i+1)]\n",
        "      temp.export(f'{songs_path}/{song.replace(\".mp3\",\"\")+\"_\"+str(i)}.mp3', format='mp3')\n",
        "\n",
        "def get_spectograms(song, img_dir=\"./spectograms\"):\n",
        "  for fil in os.listdir(songs_path):\n",
        "        if fil.startswith(song.replace(\".mp3\",\"\")):\n",
        "            y, sr = librosa.load(os.path.join(songs_path,fil))\n",
        "            melSpec = librosa.feature.melspectrogram(y=y, sr=sr, n_mels=128)\n",
        "            melSpec_dB = librosa.power_to_db(melSpec, ref=np.max)\n",
        "            plt.figure(figsize=(10, 5))\n",
        "            librosa.display.specshow(melSpec_dB, sr=sr, fmax=8000)\n",
        "            plt.tight_layout()\n",
        "            plt.savefig(img_dir+'/'+fil.split('.mp3')[0][:]+\".png\")\n",
        "            plt.close()\n",
        "\n",
        "def pre_process(song,img_dir=\"./spectograms\"):\n",
        "  data = []\n",
        "  for fil in os.listdir(img_dir):\n",
        "    if fil.startswith(song.replace(\".mp3\",\"\")):\n",
        "      image=tf.keras.preprocessing.image.load_img(img_dir+\"/\"+fil, color_mode='rgb', target_size= (300,300))\n",
        "      image=np.array(image)\n",
        "      data.append(image)\n",
        "  return np.array(data)/.255\n",
        "\n",
        "def predict_voting(predictions):\n",
        "  votes = {}\n",
        "  for prediction in predictions:\n",
        "    pos = np.argmax(prediction)\n",
        "    if genres[pos] in votes:\n",
        "      votes[genres[pos]]+=1\n",
        "    else:\n",
        "      votes[genres[pos]]=1\n",
        "  count = [ (genre,count) for genre, count in votes.items()]\n",
        "  print(\"Votos: \",count)\n",
        "  count.sort(key=lambda x: x[1],reverse=True)\n",
        "  return count[0]\n",
        "\n",
        "def predict_sum(predictions):\n",
        "  result_sum = np.sum(predictions,axis=0)\n",
        "  pos = np.argmax(result_sum)\n",
        "  result = {genres[i]: result_sum[i] for i in range(len(genres))}\n",
        "  print(\"Sumas: \", result)\n",
        "  return (genres[pos], result_sum[pos])"
      ],
      "execution_count": null,
      "outputs": []
    },
    {
      "cell_type": "code",
      "metadata": {
        "id": "OrGzSbln2gSM",
        "colab": {
          "resources": {
            "http://localhost:8080/nbextensions/google.colab/files.js": {
              "data": "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",
              "ok": true,
              "headers": [
                [
                  "content-type",
                  "application/javascript"
                ]
              ],
              "status": 200,
              "status_text": ""
            }
          },
          "base_uri": "https://localhost:8080/",
          "height": 1000
        },
        "outputId": "9fc386a8-3d4a-4d58-c06b-99910e4edbed"
      },
      "source": [
        "songs_path = './songs'\n",
        "uploaded = files.upload()"
      ],
      "execution_count": null,
      "outputs": [
        {
          "output_type": "display_data",
          "data": {
            "text/html": [
              "\n",
              "     <input type=\"file\" id=\"files-fe8e3618-aed7-4398-afb6-bcbabbad302c\" name=\"files[]\" multiple disabled\n",
              "        style=\"border:none\" />\n",
              "     <output id=\"result-fe8e3618-aed7-4398-afb6-bcbabbad302c\">\n",
              "      Upload widget is only available when the cell has been executed in the\n",
              "      current browser session. Please rerun this cell to enable.\n",
              "      </output>\n",
              "      <script src=\"/nbextensions/google.colab/files.js\"></script> "
            ],
            "text/plain": [
              "<IPython.core.display.HTML object>"
            ]
          },
          "metadata": {
            "tags": []
          }
        },
        {
          "output_type": "stream",
          "text": [
            "Saving sin-medir-distancias-diomedes-diaz-letra-oficial.mp3 to sin-medir-distancias-diomedes-diaz-letra-oficial.mp3\n",
            "Saving maldito-vicio-cumbia.mp3 to maldito-vicio-cumbia.mp3\n",
            "Saving tu-me-haces-falta-eddie-santiago-con-letra.mp3 to tu-me-haces-falta-eddie-santiago-con-letra.mp3\n",
            "Saving la-plata-diomedes-diaz-letra-oficial.mp3 to la-plata-diomedes-diaz-letra-oficial.mp3\n",
            "Saving eddy-herrera-tu-eres-ajena-video-oficial.mp3 to eddy-herrera-tu-eres-ajena-video-oficial.mp3\n",
            "Saving el-cantante.mp3 to el-cantante.mp3\n",
            "Saving los-corraleros-de-majagual-los-sabanales-video-stereo.mp3 to los-corraleros-de-majagual-los-sabanales-video-stereo.mp3\n",
            "Votos:  [('Merengue', 4), ('Salsa', 5)]\n",
            "Sumas:  {'Cumbia': 0.0, 'Vallenato': 0.0, 'Salsa': 5.0, 'Merengue': 4.0, 'Bachata': 0.0}\n",
            "Predicciones para la canción:  sin-medir-distancias-diomedes-diaz-letra-oficial.mp3 Ganador por votación:  ('Salsa', 5) Ganador por suma:  ('Salsa', 5.0)\n",
            "Probabilidades por parte:  [[0.0000000e+00 0.0000000e+00 0.0000000e+00 1.0000000e+00 0.0000000e+00]\n",
            " [0.0000000e+00 0.0000000e+00 1.0000000e+00 0.0000000e+00 0.0000000e+00]\n",
            " [0.0000000e+00 0.0000000e+00 1.0000000e+00 0.0000000e+00 0.0000000e+00]\n",
            " [0.0000000e+00 0.0000000e+00 0.0000000e+00 1.0000000e+00 0.0000000e+00]\n",
            " [0.0000000e+00 0.0000000e+00 1.0000000e+00 0.0000000e+00 0.0000000e+00]\n",
            " [0.0000000e+00 0.0000000e+00 1.0000000e+00 0.0000000e+00 0.0000000e+00]\n",
            " [0.0000000e+00 0.0000000e+00 2.0764445e-20 1.0000000e+00 0.0000000e+00]\n",
            " [0.0000000e+00 0.0000000e+00 1.0000000e+00 0.0000000e+00 0.0000000e+00]\n",
            " [0.0000000e+00 0.0000000e+00 0.0000000e+00 1.0000000e+00 0.0000000e+00]]\n",
            "Votos:  [('Salsa', 2), ('Merengue', 4)]\n",
            "Sumas:  {'Cumbia': 0.0, 'Vallenato': 0.0, 'Salsa': 2.0, 'Merengue': 4.0, 'Bachata': 0.0}\n",
            "Predicciones para la canción:  maldito-vicio-cumbia.mp3 Ganador por votación:  ('Merengue', 4) Ganador por suma:  ('Merengue', 4.0)\n",
            "Probabilidades por parte:  [[0.0000000e+00 0.0000000e+00 1.0000000e+00 0.0000000e+00 0.0000000e+00]\n",
            " [0.0000000e+00 0.0000000e+00 0.0000000e+00 1.0000000e+00 0.0000000e+00]\n",
            " [0.0000000e+00 0.0000000e+00 1.0000000e+00 0.0000000e+00 0.0000000e+00]\n",
            " [0.0000000e+00 0.0000000e+00 3.0269287e-29 1.0000000e+00 0.0000000e+00]\n",
            " [0.0000000e+00 0.0000000e+00 0.0000000e+00 1.0000000e+00 0.0000000e+00]\n",
            " [0.0000000e+00 0.0000000e+00 0.0000000e+00 1.0000000e+00 0.0000000e+00]]\n",
            "Votos:  [('Salsa', 4), ('Merengue', 4), ('Vallenato', 1)]\n",
            "Sumas:  {'Cumbia': 0.0, 'Vallenato': 1.0, 'Salsa': 4.0003343, 'Merengue': 3.9996657, 'Bachata': 0.0}\n",
            "Predicciones para la canción:  tu-me-haces-falta-eddie-santiago-con-letra.mp3 Ganador por votación:  ('Salsa', 4) Ganador por suma:  ('Salsa', 4.0003343)\n",
            "Probabilidades por parte:  [[0.0000000e+00 5.3649570e-33 1.0000000e+00 8.9411845e-19 0.0000000e+00]\n",
            " [0.0000000e+00 2.8795592e-36 6.9310878e-29 1.0000000e+00 0.0000000e+00]\n",
            " [0.0000000e+00 1.0000000e+00 0.0000000e+00 0.0000000e+00 0.0000000e+00]\n",
            " [0.0000000e+00 0.0000000e+00 1.0000000e+00 5.0247972e-20 0.0000000e+00]\n",
            " [0.0000000e+00 0.0000000e+00 1.0000000e+00 1.0105901e-11 0.0000000e+00]\n",
            " [0.0000000e+00 2.0750647e-22 0.0000000e+00 1.0000000e+00 0.0000000e+00]\n",
            " [0.0000000e+00 0.0000000e+00 1.0000000e+00 0.0000000e+00 0.0000000e+00]\n",
            " [0.0000000e+00 0.0000000e+00 9.2011865e-10 1.0000000e+00 0.0000000e+00]\n",
            " [0.0000000e+00 0.0000000e+00 3.3412981e-04 9.9966586e-01 0.0000000e+00]]\n",
            "Votos:  [('Merengue', 8), ('Vallenato', 1)]\n",
            "Sumas:  {'Cumbia': 0.0, 'Vallenato': 1.0, 'Salsa': 1.3218664e-16, 'Merengue': 8.0, 'Bachata': 0.0}\n",
            "Predicciones para la canción:  la-plata-diomedes-diaz-letra-oficial.mp3 Ganador por votación:  ('Merengue', 8) Ganador por suma:  ('Merengue', 8.0)\n",
            "Probabilidades por parte:  [[0.0000000e+00 0.0000000e+00 0.0000000e+00 1.0000000e+00 0.0000000e+00]\n",
            " [0.0000000e+00 1.0000000e+00 1.3218664e-16 0.0000000e+00 0.0000000e+00]\n",
            " [0.0000000e+00 0.0000000e+00 0.0000000e+00 1.0000000e+00 0.0000000e+00]\n",
            " [0.0000000e+00 0.0000000e+00 0.0000000e+00 1.0000000e+00 0.0000000e+00]\n",
            " [0.0000000e+00 0.0000000e+00 0.0000000e+00 1.0000000e+00 0.0000000e+00]\n",
            " [0.0000000e+00 0.0000000e+00 0.0000000e+00 1.0000000e+00 0.0000000e+00]\n",
            " [0.0000000e+00 0.0000000e+00 1.8866773e-34 1.0000000e+00 0.0000000e+00]\n",
            " [0.0000000e+00 0.0000000e+00 0.0000000e+00 1.0000000e+00 0.0000000e+00]\n",
            " [0.0000000e+00 0.0000000e+00 0.0000000e+00 1.0000000e+00 0.0000000e+00]]\n",
            "Votos:  [('Merengue', 9)]\n",
            "Sumas:  {'Cumbia': 0.0, 'Vallenato': 0.0, 'Salsa': 0.0, 'Merengue': 9.0, 'Bachata': 0.0}\n",
            "Predicciones para la canción:  eddy-herrera-tu-eres-ajena-video-oficial.mp3 Ganador por votación:  ('Merengue', 9) Ganador por suma:  ('Merengue', 9.0)\n",
            "Probabilidades por parte:  [[0. 0. 0. 1. 0.]\n",
            " [0. 0. 0. 1. 0.]\n",
            " [0. 0. 0. 1. 0.]\n",
            " [0. 0. 0. 1. 0.]\n",
            " [0. 0. 0. 1. 0.]\n",
            " [0. 0. 0. 1. 0.]\n",
            " [0. 0. 0. 1. 0.]\n",
            " [0. 0. 0. 1. 0.]\n",
            " [0. 0. 0. 1. 0.]]\n",
            "Votos:  [('Salsa', 15), ('Vallenato', 3), ('Merengue', 2)]\n",
            "Sumas:  {'Cumbia': 0.0, 'Vallenato': 3.0, 'Salsa': 15.007803, 'Merengue': 1.9921973, 'Bachata': 0.0}\n",
            "Predicciones para la canción:  el-cantante.mp3 Ganador por votación:  ('Salsa', 15) Ganador por suma:  ('Salsa', 15.007803)\n",
            "Probabilidades por parte:  [[0.0000000e+00 0.0000000e+00 1.0000000e+00 0.0000000e+00 0.0000000e+00]\n",
            " [0.0000000e+00 1.0000000e+00 0.0000000e+00 0.0000000e+00 0.0000000e+00]\n",
            " [0.0000000e+00 0.0000000e+00 1.0000000e+00 0.0000000e+00 0.0000000e+00]\n",
            " [0.0000000e+00 0.0000000e+00 1.0000000e+00 0.0000000e+00 0.0000000e+00]\n",
            " [0.0000000e+00 0.0000000e+00 0.0000000e+00 1.0000000e+00 0.0000000e+00]\n",
            " [0.0000000e+00 0.0000000e+00 1.0000000e+00 0.0000000e+00 0.0000000e+00]\n",
            " [0.0000000e+00 0.0000000e+00 1.0000000e+00 5.1330205e-27 0.0000000e+00]\n",
            " [0.0000000e+00 0.0000000e+00 1.0000000e+00 0.0000000e+00 0.0000000e+00]\n",
            " [0.0000000e+00 0.0000000e+00 1.0000000e+00 0.0000000e+00 0.0000000e+00]\n",
            " [0.0000000e+00 1.0000000e+00 0.0000000e+00 9.0818952e-09 0.0000000e+00]\n",
            " [0.0000000e+00 0.0000000e+00 7.8027649e-03 9.9219722e-01 0.0000000e+00]\n",
            " [0.0000000e+00 0.0000000e+00 1.0000000e+00 0.0000000e+00 0.0000000e+00]\n",
            " [0.0000000e+00 0.0000000e+00 1.0000000e+00 0.0000000e+00 0.0000000e+00]\n",
            " [0.0000000e+00 0.0000000e+00 1.0000000e+00 0.0000000e+00 0.0000000e+00]\n",
            " [0.0000000e+00 0.0000000e+00 1.0000000e+00 0.0000000e+00 0.0000000e+00]\n",
            " [0.0000000e+00 0.0000000e+00 1.0000000e+00 0.0000000e+00 0.0000000e+00]\n",
            " [0.0000000e+00 0.0000000e+00 1.0000000e+00 0.0000000e+00 0.0000000e+00]\n",
            " [0.0000000e+00 0.0000000e+00 1.0000000e+00 0.0000000e+00 0.0000000e+00]\n",
            " [0.0000000e+00 1.0000000e+00 0.0000000e+00 0.0000000e+00 0.0000000e+00]\n",
            " [0.0000000e+00 0.0000000e+00 1.0000000e+00 0.0000000e+00 0.0000000e+00]]\n",
            "Votos:  [('Merengue', 5)]\n",
            "Sumas:  {'Cumbia': 2.7457059e-27, 'Vallenato': 0.0, 'Salsa': 3.637234e-19, 'Merengue': 5.0, 'Bachata': 3.458531e-32}\n",
            "Predicciones para la canción:  los-corraleros-de-majagual-los-sabanales-video-stereo.mp3 Ganador por votación:  ('Merengue', 5) Ganador por suma:  ('Merengue', 5.0)\n",
            "Probabilidades por parte:  [[0.0000000e+00 0.0000000e+00 0.0000000e+00 1.0000000e+00 0.0000000e+00]\n",
            " [0.0000000e+00 0.0000000e+00 0.0000000e+00 1.0000000e+00 0.0000000e+00]\n",
            " [0.0000000e+00 0.0000000e+00 2.3819964e-38 1.0000000e+00 0.0000000e+00]\n",
            " [0.0000000e+00 0.0000000e+00 3.6372341e-19 1.0000000e+00 3.4585310e-32]\n",
            " [2.7457059e-27 0.0000000e+00 0.0000000e+00 1.0000000e+00 0.0000000e+00]]\n"
          ],
          "name": "stdout"
        }
      ]
    },
    {
      "cell_type": "code",
      "metadata": {
        "colab": {
          "base_uri": "https://localhost:8080/"
        },
        "id": "lPd3pdinInLJ",
        "outputId": "a464abd8-1754-4d01-eef4-1819e267bade"
      },
      "source": [
        "for song in uploaded:\n",
        "  split_song(song)\n",
        "  get_spectograms(song)\n",
        "  specs = pre_process(song)\n",
        "  predictions = model.predict(specs)\n",
        "  print(\"Predicciones para la canción: \", song, \n",
        "        \"\\n Ganador por votación: \", predict_voting(predictions), \n",
        "        \"\\n Ganador por suma: \", predict_sum(predictions))\n",
        "  print(genres)\n",
        "  print(\"Probabilidades por parte: \", predictions)\n",
        "  print(\"#\"*300)"
      ],
      "execution_count": null,
      "outputs": [
        {
          "output_type": "stream",
          "text": [
            "Votos:  [('Merengue', 3), ('Salsa', 6)]\n",
            "Sumas:  {'Cumbia': 0.0, 'Vallenato': 0.0, 'Salsa': 5.8428755, 'Merengue': 3.1571248, 'Bachata': 0.0}\n",
            "Predicciones para la canción:  sin-medir-distancias-diomedes-diaz-letra-oficial.mp3 \n",
            " Ganador por votación:  ('Salsa', 6) \n",
            " Ganador por suma:  ('Salsa', 5.8428755)\n",
            "['Cumbia', 'Vallenato', 'Salsa', 'Merengue', 'Bachata']\n",
            "Probabilidades por parte:  [[0.         0.         0.         1.         0.        ]\n",
            " [0.         0.         1.         0.         0.        ]\n",
            " [0.         0.         1.         0.         0.        ]\n",
            " [0.         0.         0.         1.         0.        ]\n",
            " [0.         0.         1.         0.         0.        ]\n",
            " [0.         0.         1.         0.         0.        ]\n",
            " [0.         0.         0.84287524 0.15712473 0.        ]\n",
            " [0.         0.         1.         0.         0.        ]\n",
            " [0.         0.         0.         1.         0.        ]]\n",
            "############################################################################################################################################################################################################################################################################################################\n",
            "Votos:  [('Salsa', 3), ('Merengue', 3)]\n",
            "Sumas:  {'Cumbia': 0.0, 'Vallenato': 8.280668e-35, 'Salsa': 3.0000129, 'Merengue': 2.9999871, 'Bachata': 0.0}\n",
            "Predicciones para la canción:  maldito-vicio-cumbia.mp3 \n",
            " Ganador por votación:  ('Salsa', 3) \n",
            " Ganador por suma:  ('Salsa', 3.0000129)\n",
            "['Cumbia', 'Vallenato', 'Salsa', 'Merengue', 'Bachata']\n",
            "Probabilidades por parte:  [[0.0000000e+00 0.0000000e+00 1.0000000e+00 0.0000000e+00 0.0000000e+00]\n",
            " [0.0000000e+00 0.0000000e+00 0.0000000e+00 1.0000000e+00 0.0000000e+00]\n",
            " [0.0000000e+00 0.0000000e+00 1.0000000e+00 0.0000000e+00 0.0000000e+00]\n",
            " [0.0000000e+00 8.2806678e-35 1.0000000e+00 6.2544899e-19 0.0000000e+00]\n",
            " [0.0000000e+00 0.0000000e+00 1.2800005e-05 9.9998724e-01 0.0000000e+00]\n",
            " [0.0000000e+00 0.0000000e+00 0.0000000e+00 1.0000000e+00 0.0000000e+00]]\n",
            "############################################################################################################################################################################################################################################################################################################\n",
            "Votos:  [('Salsa', 7), ('Vallenato', 2)]\n",
            "Sumas:  {'Cumbia': 0.0, 'Vallenato': 2.0, 'Salsa': 6.921505, 'Merengue': 0.07849532, 'Bachata': 0.0}\n",
            "Predicciones para la canción:  tu-me-haces-falta-eddie-santiago-con-letra.mp3 \n",
            " Ganador por votación:  ('Salsa', 7) \n",
            " Ganador por suma:  ('Salsa', 6.921505)\n",
            "['Cumbia', 'Vallenato', 'Salsa', 'Merengue', 'Bachata']\n",
            "Probabilidades por parte:  [[0.0000000e+00 3.3678785e-38 1.0000000e+00 1.5554507e-37 0.0000000e+00]\n",
            " [0.0000000e+00 6.8734297e-15 9.6189725e-01 3.8102701e-02 0.0000000e+00]\n",
            " [0.0000000e+00 1.0000000e+00 0.0000000e+00 0.0000000e+00 0.0000000e+00]\n",
            " [0.0000000e+00 0.0000000e+00 1.0000000e+00 0.0000000e+00 0.0000000e+00]\n",
            " [0.0000000e+00 0.0000000e+00 1.0000000e+00 0.0000000e+00 0.0000000e+00]\n",
            " [0.0000000e+00 1.0000000e+00 1.0877763e-18 7.6833379e-32 0.0000000e+00]\n",
            " [0.0000000e+00 0.0000000e+00 1.0000000e+00 0.0000000e+00 0.0000000e+00]\n",
            " [0.0000000e+00 0.0000000e+00 1.0000000e+00 1.1662621e-17 0.0000000e+00]\n",
            " [0.0000000e+00 0.0000000e+00 9.5960742e-01 4.0392622e-02 0.0000000e+00]]\n",
            "############################################################################################################################################################################################################################################################################################################\n",
            "Votos:  [('Merengue', 7), ('Vallenato', 1), ('Salsa', 1)]\n",
            "Sumas:  {'Cumbia': 0.0, 'Vallenato': 1.0, 'Salsa': 1.0099843, 'Merengue': 6.9900155, 'Bachata': 0.0}\n",
            "Predicciones para la canción:  la-plata-diomedes-diaz-letra-oficial.mp3 \n",
            " Ganador por votación:  ('Merengue', 7) \n",
            " Ganador por suma:  ('Merengue', 6.9900155)\n",
            "['Cumbia', 'Vallenato', 'Salsa', 'Merengue', 'Bachata']\n",
            "Probabilidades por parte:  [[0.0000000e+00 0.0000000e+00 0.0000000e+00 1.0000000e+00 0.0000000e+00]\n",
            " [0.0000000e+00 1.0000000e+00 2.5129740e-15 0.0000000e+00 0.0000000e+00]\n",
            " [0.0000000e+00 0.0000000e+00 6.2063317e-21 1.0000000e+00 0.0000000e+00]\n",
            " [0.0000000e+00 0.0000000e+00 0.0000000e+00 1.0000000e+00 0.0000000e+00]\n",
            " [0.0000000e+00 0.0000000e+00 0.0000000e+00 1.0000000e+00 0.0000000e+00]\n",
            " [0.0000000e+00 0.0000000e+00 9.9842669e-03 9.9001569e-01 0.0000000e+00]\n",
            " [0.0000000e+00 0.0000000e+00 1.0000000e+00 4.6332540e-17 0.0000000e+00]\n",
            " [0.0000000e+00 0.0000000e+00 0.0000000e+00 1.0000000e+00 0.0000000e+00]\n",
            " [0.0000000e+00 0.0000000e+00 0.0000000e+00 1.0000000e+00 0.0000000e+00]]\n",
            "############################################################################################################################################################################################################################################################################################################\n",
            "Votos:  [('Merengue', 9)]\n",
            "Sumas:  {'Cumbia': 0.0, 'Vallenato': 0.0, 'Salsa': 0.0, 'Merengue': 9.0, 'Bachata': 0.0}\n",
            "Predicciones para la canción:  eddy-herrera-tu-eres-ajena-video-oficial.mp3 \n",
            " Ganador por votación:  ('Merengue', 9) \n",
            " Ganador por suma:  ('Merengue', 9.0)\n",
            "['Cumbia', 'Vallenato', 'Salsa', 'Merengue', 'Bachata']\n",
            "Probabilidades por parte:  [[0. 0. 0. 1. 0.]\n",
            " [0. 0. 0. 1. 0.]\n",
            " [0. 0. 0. 1. 0.]\n",
            " [0. 0. 0. 1. 0.]\n",
            " [0. 0. 0. 1. 0.]\n",
            " [0. 0. 0. 1. 0.]\n",
            " [0. 0. 0. 1. 0.]\n",
            " [0. 0. 0. 1. 0.]\n",
            " [0. 0. 0. 1. 0.]]\n",
            "############################################################################################################################################################################################################################################################################################################\n",
            "Votos:  [('Salsa', 16), ('Vallenato', 3), ('Merengue', 1)]\n",
            "Sumas:  {'Cumbia': 0.0, 'Vallenato': 3.0, 'Salsa': 16.0, 'Merengue': 1.0, 'Bachata': 0.0}\n",
            "Predicciones para la canción:  el-cantante.mp3 \n",
            " Ganador por votación:  ('Salsa', 16) \n",
            " Ganador por suma:  ('Salsa', 16.0)\n",
            "['Cumbia', 'Vallenato', 'Salsa', 'Merengue', 'Bachata']\n",
            "Probabilidades por parte:  [[0.0000000e+00 0.0000000e+00 1.0000000e+00 0.0000000e+00 0.0000000e+00]\n",
            " [0.0000000e+00 1.0000000e+00 0.0000000e+00 0.0000000e+00 0.0000000e+00]\n",
            " [0.0000000e+00 0.0000000e+00 1.0000000e+00 0.0000000e+00 0.0000000e+00]\n",
            " [0.0000000e+00 0.0000000e+00 1.0000000e+00 0.0000000e+00 0.0000000e+00]\n",
            " [0.0000000e+00 0.0000000e+00 0.0000000e+00 1.0000000e+00 0.0000000e+00]\n",
            " [0.0000000e+00 0.0000000e+00 1.0000000e+00 0.0000000e+00 0.0000000e+00]\n",
            " [0.0000000e+00 0.0000000e+00 1.0000000e+00 0.0000000e+00 0.0000000e+00]\n",
            " [0.0000000e+00 0.0000000e+00 1.0000000e+00 0.0000000e+00 0.0000000e+00]\n",
            " [0.0000000e+00 0.0000000e+00 1.0000000e+00 0.0000000e+00 0.0000000e+00]\n",
            " [0.0000000e+00 1.0000000e+00 0.0000000e+00 0.0000000e+00 0.0000000e+00]\n",
            " [0.0000000e+00 0.0000000e+00 1.0000000e+00 1.3593248e-22 0.0000000e+00]\n",
            " [0.0000000e+00 0.0000000e+00 1.0000000e+00 0.0000000e+00 0.0000000e+00]\n",
            " [0.0000000e+00 0.0000000e+00 1.0000000e+00 0.0000000e+00 0.0000000e+00]\n",
            " [0.0000000e+00 0.0000000e+00 1.0000000e+00 0.0000000e+00 0.0000000e+00]\n",
            " [0.0000000e+00 0.0000000e+00 1.0000000e+00 0.0000000e+00 0.0000000e+00]\n",
            " [0.0000000e+00 0.0000000e+00 1.0000000e+00 3.0327779e-36 0.0000000e+00]\n",
            " [0.0000000e+00 0.0000000e+00 1.0000000e+00 0.0000000e+00 0.0000000e+00]\n",
            " [0.0000000e+00 0.0000000e+00 1.0000000e+00 0.0000000e+00 0.0000000e+00]\n",
            " [0.0000000e+00 1.0000000e+00 0.0000000e+00 0.0000000e+00 0.0000000e+00]\n",
            " [0.0000000e+00 0.0000000e+00 1.0000000e+00 0.0000000e+00 0.0000000e+00]]\n",
            "############################################################################################################################################################################################################################################################################################################\n",
            "Votos:  [('Merengue', 4), ('Salsa', 1)]\n",
            "Sumas:  {'Cumbia': 0.0, 'Vallenato': 0.0, 'Salsa': 0.9999943, 'Merengue': 4.0000057, 'Bachata': 0.0}\n",
            "Predicciones para la canción:  los-corraleros-de-majagual-los-sabanales-video-stereo.mp3 \n",
            " Ganador por votación:  ('Merengue', 4) \n",
            " Ganador por suma:  ('Merengue', 4.0000057)\n",
            "['Cumbia', 'Vallenato', 'Salsa', 'Merengue', 'Bachata']\n",
            "Probabilidades por parte:  [[0.0000000e+00 0.0000000e+00 0.0000000e+00 1.0000000e+00 0.0000000e+00]\n",
            " [0.0000000e+00 0.0000000e+00 3.7158322e-31 1.0000000e+00 0.0000000e+00]\n",
            " [0.0000000e+00 0.0000000e+00 9.9999428e-01 5.7183579e-06 0.0000000e+00]\n",
            " [0.0000000e+00 0.0000000e+00 0.0000000e+00 1.0000000e+00 0.0000000e+00]\n",
            " [0.0000000e+00 0.0000000e+00 0.0000000e+00 1.0000000e+00 0.0000000e+00]]\n",
            "############################################################################################################################################################################################################################################################################################################\n"
          ],
          "name": "stdout"
        }
      ]
    },
    {
      "cell_type": "code",
      "metadata": {
        "id": "avEdtx13JZab",
        "colab": {
          "base_uri": "https://localhost:8080/",
          "height": 282
        },
        "outputId": "4fc2c384-2939-40b7-dabc-d8c3fb5862f1"
      },
      "source": [
        "g = {}\n",
        "for row in y_train:\n",
        "  pos = np.argmax(row)\n",
        "  if genres[pos] not in g:\n",
        "    g[genres[pos]] = 1\n",
        "  else:\n",
        "    g[genres[pos]] +=1\n",
        "plt.bar([x for x in g],[g[x] for x in g])"
      ],
      "execution_count": null,
      "outputs": [
        {
          "output_type": "execute_result",
          "data": {
            "text/plain": [
              "<BarContainer object of 5 artists>"
            ]
          },
          "metadata": {
            "tags": []
          },
          "execution_count": 24
        },
        {
          "output_type": "display_data",
          "data": {
            "image/png": "[encoded data removed]",
            "text/plain": [
              "<Figure size 432x288 with 1 Axes>"
            ]
          },
          "metadata": {
            "tags": [],
            "needs_background": "light"
          }
        }
      ]
    }
  ]
}