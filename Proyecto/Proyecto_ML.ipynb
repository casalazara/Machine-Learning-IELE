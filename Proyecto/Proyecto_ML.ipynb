{
  "nbformat": 4,
  "nbformat_minor": 0,
  "metadata": {
    "colab": {
      "name": "Proyecto_ML.ipynb",
      "provenance": [],
      "toc_visible": true,
      "include_colab_link": true
    },
    "kernelspec": {
      "name": "python3",
      "display_name": "Python 3"
    }
  },
  "cells": [
    {
      "cell_type": "markdown",
      "metadata": {
        "id": "view-in-github",
        "colab_type": "text"
      },
      "source": [
        "<a href=\"https://colab.research.google.com/github/casalazara/Machine-Learning-IELE/blob/master/Proyecto/Proyecto_ML.ipynb\" target=\"_parent\"><img src=\"https://colab.research.google.com/assets/colab-badge.svg\" alt=\"Open In Colab\"/></a>"
      ]
    },
    {
      "cell_type": "code",
      "metadata": {
        "id": "6nWTdLoZWk-1",
        "colab": {
          "base_uri": "https://localhost:8080/"
        },
        "outputId": "d294ac9a-c263-438b-ecd4-b603f6a03c22"
      },
      "source": [
        "!pip install pydub\n",
        "import os\n",
        "import numpy as np \n",
        "import pandas as pd\n",
        "import tensorflow as tf\n",
        "import matplotlib.pyplot as plt\n",
        "%matplotlib inline\n",
        "from google.colab import drive\n",
        "from tensorflow.keras.applications import VGG16\n",
        "from tensorflow.keras.preprocessing.image import ImageDataGenerator\n",
        "from tensorflow.keras.utils import to_categorical\n",
        "from tensorflow import keras\n",
        "from tensorflow.keras import backend as K\n",
        "from sklearn.model_selection import train_test_split\n",
        "from google.colab import files\n",
        "from pydub import AudioSegment\n",
        "import librosa                    \n",
        "import librosa.display\n",
        "os.mkdir('./songs')\n",
        "os.mkdir(\"./spectograms\")"
      ],
      "execution_count": 1,
      "outputs": [
        {
          "output_type": "stream",
          "text": [
            "Collecting pydub\n",
            "  Downloading https://files.pythonhosted.org/packages/7b/d1/fbfa79371a8cd9bb15c2e3c480d7e6e340ed5cc55005174e16f48418333a/pydub-0.24.1-py2.py3-none-any.whl\n",
            "Installing collected packages: pydub\n",
            "Successfully installed pydub-0.24.1\n"
          ],
          "name": "stdout"
        }
      ]
    },
    {
      "cell_type": "markdown",
      "metadata": {
        "id": "ObcfKZe7XIU9"
      },
      "source": [
        "# Carga de datos"
      ]
    },
    {
      "cell_type": "markdown",
      "metadata": {
        "id": "NMogxuiKwacg"
      },
      "source": [
        "Se importa las librerías a usar y posteriormente los datos. Estos fueron generados anteriormente a partir de audios de 30 segundos de los distintos géneros musicales. Con las librerías librosa y matplotlib se generaron espectogramas de MEL de los audios, estas imágenes son las que nuestro modelo analizará."
      ]
    },
    {
      "cell_type": "markdown",
      "metadata": {
        "id": "0f_N9IB-XJka"
      },
      "source": [
        "## Directorio con los datos"
      ]
    },
    {
      "cell_type": "code",
      "metadata": {
        "id": "G5X9-nX5XLG8",
        "outputId": "a4674a57-c908-4b4b-ed53-dc08e65e406e",
        "colab": {
          "base_uri": "https://localhost:8080/"
        }
      },
      "source": [
        "drive.mount('/gdrive')\n",
        "path = \"../gdrive/MyDrive/spectograms\""
      ],
      "execution_count": 2,
      "outputs": [
        {
          "output_type": "stream",
          "text": [
            "Mounted at /gdrive\n"
          ],
          "name": "stdout"
        }
      ]
    },
    {
      "cell_type": "markdown",
      "metadata": {
        "id": "mRIgE87N9YYA"
      },
      "source": [
        "## Géneros"
      ]
    },
    {
      "cell_type": "code",
      "metadata": {
        "id": "bOJYe_q_9Z39"
      },
      "source": [
        "genres = [\"Cumbia\",\"Vallenato\",\"Salsa\",\"Merengue\",\"Bachata\"]"
      ],
      "execution_count": 3,
      "outputs": []
    },
    {
      "cell_type": "code",
      "metadata": {
        "id": "BvkccRos-4tE"
      },
      "source": [
        "menor = 10000\r\n",
        "for i in range(len(genres)):   \r\n",
        "    genre=genres[i]\r\n",
        "    cont = 0\r\n",
        "    for img in os.listdir(path+\"/\"+genre):\r\n",
        "      cont += 1\r\n",
        "    if cont < menor:\r\n",
        "      menor = cont"
      ],
      "execution_count": 4,
      "outputs": []
    },
    {
      "cell_type": "code",
      "metadata": {
        "id": "Ex5r4vYLAK-F",
        "outputId": "58875cdc-76e2-4a37-b1b4-020bc2b78017",
        "colab": {
          "base_uri": "https://localhost:8080/"
        }
      },
      "source": [
        "menor"
      ],
      "execution_count": 5,
      "outputs": [
        {
          "output_type": "execute_result",
          "data": {
            "text/plain": [
              "634"
            ]
          },
          "metadata": {
            "tags": []
          },
          "execution_count": 5
        }
      ]
    },
    {
      "cell_type": "markdown",
      "metadata": {
        "id": "Oj2B7fjTXNAU"
      },
      "source": [
        "## Separación de los datos"
      ]
    },
    {
      "cell_type": "markdown",
      "metadata": {
        "id": "KloXi2ZYAM_3"
      },
      "source": [
        "Los datos son separados en los conjuntos de entrenamiento, validación y prueba, además de ser clasificados según su género. Los 3 conjuntos son mutuamente excluyentes y serán utilizados por el modelo."
      ]
    },
    {
      "cell_type": "code",
      "metadata": {
        "id": "w-HHZdlCYFjF",
        "outputId": "e33ee1f1-40b8-4717-96b8-bfe6f3e0d466",
        "colab": {
          "base_uri": "https://localhost:8080/"
        }
      },
      "source": [
        "cont = 0\n",
        "data = []\n",
        "labels = []\n",
        "for i in range(len(genres)):   \n",
        "    genre=genres[i]\n",
        "    cont = 0\n",
        "    for img in os.listdir(path+\"/\"+genre):\n",
        "      if cont == menor:\n",
        "        break\n",
        "      cont += 1\n",
        "      image=tf.keras.preprocessing.image.load_img(path+\"/\"+genre+\"/\"+img, color_mode='rgb', target_size= (300,300))\n",
        "      image=np.array(image)\n",
        "      data.append(image)\n",
        "      labels.append(i)\n",
        "\n",
        "data = np.array(data)\n",
        "labels = np.array(labels)\n",
        "labels = to_categorical(labels, 5)\n",
        "X_train, X_test_val, y_train, y_test_val = train_test_split(data, labels, test_size=0.2, random_state=42)\n",
        "X_test,X_val,y_test,y_val = train_test_split(X_test_val,y_test_val,test_size=.5,random_state=42)\n",
        "X_train.shape, X_test.shape, X_val.shape"
      ],
      "execution_count": 6,
      "outputs": [
        {
          "output_type": "execute_result",
          "data": {
            "text/plain": [
              "((2536, 300, 300, 3), (317, 300, 300, 3), (317, 300, 300, 3))"
            ]
          },
          "metadata": {
            "tags": []
          },
          "execution_count": 6
        }
      ]
    },
    {
      "cell_type": "code",
      "metadata": {
        "id": "fgxPYpuIESHk",
        "outputId": "94531e7a-49e6-4e09-e4e7-9009464007ab",
        "colab": {
          "base_uri": "https://localhost:8080/"
        }
      },
      "source": [
        "X_train[:2]"
      ],
      "execution_count": 7,
      "outputs": [
        {
          "output_type": "execute_result",
          "data": {
            "text/plain": [
              "array([[[[255, 255, 255],\n",
              "         [255, 255, 255],\n",
              "         [255, 255, 255],\n",
              "         ...,\n",
              "         [255, 255, 255],\n",
              "         [255, 255, 255],\n",
              "         [255, 255, 255]],\n",
              "\n",
              "        [[255, 255, 255],\n",
              "         [255, 255, 255],\n",
              "         [255, 255, 255],\n",
              "         ...,\n",
              "         [255, 255, 255],\n",
              "         [255, 255, 255],\n",
              "         [255, 255, 255]],\n",
              "\n",
              "        [[255, 255, 255],\n",
              "         [255, 255, 255],\n",
              "         [255, 255, 255],\n",
              "         ...,\n",
              "         [255, 255, 255],\n",
              "         [255, 255, 255],\n",
              "         [255, 255, 255]],\n",
              "\n",
              "        ...,\n",
              "\n",
              "        [[255, 255, 255],\n",
              "         [255, 255, 255],\n",
              "         [255, 255, 255],\n",
              "         ...,\n",
              "         [255, 255, 255],\n",
              "         [255, 255, 255],\n",
              "         [255, 255, 255]],\n",
              "\n",
              "        [[255, 255, 255],\n",
              "         [255, 255, 255],\n",
              "         [255, 255, 255],\n",
              "         ...,\n",
              "         [255, 255, 255],\n",
              "         [255, 255, 255],\n",
              "         [255, 255, 255]],\n",
              "\n",
              "        [[255, 255, 255],\n",
              "         [255, 255, 255],\n",
              "         [255, 255, 255],\n",
              "         ...,\n",
              "         [255, 255, 255],\n",
              "         [255, 255, 255],\n",
              "         [255, 255, 255]]],\n",
              "\n",
              "\n",
              "       [[[255, 255, 255],\n",
              "         [255, 255, 255],\n",
              "         [255, 255, 255],\n",
              "         ...,\n",
              "         [255, 255, 255],\n",
              "         [255, 255, 255],\n",
              "         [255, 255, 255]],\n",
              "\n",
              "        [[255, 255, 255],\n",
              "         [255, 255, 255],\n",
              "         [255, 255, 255],\n",
              "         ...,\n",
              "         [255, 255, 255],\n",
              "         [255, 255, 255],\n",
              "         [255, 255, 255]],\n",
              "\n",
              "        [[255, 255, 255],\n",
              "         [255, 255, 255],\n",
              "         [255, 255, 255],\n",
              "         ...,\n",
              "         [255, 255, 255],\n",
              "         [255, 255, 255],\n",
              "         [255, 255, 255]],\n",
              "\n",
              "        ...,\n",
              "\n",
              "        [[255, 255, 255],\n",
              "         [255, 255, 255],\n",
              "         [255, 255, 255],\n",
              "         ...,\n",
              "         [255, 255, 255],\n",
              "         [255, 255, 255],\n",
              "         [255, 255, 255]],\n",
              "\n",
              "        [[255, 255, 255],\n",
              "         [255, 255, 255],\n",
              "         [255, 255, 255],\n",
              "         ...,\n",
              "         [255, 255, 255],\n",
              "         [255, 255, 255],\n",
              "         [255, 255, 255]],\n",
              "\n",
              "        [[255, 255, 255],\n",
              "         [255, 255, 255],\n",
              "         [255, 255, 255],\n",
              "         ...,\n",
              "         [255, 255, 255],\n",
              "         [255, 255, 255],\n",
              "         [255, 255, 255]]]], dtype=uint8)"
            ]
          },
          "metadata": {
            "tags": []
          },
          "execution_count": 7
        }
      ]
    },
    {
      "cell_type": "code",
      "metadata": {
        "id": "lMmnU_PvdBYm",
        "colab": {
          "base_uri": "https://localhost:8080/"
        },
        "outputId": "7f323733-f7a1-4d37-ed02-68312a7104fc"
      },
      "source": [
        "y_train[:2]"
      ],
      "execution_count": 8,
      "outputs": [
        {
          "output_type": "execute_result",
          "data": {
            "text/plain": [
              "array([[0., 1., 0., 0., 0.],\n",
              "       [0., 0., 0., 0., 1.]], dtype=float32)"
            ]
          },
          "metadata": {
            "tags": []
          },
          "execution_count": 8
        }
      ]
    },
    {
      "cell_type": "markdown",
      "metadata": {
        "id": "u1M7qW6mAdF9"
      },
      "source": [
        "Se prepara los datos de validación y entrenamiento para que funcionen correctamente en el modelo."
      ]
    },
    {
      "cell_type": "code",
      "metadata": {
        "id": "99IBI63Cc7Mh"
      },
      "source": [
        "# Create an ImageDataGenerator\n",
        "train_datagen = ImageDataGenerator(rescale = 1./255.)\n",
        "validation_datagen = ImageDataGenerator(rescale = 1./255.)\n",
        "X_test = X_test/255.\n",
        "train_generator = train_datagen.flow(X_train, y_train, batch_size=8)\n",
        "validation_generator = validation_datagen.flow(X_val, y_val, batch_size=8)"
      ],
      "execution_count": 9,
      "outputs": []
    },
    {
      "cell_type": "markdown",
      "metadata": {
        "id": "4lU2J-Otatta"
      },
      "source": [
        "# Modelo\n"
      ]
    },
    {
      "cell_type": "markdown",
      "metadata": {
        "id": "2kSwS2l1AncC"
      },
      "source": [
        "Se carga el modelo VGG16 el cuál ya está previamente entrenado en la clasificación de imágenes. "
      ]
    },
    {
      "cell_type": "markdown",
      "metadata": {
        "id": "OPzqJ4FrcSEt"
      },
      "source": [
        "## Carga del modelo"
      ]
    },
    {
      "cell_type": "code",
      "metadata": {
        "id": "TJAr1ojYauqx",
        "colab": {
          "base_uri": "https://localhost:8080/"
        },
        "outputId": "77ab786e-370a-46b3-88ac-d16c74299263"
      },
      "source": [
        "model=VGG16(include_top=False,input_shape=(300,300,3))"
      ],
      "execution_count": 10,
      "outputs": [
        {
          "output_type": "stream",
          "text": [
            "Downloading data from https://storage.googleapis.com/tensorflow/keras-applications/vgg16/vgg16_weights_tf_dim_ordering_tf_kernels_notop.h5\n",
            "58892288/58889256 [==============================] - 1s 0us/step\n"
          ],
          "name": "stdout"
        }
      ]
    },
    {
      "cell_type": "markdown",
      "metadata": {
        "id": "6fir_h3pcUJ4"
      },
      "source": [
        "## Congelamiento de capas"
      ]
    },
    {
      "cell_type": "markdown",
      "metadata": {
        "id": "uNpRJ7fNAv36"
      },
      "source": [
        "Se \"congelan\" las capas pertenecientes al modelo VGG16 de forma que estas no se modifiquen durante el entrenamiento. Posteriormente a este modelo le agregaremos 3 capas diseñadas para el conjunto de datos nuestro."
      ]
    },
    {
      "cell_type": "code",
      "metadata": {
        "id": "LzvZieDCaxQ0"
      },
      "source": [
        "for layer in model.layers:\n",
        "    layer.trainable=False"
      ],
      "execution_count": 11,
      "outputs": []
    },
    {
      "cell_type": "markdown",
      "metadata": {
        "id": "aeS3FtWIcbw-"
      },
      "source": [
        "## Últimas capas"
      ]
    },
    {
      "cell_type": "markdown",
      "metadata": {
        "id": "bqvBjfTUAvSL"
      },
      "source": [
        "Se agregan las últimas capas orientadas al conjunto de imágenes que tenemos. La última capa tiene 5 neuronas pues hay 5 posibles clases."
      ]
    },
    {
      "cell_type": "code",
      "metadata": {
        "id": "DZdKZn_kcd4t"
      },
      "source": [
        "output=model.layers[-1].output\n",
        "model_final=tf.keras.layers.Flatten()(output)\n",
        "model_final=tf.keras.layers.Dense(512,activation='relu')(model_final)\n",
        "model_final=tf.keras.layers.Dense(64,activation='relu')(model_final)\n",
        "model_final=tf.keras.layers.Dense(5,activation='softmax')(model_final)"
      ],
      "execution_count": 12,
      "outputs": []
    },
    {
      "cell_type": "markdown",
      "metadata": {
        "id": "ZWK6wMLJci4V"
      },
      "source": [
        "## Modelo final"
      ]
    },
    {
      "cell_type": "code",
      "metadata": {
        "id": "QILks2NXckOU"
      },
      "source": [
        "model=tf.keras.models.Model(model.input,model_final)"
      ],
      "execution_count": 13,
      "outputs": []
    },
    {
      "cell_type": "markdown",
      "metadata": {
        "id": "Zzit6l7BCcNT"
      },
      "source": [
        "## Callback"
      ]
    },
    {
      "cell_type": "markdown",
      "metadata": {
        "id": "6mQjplSRBHwi"
      },
      "source": [
        "Creamos un callback para que utilize como base los mejores pesos que encontramos para la identificación de los géneros de estas canciones."
      ]
    },
    {
      "cell_type": "code",
      "metadata": {
        "id": "pXL07N-ZCeU7"
      },
      "source": [
        "class CustomCallback(keras.callbacks.Callback):\n",
        "    def __init__(self, weights_dir, patience=10, rate=0.5):\n",
        "        \"\"\"\n",
        "        Initializer Method\n",
        "        :param weights_dir: The directory of the model weights\n",
        "        :param patience: Number of epochs before reducing lr\n",
        "        :param rate: The rate to reduce the lr\n",
        "        \"\"\"\n",
        "        super(CustomCallback, self).__init__()\n",
        "        self.weights_dir = weights_dir\n",
        "        self.rate = rate\n",
        "        self.patience = patience\n",
        "\n",
        "    def on_train_begin(self, logs=None):\n",
        "        \"\"\"\n",
        "        Configurations to be taken an account on\n",
        "        before training begins.\n",
        "        :param logs: The logs from the output.\n",
        "        \"\"\"\n",
        "        self.best_loss = np.Inf\n",
        "        self.best_acc = 0\n",
        "        self.wait = 0\n",
        "        self.best_weights = None\n",
        "    \n",
        "    def on_epoch_end(self, epoch, logs=None):\n",
        "        \"\"\"\n",
        "        Method that is called each time an epoch ends\n",
        "        excecution\n",
        "        :param epoch: The current epoch of the training\n",
        "        :param logs: The logs from the output from an epoch ended\n",
        "        \"\"\"\n",
        "        # Current validation loss\n",
        "        current_loss = logs.get(\"val_loss\")\n",
        "        # Current validation Accuracy\n",
        "        current_acc = logs.get(\"val_acc\")\n",
        "        if (current_loss < self.best_loss and \n",
        "            current_acc > self.best_acc):\n",
        "            # We save the model weights\n",
        "            # We wait again\n",
        "            # We assign the best loss and the best accuracy.\n",
        "            self.wait = 0\n",
        "            self.best_loss = current_loss\n",
        "            self.best_acc = current_acc\n",
        "            self.model.save_weights(self.weights_dir)\n",
        "            self.best_weights = self.model.get_weights()\n",
        "            print(\"\\nBest Weights Saved!!\")\n",
        "        else:\n",
        "            self.wait += 1\n",
        "            if self.wait >= self.patience:\n",
        "                # Reduce learning rate by the initialized rate.\n",
        "                self.wait = 0\n",
        "                print(f\"\\nEpoch {epoch}, Reducing Learning Rate\")\n",
        "                # We set the new learning rate\n",
        "                lr = K.get_value(self.model.optimizer.lr)\n",
        "                new_lr = lr * self.rate\n",
        "                K.set_value(self.model.optimizer.lr, new_lr)\n",
        "                print(f\"\\nLearning Rate Reduced: {new_lr}\")\n",
        "                # We load the best weights to continue the training.\n",
        "                self.model.set_weights(self.best_weights)\n",
        "                print(\"\\nBest Weights Loaded!!\")"
      ],
      "execution_count": 14,
      "outputs": []
    },
    {
      "cell_type": "markdown",
      "metadata": {
        "id": "2pZn_C-wclwM"
      },
      "source": [
        "## Compilación"
      ]
    },
    {
      "cell_type": "code",
      "metadata": {
        "id": "ZAmxIK1TcnYX"
      },
      "source": [
        "model.compile(loss='categorical_crossentropy',optimizer='adam',metrics=['acc'])"
      ],
      "execution_count": 15,
      "outputs": []
    },
    {
      "cell_type": "markdown",
      "metadata": {
        "id": "-VGpkW4EG_Ts"
      },
      "source": [
        "## Resumen del modelo"
      ]
    },
    {
      "cell_type": "code",
      "metadata": {
        "colab": {
          "base_uri": "https://localhost:8080/"
        },
        "id": "qidfCILcG94s",
        "outputId": "f4d27d0a-2301-4d15-d60b-451c596f4765"
      },
      "source": [
        "model.summary()"
      ],
      "execution_count": 16,
      "outputs": [
        {
          "output_type": "stream",
          "text": [
            "Model: \"functional_1\"\n",
            "_________________________________________________________________\n",
            "Layer (type)                 Output Shape              Param #   \n",
            "=================================================================\n",
            "input_1 (InputLayer)         [(None, 300, 300, 3)]     0         \n",
            "_________________________________________________________________\n",
            "block1_conv1 (Conv2D)        (None, 300, 300, 64)      1792      \n",
            "_________________________________________________________________\n",
            "block1_conv2 (Conv2D)        (None, 300, 300, 64)      36928     \n",
            "_________________________________________________________________\n",
            "block1_pool (MaxPooling2D)   (None, 150, 150, 64)      0         \n",
            "_________________________________________________________________\n",
            "block2_conv1 (Conv2D)        (None, 150, 150, 128)     73856     \n",
            "_________________________________________________________________\n",
            "block2_conv2 (Conv2D)        (None, 150, 150, 128)     147584    \n",
            "_________________________________________________________________\n",
            "block2_pool (MaxPooling2D)   (None, 75, 75, 128)       0         \n",
            "_________________________________________________________________\n",
            "block3_conv1 (Conv2D)        (None, 75, 75, 256)       295168    \n",
            "_________________________________________________________________\n",
            "block3_conv2 (Conv2D)        (None, 75, 75, 256)       590080    \n",
            "_________________________________________________________________\n",
            "block3_conv3 (Conv2D)        (None, 75, 75, 256)       590080    \n",
            "_________________________________________________________________\n",
            "block3_pool (MaxPooling2D)   (None, 37, 37, 256)       0         \n",
            "_________________________________________________________________\n",
            "block4_conv1 (Conv2D)        (None, 37, 37, 512)       1180160   \n",
            "_________________________________________________________________\n",
            "block4_conv2 (Conv2D)        (None, 37, 37, 512)       2359808   \n",
            "_________________________________________________________________\n",
            "block4_conv3 (Conv2D)        (None, 37, 37, 512)       2359808   \n",
            "_________________________________________________________________\n",
            "block4_pool (MaxPooling2D)   (None, 18, 18, 512)       0         \n",
            "_________________________________________________________________\n",
            "block5_conv1 (Conv2D)        (None, 18, 18, 512)       2359808   \n",
            "_________________________________________________________________\n",
            "block5_conv2 (Conv2D)        (None, 18, 18, 512)       2359808   \n",
            "_________________________________________________________________\n",
            "block5_conv3 (Conv2D)        (None, 18, 18, 512)       2359808   \n",
            "_________________________________________________________________\n",
            "block5_pool (MaxPooling2D)   (None, 9, 9, 512)         0         \n",
            "_________________________________________________________________\n",
            "flatten (Flatten)            (None, 41472)             0         \n",
            "_________________________________________________________________\n",
            "dense (Dense)                (None, 512)               21234176  \n",
            "_________________________________________________________________\n",
            "dense_1 (Dense)              (None, 64)                32832     \n",
            "_________________________________________________________________\n",
            "dense_2 (Dense)              (None, 5)                 325       \n",
            "=================================================================\n",
            "Total params: 35,982,021\n",
            "Trainable params: 21,267,333\n",
            "Non-trainable params: 14,714,688\n",
            "_________________________________________________________________\n"
          ],
          "name": "stdout"
        }
      ]
    },
    {
      "cell_type": "code",
      "metadata": {
        "id": "p67F3mCWvuNY"
      },
      "source": [
        "weights_path = path + \"/weights/\""
      ],
      "execution_count": 17,
      "outputs": []
    },
    {
      "cell_type": "markdown",
      "metadata": {
        "id": "CfZZyUu4cn_T"
      },
      "source": [
        "## Entrenamiento"
      ]
    },
    {
      "cell_type": "markdown",
      "metadata": {
        "id": "zm-0EcPyBUbG"
      },
      "source": [
        "Se entrena el modelo haciendo uso de los mejores pesos obtenidos con el callback."
      ]
    },
    {
      "cell_type": "code",
      "metadata": {
        "id": "gUEnuQRLcrR_",
        "colab": {
          "base_uri": "https://localhost:8080/"
        },
        "outputId": "dadd751d-6de4-4c60-a0d4-de754eb7a5a2"
      },
      "source": [
        "history = model.fit_generator(train_generator, epochs=5,\n",
        "                              validation_data = validation_generator, \n",
        "                              callbacks = [CustomCallback(weights_path+'train_best_weights_3.h5')])"
      ],
      "execution_count": 23,
      "outputs": [
        {
          "output_type": "stream",
          "text": [
            "WARNING:tensorflow:From <ipython-input-23-fff9473e66f7>:3: Model.fit_generator (from tensorflow.python.keras.engine.training) is deprecated and will be removed in a future version.\n",
            "Instructions for updating:\n",
            "Please use Model.fit, which supports generators.\n",
            "Epoch 1/5\n",
            "317/317 [==============================] - ETA: 0s - loss: 0.7943 - acc: 0.7094\n",
            "Best Weights Saved!!\n",
            "317/317 [==============================] - 2546s 8s/step - loss: 0.7943 - acc: 0.7094 - val_loss: 0.8065 - val_acc: 0.6940\n",
            "Epoch 2/5\n",
            "317/317 [==============================] - ETA: 0s - loss: 0.5472 - acc: 0.7946\n",
            "Best Weights Saved!!\n",
            "317/317 [==============================] - 2533s 8s/step - loss: 0.5472 - acc: 0.7946 - val_loss: 0.5558 - val_acc: 0.8044\n",
            "Epoch 3/5\n",
            "317/317 [==============================] - 2521s 8s/step - loss: 0.4455 - acc: 0.8356 - val_loss: 0.5673 - val_acc: 0.8044\n",
            "Epoch 4/5\n",
            "317/317 [==============================] - 2520s 8s/step - loss: 0.3460 - acc: 0.8667 - val_loss: 0.5687 - val_acc: 0.7981\n",
            "Epoch 5/5\n",
            "317/317 [==============================] - ETA: 0s - loss: 0.2777 - acc: 0.8951\n",
            "Best Weights Saved!!\n",
            "317/317 [==============================] - 2516s 8s/step - loss: 0.2777 - acc: 0.8951 - val_loss: 0.4359 - val_acc: 0.8517\n"
          ],
          "name": "stdout"
        }
      ]
    },
    {
      "cell_type": "markdown",
      "metadata": {
        "id": "_UAeLUApByF_"
      },
      "source": [
        "Evaluamos el desempeño del modelo con el conjunto de prueba. Se ve un accuracy alto y pérdida relativamente baja."
      ]
    },
    {
      "cell_type": "code",
      "metadata": {
        "id": "3rR_4cgzoEm2",
        "colab": {
          "base_uri": "https://localhost:8080/"
        },
        "outputId": "57d03c54-6248-4c80-9558-b1838cddc9be"
      },
      "source": [
        "test_loss, test_acc = model.evaluate(X_test, y_test, verbose=0)\n",
        "print(f'Test loss: {test_loss}, Test acc: {test_acc}')"
      ],
      "execution_count": 24,
      "outputs": [
        {
          "output_type": "stream",
          "text": [
            "Test loss: 0.3815688490867615, Test acc: 0.8769716024398804\n"
          ],
          "name": "stdout"
        }
      ]
    },
    {
      "cell_type": "markdown",
      "metadata": {
        "id": "fGtcHETNq9S-"
      },
      "source": [
        "## Evaluación"
      ]
    },
    {
      "cell_type": "markdown",
      "metadata": {
        "id": "hpJvB2T2BcSt"
      },
      "source": [
        "Se genera una gráfica para evidenciar mejor los resultados."
      ]
    },
    {
      "cell_type": "code",
      "metadata": {
        "id": "UjRGf0CSq-dc",
        "colab": {
          "base_uri": "https://localhost:8080/",
          "height": 545
        },
        "outputId": "98cb4f85-e88f-4493-a265-f628b35771e3"
      },
      "source": [
        "acc = history.history['acc']\n",
        "val_acc = history.history['val_acc']\n",
        "loss = history.history['loss']\n",
        "val_loss = history.history['val_loss']\n",
        "\n",
        "epochs = range(len(acc))\n",
        "\n",
        "plt.plot(epochs, acc, 'r', label='Training accuracy')\n",
        "plt.plot(epochs, val_acc, 'b', label='Validation accuracy')\n",
        "plt.title('Training and validation accuracy')\n",
        "plt.legend()\n",
        "plt.figure()\n",
        "\n",
        "plt.plot(epochs, loss, 'r', label='Training Loss')\n",
        "plt.plot(epochs, val_loss, 'b', label='Validation Loss')\n",
        "plt.title('Training and validation loss')\n",
        "plt.legend()\n",
        "\n",
        "plt.show()"
      ],
      "execution_count": 25,
      "outputs": [
        {
          "output_type": "display_data",
          "data": {
            "image/png": "[encoded data removed]",
            "text/plain": [
              "<Figure size 432x288 with 1 Axes>"
            ]
          },
          "metadata": {
            "tags": [],
            "needs_background": "light"
          }
        },
        {
          "output_type": "display_data",
          "data": {
            "image/png": "[encoded data removed]",
            "text/plain": [
              "<Figure size 432x288 with 1 Axes>"
            ]
          },
          "metadata": {
            "tags": [],
            "needs_background": "light"
          }
        }
      ]
    },
    {
      "cell_type": "markdown",
      "metadata": {
        "id": "yk8fwD4KlGJz"
      },
      "source": [
        "## Guardado del modelo y pesos"
      ]
    },
    {
      "cell_type": "code",
      "metadata": {
        "id": "fP3lRagAHbdP"
      },
      "source": [
        "model.save_weights(weights_path+'latest_weights_3.h5')\r\n",
        "model.save(weights_path+'model_3.h5')"
      ],
      "execution_count": null,
      "outputs": []
    },
    {
      "cell_type": "markdown",
      "metadata": {
        "id": "Mf0ym6_FHXu5"
      },
      "source": [
        "## Carga de pesos "
      ]
    },
    {
      "cell_type": "code",
      "metadata": {
        "id": "jkLR3bnnHbIQ"
      },
      "source": [
        "model.load_weights(weights_path+'train_best_weights_3.h5')"
      ],
      "execution_count": 21,
      "outputs": []
    },
    {
      "cell_type": "code",
      "metadata": {
        "id": "ngJqDhwFHZc3"
      },
      "source": [
        "test_loss, test_acc = model.evaluate(X_test, y_test, verbose=0)\n",
        "print(f'Test loss: {test_loss}, Test acc: {test_acc}')"
      ],
      "execution_count": null,
      "outputs": []
    },
    {
      "cell_type": "markdown",
      "metadata": {
        "id": "lino1A7DuTXp"
      },
      "source": [
        "# Prueba del modelo"
      ]
    },
    {
      "cell_type": "code",
      "metadata": {
        "id": "nm6xMdnDuUwQ"
      },
      "source": [
        "def split_song(song):\n",
        "  sound = AudioSegment.from_mp3(song)\n",
        "  # len() and slicing are in milliseconds\n",
        "  segment_size = 30000\n",
        "  parts = len(sound) // segment_size\n",
        "  for i in range(parts):\n",
        "    if segment_size*(i+1) < len(sound):\n",
        "      temp = sound[segment_size*i: segment_size*(i+1)]\n",
        "      temp.export(f'{songs_path}/{song.replace(\".mp3\",\"\")+\"_\"+str(i)}.mp3', format='mp3')\n",
        "\n",
        "def get_spectograms(song, img_dir=\"./spectograms\"):\n",
        "  for fil in os.listdir(songs_path):\n",
        "        if fil.startswith(song.replace(\".mp3\",\"\")):\n",
        "            y, sr = librosa.load(os.path.join(songs_path,fil))\n",
        "            melSpec = librosa.feature.melspectrogram(y=y, sr=sr, n_mels=128)\n",
        "            melSpec_dB = librosa.power_to_db(melSpec, ref=np.max)\n",
        "            plt.figure(figsize=(10, 5))\n",
        "            librosa.display.specshow(melSpec_dB, sr=sr, fmax=8000)\n",
        "            plt.tight_layout()\n",
        "            plt.savefig(img_dir+'/'+fil.split('.mp3')[0][:]+\".png\")\n",
        "            plt.close()\n",
        "\n",
        "def pre_process(song,img_dir=\"./spectograms\"):\n",
        "  data = []\n",
        "  for fil in os.listdir(img_dir):\n",
        "    if fil.startswith(song.replace(\".mp3\",\"\")):\n",
        "      image=tf.keras.preprocessing.image.load_img(img_dir+\"/\"+fil, color_mode='rgb', target_size= (300,300))\n",
        "      image=np.array(image)\n",
        "      data.append(image)\n",
        "  return np.array(data)/.255\n",
        "\n",
        "def predict_voting(predictions):\n",
        "  votes = {}\n",
        "  for prediction in predictions:\n",
        "    pos = np.argmax(prediction)\n",
        "    if genres[pos] in votes:\n",
        "      votes[genres[pos]]+=1\n",
        "    else:\n",
        "      votes[genres[pos]]=1\n",
        "  count = [ (genre,count) for genre, count in votes.items()]\n",
        "  print(\"Votos: \",count)\n",
        "  count.sort(key=lambda x: x[1],reverse=True)\n",
        "  return count[0]\n",
        "\n",
        "def predict_sum(predictions):\n",
        "  result_sum = np.sum(predictions,axis=0)\n",
        "  pos = np.argmax(result_sum)\n",
        "  result = {genres[i]: result_sum[i] for i in range(len(genres))}\n",
        "  print(\"Sumas: \", result)\n",
        "  return (genres[pos], result_sum[pos])"
      ],
      "execution_count": null,
      "outputs": []
    },
    {
      "cell_type": "code",
      "metadata": {
        "id": "OrGzSbln2gSM"
      },
      "source": [
        "songs_path = './songs'\n",
        "uploaded = files.upload()"
      ],
      "execution_count": null,
      "outputs": []
    },
    {
      "cell_type": "code",
      "metadata": {
        "id": "lPd3pdinInLJ"
      },
      "source": [
        "for song in uploaded:\n",
        "  split_song(song)\n",
        "  get_spectograms(song)\n",
        "  specs = pre_process(song)\n",
        "  predictions = model.predict(specs)\n",
        "  print(\"Predicciones para la canción: \", song, \n",
        "        \"\\n Ganador por votación: \", predict_voting(predictions), \n",
        "        \"\\n Ganador por suma: \", predict_sum(predictions))\n",
        "  print(genres)\n",
        "  print(\"Probabilidades por parte: \", predictions)\n",
        "  print(\"#\"*300)"
      ],
      "execution_count": null,
      "outputs": []
    },
    {
      "cell_type": "code",
      "metadata": {
        "id": "avEdtx13JZab"
      },
      "source": [
        "g = {}\n",
        "for row in y_train:\n",
        "  pos = np.argmax(row)\n",
        "  if genres[pos] not in g:\n",
        "    g[genres[pos]] = 1\n",
        "  else:\n",
        "    g[genres[pos]] +=1\n",
        "plt.bar([x for x in g],[g[x] for x in g])"
      ],
      "execution_count": null,
      "outputs": []
    }
  ]
}