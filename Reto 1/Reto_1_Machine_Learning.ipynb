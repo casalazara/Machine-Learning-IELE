{
  "nbformat": 4,
  "nbformat_minor": 0,
  "metadata": {
    "colab": {
      "name": "Reto 1 - Machine Learning.ipynb",
      "provenance": [],
      "collapsed_sections": [
        "uhmiOPyAexsN",
        "tFK79Ff2ewKC",
        "_Yl2ghwffF-f",
        "yuO3FvkagWxx",
        "B99ORHO-lcip",
        "WGViVdF1g44K",
        "cr_UAvSSkeQY",
        "XGdA1hoVutIT",
        "lkRmYrU7vEXs",
        "N4Lt6ApvH8z1",
        "0CQ4Sx0mICLT"
      ],
      "toc_visible": true
    },
    "kernelspec": {
      "name": "python3",
      "display_name": "Python 3"
    }
  },
  "cells": [
    {
      "cell_type": "markdown",
      "metadata": {
        "id": "uhmiOPyAexsN",
        "colab_type": "text"
      },
      "source": [
        "#Librerías a usar"
      ]
    },
    {
      "cell_type": "code",
      "metadata": {
        "id": "K5iFdqiWeJXp",
        "colab_type": "code",
        "colab": {}
      },
      "source": [
        "import pandas as pd \n",
        "from sklearn.model_selection import train_test_split\n",
        "from sklearn.linear_model import LinearRegression\n",
        "from sklearn.metrics import r2_score,mean_squared_error\n"
      ],
      "execution_count": null,
      "outputs": []
    },
    {
      "cell_type": "markdown",
      "metadata": {
        "id": "tFK79Ff2ewKC",
        "colab_type": "text"
      },
      "source": [
        "#Lectura del archivo"
      ]
    },
    {
      "cell_type": "code",
      "metadata": {
        "id": "FlXlOmtFeuL-",
        "colab_type": "code",
        "colab": {}
      },
      "source": [
        "df = pd.read_csv('Life_Expectancy_Data.csv')"
      ],
      "execution_count": null,
      "outputs": []
    },
    {
      "cell_type": "code",
      "metadata": {
        "id": "cx9LNOY2e9GU",
        "colab_type": "code",
        "colab": {
          "base_uri": "https://localhost:8080/"
        },
        "outputId": "694e9990-542f-43f3-eef3-791d4de9f113"
      },
      "source": [
        "df.head()"
      ],
      "execution_count": null,
      "outputs": [
        {
          "output_type": "execute_result",
          "data": {
            "text/html": [
              "<div>\n",
              "<style scoped>\n",
              "    .dataframe tbody tr th:only-of-type {\n",
              "        vertical-align: middle;\n",
              "    }\n",
              "\n",
              "    .dataframe tbody tr th {\n",
              "        vertical-align: top;\n",
              "    }\n",
              "\n",
              "    .dataframe thead th {\n",
              "        text-align: right;\n",
              "    }\n",
              "</style>\n",
              "<table border=\"1\" class=\"dataframe\">\n",
              "  <thead>\n",
              "    <tr style=\"text-align: right;\">\n",
              "      <th></th>\n",
              "      <th>Country</th>\n",
              "      <th>Year</th>\n",
              "      <th>Status</th>\n",
              "      <th>Life expectancy</th>\n",
              "      <th>Adult Mortality</th>\n",
              "      <th>infant deaths</th>\n",
              "      <th>Alcohol</th>\n",
              "      <th>percentage expenditure</th>\n",
              "      <th>Hepatitis B</th>\n",
              "      <th>Measles</th>\n",
              "      <th>BMI</th>\n",
              "      <th>under-five deaths</th>\n",
              "      <th>Polio</th>\n",
              "      <th>Total expenditure</th>\n",
              "      <th>Diphtheria</th>\n",
              "      <th>HIV/AIDS</th>\n",
              "      <th>GDP</th>\n",
              "      <th>Population</th>\n",
              "      <th>thinness  1-19 years</th>\n",
              "      <th>thinness 5-9 years</th>\n",
              "      <th>Income composition of resources</th>\n",
              "      <th>Schooling</th>\n",
              "    </tr>\n",
              "  </thead>\n",
              "  <tbody>\n",
              "    <tr>\n",
              "      <th>0</th>\n",
              "      <td>Afghanistan</td>\n",
              "      <td>2015</td>\n",
              "      <td>Developing</td>\n",
              "      <td>65.0</td>\n",
              "      <td>263.0</td>\n",
              "      <td>62</td>\n",
              "      <td>0.01</td>\n",
              "      <td>71.279624</td>\n",
              "      <td>65.0</td>\n",
              "      <td>1154</td>\n",
              "      <td>19.1</td>\n",
              "      <td>83</td>\n",
              "      <td>6.0</td>\n",
              "      <td>8.16</td>\n",
              "      <td>65.0</td>\n",
              "      <td>0.1</td>\n",
              "      <td>584.259210</td>\n",
              "      <td>33736494.0</td>\n",
              "      <td>17.2</td>\n",
              "      <td>17.3</td>\n",
              "      <td>0.479</td>\n",
              "      <td>10.1</td>\n",
              "    </tr>\n",
              "    <tr>\n",
              "      <th>1</th>\n",
              "      <td>Afghanistan</td>\n",
              "      <td>2014</td>\n",
              "      <td>Developing</td>\n",
              "      <td>59.9</td>\n",
              "      <td>271.0</td>\n",
              "      <td>64</td>\n",
              "      <td>0.01</td>\n",
              "      <td>73.523582</td>\n",
              "      <td>62.0</td>\n",
              "      <td>492</td>\n",
              "      <td>18.6</td>\n",
              "      <td>86</td>\n",
              "      <td>58.0</td>\n",
              "      <td>8.18</td>\n",
              "      <td>62.0</td>\n",
              "      <td>0.1</td>\n",
              "      <td>612.696514</td>\n",
              "      <td>327582.0</td>\n",
              "      <td>17.5</td>\n",
              "      <td>17.5</td>\n",
              "      <td>0.476</td>\n",
              "      <td>10.0</td>\n",
              "    </tr>\n",
              "    <tr>\n",
              "      <th>2</th>\n",
              "      <td>Afghanistan</td>\n",
              "      <td>2013</td>\n",
              "      <td>Developing</td>\n",
              "      <td>59.9</td>\n",
              "      <td>268.0</td>\n",
              "      <td>66</td>\n",
              "      <td>0.01</td>\n",
              "      <td>73.219243</td>\n",
              "      <td>64.0</td>\n",
              "      <td>430</td>\n",
              "      <td>18.1</td>\n",
              "      <td>89</td>\n",
              "      <td>62.0</td>\n",
              "      <td>8.13</td>\n",
              "      <td>64.0</td>\n",
              "      <td>0.1</td>\n",
              "      <td>631.744976</td>\n",
              "      <td>31731688.0</td>\n",
              "      <td>17.7</td>\n",
              "      <td>17.7</td>\n",
              "      <td>0.470</td>\n",
              "      <td>9.9</td>\n",
              "    </tr>\n",
              "    <tr>\n",
              "      <th>3</th>\n",
              "      <td>Afghanistan</td>\n",
              "      <td>2012</td>\n",
              "      <td>Developing</td>\n",
              "      <td>59.5</td>\n",
              "      <td>272.0</td>\n",
              "      <td>69</td>\n",
              "      <td>0.01</td>\n",
              "      <td>78.184215</td>\n",
              "      <td>67.0</td>\n",
              "      <td>2787</td>\n",
              "      <td>17.6</td>\n",
              "      <td>93</td>\n",
              "      <td>67.0</td>\n",
              "      <td>8.52</td>\n",
              "      <td>67.0</td>\n",
              "      <td>0.1</td>\n",
              "      <td>669.959000</td>\n",
              "      <td>3696958.0</td>\n",
              "      <td>17.9</td>\n",
              "      <td>18.0</td>\n",
              "      <td>0.463</td>\n",
              "      <td>9.8</td>\n",
              "    </tr>\n",
              "    <tr>\n",
              "      <th>4</th>\n",
              "      <td>Afghanistan</td>\n",
              "      <td>2011</td>\n",
              "      <td>Developing</td>\n",
              "      <td>59.2</td>\n",
              "      <td>275.0</td>\n",
              "      <td>71</td>\n",
              "      <td>0.01</td>\n",
              "      <td>7.097109</td>\n",
              "      <td>68.0</td>\n",
              "      <td>3013</td>\n",
              "      <td>17.2</td>\n",
              "      <td>97</td>\n",
              "      <td>68.0</td>\n",
              "      <td>7.87</td>\n",
              "      <td>68.0</td>\n",
              "      <td>0.1</td>\n",
              "      <td>63.537231</td>\n",
              "      <td>2978599.0</td>\n",
              "      <td>18.2</td>\n",
              "      <td>18.2</td>\n",
              "      <td>0.454</td>\n",
              "      <td>9.5</td>\n",
              "    </tr>\n",
              "  </tbody>\n",
              "</table>\n",
              "</div>"
            ],
            "text/plain": [
              "       Country  Year  ... Income composition of resources  Schooling\n",
              "0  Afghanistan  2015  ...                           0.479       10.1\n",
              "1  Afghanistan  2014  ...                           0.476       10.0\n",
              "2  Afghanistan  2013  ...                           0.470        9.9\n",
              "3  Afghanistan  2012  ...                           0.463        9.8\n",
              "4  Afghanistan  2011  ...                           0.454        9.5\n",
              "\n",
              "[5 rows x 22 columns]"
            ]
          },
          "metadata": {
            "tags": []
          },
          "execution_count": 178
        }
      ]
    },
    {
      "cell_type": "markdown",
      "metadata": {
        "id": "_Yl2ghwffF-f",
        "colab_type": "text"
      },
      "source": [
        "#Preparación de los datos\n"
      ]
    },
    {
      "cell_type": "markdown",
      "metadata": {
        "id": "yuO3FvkagWxx",
        "colab_type": "text"
      },
      "source": [
        "## Hot encoding columna Status"
      ]
    },
    {
      "cell_type": "code",
      "metadata": {
        "id": "721XGjZXfK8j",
        "colab_type": "code",
        "colab": {
          "base_uri": "https://localhost:8080/",
          "height": 202
        },
        "outputId": "ff5ef9e5-030e-4439-cb44-06d81428c97f"
      },
      "source": [
        "status = pd.get_dummies(df.Status)\n",
        "status.head()"
      ],
      "execution_count": null,
      "outputs": [
        {
          "output_type": "execute_result",
          "data": {
            "text/html": [
              "<div>\n",
              "<style scoped>\n",
              "    .dataframe tbody tr th:only-of-type {\n",
              "        vertical-align: middle;\n",
              "    }\n",
              "\n",
              "    .dataframe tbody tr th {\n",
              "        vertical-align: top;\n",
              "    }\n",
              "\n",
              "    .dataframe thead th {\n",
              "        text-align: right;\n",
              "    }\n",
              "</style>\n",
              "<table border=\"1\" class=\"dataframe\">\n",
              "  <thead>\n",
              "    <tr style=\"text-align: right;\">\n",
              "      <th></th>\n",
              "      <th>Developed</th>\n",
              "      <th>Developing</th>\n",
              "    </tr>\n",
              "  </thead>\n",
              "  <tbody>\n",
              "    <tr>\n",
              "      <th>0</th>\n",
              "      <td>0</td>\n",
              "      <td>1</td>\n",
              "    </tr>\n",
              "    <tr>\n",
              "      <th>1</th>\n",
              "      <td>0</td>\n",
              "      <td>1</td>\n",
              "    </tr>\n",
              "    <tr>\n",
              "      <th>2</th>\n",
              "      <td>0</td>\n",
              "      <td>1</td>\n",
              "    </tr>\n",
              "    <tr>\n",
              "      <th>3</th>\n",
              "      <td>0</td>\n",
              "      <td>1</td>\n",
              "    </tr>\n",
              "    <tr>\n",
              "      <th>4</th>\n",
              "      <td>0</td>\n",
              "      <td>1</td>\n",
              "    </tr>\n",
              "  </tbody>\n",
              "</table>\n",
              "</div>"
            ],
            "text/plain": [
              "   Developed  Developing\n",
              "0          0           1\n",
              "1          0           1\n",
              "2          0           1\n",
              "3          0           1\n",
              "4          0           1"
            ]
          },
          "metadata": {
            "tags": []
          },
          "execution_count": 179
        }
      ]
    },
    {
      "cell_type": "markdown",
      "metadata": {
        "id": "uqhP6bRVgaDN",
        "colab_type": "text"
      },
      "source": [
        "##Unión con un DataFrame auxiliar y eliminación de la columnas columnas Status y Country"
      ]
    },
    {
      "cell_type": "code",
      "metadata": {
        "id": "WrRprEhygUbN",
        "colab_type": "code",
        "colab": {}
      },
      "source": [
        "aux = pd.concat([df, status], axis=1)"
      ],
      "execution_count": null,
      "outputs": []
    },
    {
      "cell_type": "code",
      "metadata": {
        "id": "t9bS0gaIgtXq",
        "colab_type": "code",
        "colab": {
          "base_uri": "https://localhost:8080/",
          "height": 488
        },
        "outputId": "49bc3689-85db-4505-8461-4aa39eaf0630"
      },
      "source": [
        "aux.drop(columns=['Status','Country'],inplace=True)\n",
        "aux"
      ],
      "execution_count": null,
      "outputs": [
        {
          "output_type": "execute_result",
          "data": {
            "text/html": [
              "<div>\n",
              "<style scoped>\n",
              "    .dataframe tbody tr th:only-of-type {\n",
              "        vertical-align: middle;\n",
              "    }\n",
              "\n",
              "    .dataframe tbody tr th {\n",
              "        vertical-align: top;\n",
              "    }\n",
              "\n",
              "    .dataframe thead th {\n",
              "        text-align: right;\n",
              "    }\n",
              "</style>\n",
              "<table border=\"1\" class=\"dataframe\">\n",
              "  <thead>\n",
              "    <tr style=\"text-align: right;\">\n",
              "      <th></th>\n",
              "      <th>Year</th>\n",
              "      <th>Life expectancy</th>\n",
              "      <th>Adult Mortality</th>\n",
              "      <th>infant deaths</th>\n",
              "      <th>Alcohol</th>\n",
              "      <th>percentage expenditure</th>\n",
              "      <th>Hepatitis B</th>\n",
              "      <th>Measles</th>\n",
              "      <th>BMI</th>\n",
              "      <th>under-five deaths</th>\n",
              "      <th>Polio</th>\n",
              "      <th>Total expenditure</th>\n",
              "      <th>Diphtheria</th>\n",
              "      <th>HIV/AIDS</th>\n",
              "      <th>GDP</th>\n",
              "      <th>Population</th>\n",
              "      <th>thinness  1-19 years</th>\n",
              "      <th>thinness 5-9 years</th>\n",
              "      <th>Income composition of resources</th>\n",
              "      <th>Schooling</th>\n",
              "      <th>Developed</th>\n",
              "      <th>Developing</th>\n",
              "    </tr>\n",
              "  </thead>\n",
              "  <tbody>\n",
              "    <tr>\n",
              "      <th>0</th>\n",
              "      <td>2015</td>\n",
              "      <td>65.0</td>\n",
              "      <td>263.0</td>\n",
              "      <td>62</td>\n",
              "      <td>0.01</td>\n",
              "      <td>71.279624</td>\n",
              "      <td>65.0</td>\n",
              "      <td>1154</td>\n",
              "      <td>19.1</td>\n",
              "      <td>83</td>\n",
              "      <td>6.0</td>\n",
              "      <td>8.16</td>\n",
              "      <td>65.0</td>\n",
              "      <td>0.1</td>\n",
              "      <td>584.259210</td>\n",
              "      <td>33736494.0</td>\n",
              "      <td>17.2</td>\n",
              "      <td>17.3</td>\n",
              "      <td>0.479</td>\n",
              "      <td>10.1</td>\n",
              "      <td>0</td>\n",
              "      <td>1</td>\n",
              "    </tr>\n",
              "    <tr>\n",
              "      <th>1</th>\n",
              "      <td>2014</td>\n",
              "      <td>59.9</td>\n",
              "      <td>271.0</td>\n",
              "      <td>64</td>\n",
              "      <td>0.01</td>\n",
              "      <td>73.523582</td>\n",
              "      <td>62.0</td>\n",
              "      <td>492</td>\n",
              "      <td>18.6</td>\n",
              "      <td>86</td>\n",
              "      <td>58.0</td>\n",
              "      <td>8.18</td>\n",
              "      <td>62.0</td>\n",
              "      <td>0.1</td>\n",
              "      <td>612.696514</td>\n",
              "      <td>327582.0</td>\n",
              "      <td>17.5</td>\n",
              "      <td>17.5</td>\n",
              "      <td>0.476</td>\n",
              "      <td>10.0</td>\n",
              "      <td>0</td>\n",
              "      <td>1</td>\n",
              "    </tr>\n",
              "    <tr>\n",
              "      <th>2</th>\n",
              "      <td>2013</td>\n",
              "      <td>59.9</td>\n",
              "      <td>268.0</td>\n",
              "      <td>66</td>\n",
              "      <td>0.01</td>\n",
              "      <td>73.219243</td>\n",
              "      <td>64.0</td>\n",
              "      <td>430</td>\n",
              "      <td>18.1</td>\n",
              "      <td>89</td>\n",
              "      <td>62.0</td>\n",
              "      <td>8.13</td>\n",
              "      <td>64.0</td>\n",
              "      <td>0.1</td>\n",
              "      <td>631.744976</td>\n",
              "      <td>31731688.0</td>\n",
              "      <td>17.7</td>\n",
              "      <td>17.7</td>\n",
              "      <td>0.470</td>\n",
              "      <td>9.9</td>\n",
              "      <td>0</td>\n",
              "      <td>1</td>\n",
              "    </tr>\n",
              "    <tr>\n",
              "      <th>3</th>\n",
              "      <td>2012</td>\n",
              "      <td>59.5</td>\n",
              "      <td>272.0</td>\n",
              "      <td>69</td>\n",
              "      <td>0.01</td>\n",
              "      <td>78.184215</td>\n",
              "      <td>67.0</td>\n",
              "      <td>2787</td>\n",
              "      <td>17.6</td>\n",
              "      <td>93</td>\n",
              "      <td>67.0</td>\n",
              "      <td>8.52</td>\n",
              "      <td>67.0</td>\n",
              "      <td>0.1</td>\n",
              "      <td>669.959000</td>\n",
              "      <td>3696958.0</td>\n",
              "      <td>17.9</td>\n",
              "      <td>18.0</td>\n",
              "      <td>0.463</td>\n",
              "      <td>9.8</td>\n",
              "      <td>0</td>\n",
              "      <td>1</td>\n",
              "    </tr>\n",
              "    <tr>\n",
              "      <th>4</th>\n",
              "      <td>2011</td>\n",
              "      <td>59.2</td>\n",
              "      <td>275.0</td>\n",
              "      <td>71</td>\n",
              "      <td>0.01</td>\n",
              "      <td>7.097109</td>\n",
              "      <td>68.0</td>\n",
              "      <td>3013</td>\n",
              "      <td>17.2</td>\n",
              "      <td>97</td>\n",
              "      <td>68.0</td>\n",
              "      <td>7.87</td>\n",
              "      <td>68.0</td>\n",
              "      <td>0.1</td>\n",
              "      <td>63.537231</td>\n",
              "      <td>2978599.0</td>\n",
              "      <td>18.2</td>\n",
              "      <td>18.2</td>\n",
              "      <td>0.454</td>\n",
              "      <td>9.5</td>\n",
              "      <td>0</td>\n",
              "      <td>1</td>\n",
              "    </tr>\n",
              "    <tr>\n",
              "      <th>...</th>\n",
              "      <td>...</td>\n",
              "      <td>...</td>\n",
              "      <td>...</td>\n",
              "      <td>...</td>\n",
              "      <td>...</td>\n",
              "      <td>...</td>\n",
              "      <td>...</td>\n",
              "      <td>...</td>\n",
              "      <td>...</td>\n",
              "      <td>...</td>\n",
              "      <td>...</td>\n",
              "      <td>...</td>\n",
              "      <td>...</td>\n",
              "      <td>...</td>\n",
              "      <td>...</td>\n",
              "      <td>...</td>\n",
              "      <td>...</td>\n",
              "      <td>...</td>\n",
              "      <td>...</td>\n",
              "      <td>...</td>\n",
              "      <td>...</td>\n",
              "      <td>...</td>\n",
              "    </tr>\n",
              "    <tr>\n",
              "      <th>2933</th>\n",
              "      <td>2004</td>\n",
              "      <td>44.3</td>\n",
              "      <td>723.0</td>\n",
              "      <td>27</td>\n",
              "      <td>4.36</td>\n",
              "      <td>0.000000</td>\n",
              "      <td>68.0</td>\n",
              "      <td>31</td>\n",
              "      <td>27.1</td>\n",
              "      <td>42</td>\n",
              "      <td>67.0</td>\n",
              "      <td>7.13</td>\n",
              "      <td>65.0</td>\n",
              "      <td>33.6</td>\n",
              "      <td>454.366654</td>\n",
              "      <td>12777511.0</td>\n",
              "      <td>9.4</td>\n",
              "      <td>9.4</td>\n",
              "      <td>0.407</td>\n",
              "      <td>9.2</td>\n",
              "      <td>0</td>\n",
              "      <td>1</td>\n",
              "    </tr>\n",
              "    <tr>\n",
              "      <th>2934</th>\n",
              "      <td>2003</td>\n",
              "      <td>44.5</td>\n",
              "      <td>715.0</td>\n",
              "      <td>26</td>\n",
              "      <td>4.06</td>\n",
              "      <td>0.000000</td>\n",
              "      <td>7.0</td>\n",
              "      <td>998</td>\n",
              "      <td>26.7</td>\n",
              "      <td>41</td>\n",
              "      <td>7.0</td>\n",
              "      <td>6.52</td>\n",
              "      <td>68.0</td>\n",
              "      <td>36.7</td>\n",
              "      <td>453.351155</td>\n",
              "      <td>12633897.0</td>\n",
              "      <td>9.8</td>\n",
              "      <td>9.9</td>\n",
              "      <td>0.418</td>\n",
              "      <td>9.5</td>\n",
              "      <td>0</td>\n",
              "      <td>1</td>\n",
              "    </tr>\n",
              "    <tr>\n",
              "      <th>2935</th>\n",
              "      <td>2002</td>\n",
              "      <td>44.8</td>\n",
              "      <td>73.0</td>\n",
              "      <td>25</td>\n",
              "      <td>4.43</td>\n",
              "      <td>0.000000</td>\n",
              "      <td>73.0</td>\n",
              "      <td>304</td>\n",
              "      <td>26.3</td>\n",
              "      <td>40</td>\n",
              "      <td>73.0</td>\n",
              "      <td>6.53</td>\n",
              "      <td>71.0</td>\n",
              "      <td>39.8</td>\n",
              "      <td>57.348340</td>\n",
              "      <td>125525.0</td>\n",
              "      <td>1.2</td>\n",
              "      <td>1.3</td>\n",
              "      <td>0.427</td>\n",
              "      <td>10.0</td>\n",
              "      <td>0</td>\n",
              "      <td>1</td>\n",
              "    </tr>\n",
              "    <tr>\n",
              "      <th>2936</th>\n",
              "      <td>2001</td>\n",
              "      <td>45.3</td>\n",
              "      <td>686.0</td>\n",
              "      <td>25</td>\n",
              "      <td>1.72</td>\n",
              "      <td>0.000000</td>\n",
              "      <td>76.0</td>\n",
              "      <td>529</td>\n",
              "      <td>25.9</td>\n",
              "      <td>39</td>\n",
              "      <td>76.0</td>\n",
              "      <td>6.16</td>\n",
              "      <td>75.0</td>\n",
              "      <td>42.1</td>\n",
              "      <td>548.587312</td>\n",
              "      <td>12366165.0</td>\n",
              "      <td>1.6</td>\n",
              "      <td>1.7</td>\n",
              "      <td>0.427</td>\n",
              "      <td>9.8</td>\n",
              "      <td>0</td>\n",
              "      <td>1</td>\n",
              "    </tr>\n",
              "    <tr>\n",
              "      <th>2937</th>\n",
              "      <td>2000</td>\n",
              "      <td>46.0</td>\n",
              "      <td>665.0</td>\n",
              "      <td>24</td>\n",
              "      <td>1.68</td>\n",
              "      <td>0.000000</td>\n",
              "      <td>79.0</td>\n",
              "      <td>1483</td>\n",
              "      <td>25.5</td>\n",
              "      <td>39</td>\n",
              "      <td>78.0</td>\n",
              "      <td>7.10</td>\n",
              "      <td>78.0</td>\n",
              "      <td>43.5</td>\n",
              "      <td>547.358879</td>\n",
              "      <td>12222251.0</td>\n",
              "      <td>11.0</td>\n",
              "      <td>11.2</td>\n",
              "      <td>0.434</td>\n",
              "      <td>9.8</td>\n",
              "      <td>0</td>\n",
              "      <td>1</td>\n",
              "    </tr>\n",
              "  </tbody>\n",
              "</table>\n",
              "<p>2938 rows × 22 columns</p>\n",
              "</div>"
            ],
            "text/plain": [
              "      Year  Life expectancy   Adult Mortality  ...  Schooling  Developed  Developing\n",
              "0     2015              65.0            263.0  ...       10.1          0           1\n",
              "1     2014              59.9            271.0  ...       10.0          0           1\n",
              "2     2013              59.9            268.0  ...        9.9          0           1\n",
              "3     2012              59.5            272.0  ...        9.8          0           1\n",
              "4     2011              59.2            275.0  ...        9.5          0           1\n",
              "...    ...               ...              ...  ...        ...        ...         ...\n",
              "2933  2004              44.3            723.0  ...        9.2          0           1\n",
              "2934  2003              44.5            715.0  ...        9.5          0           1\n",
              "2935  2002              44.8             73.0  ...       10.0          0           1\n",
              "2936  2001              45.3            686.0  ...        9.8          0           1\n",
              "2937  2000              46.0            665.0  ...        9.8          0           1\n",
              "\n",
              "[2938 rows x 22 columns]"
            ]
          },
          "metadata": {
            "tags": []
          },
          "execution_count": 181
        }
      ]
    },
    {
      "cell_type": "code",
      "metadata": {
        "id": "6TG8ldhrhqht",
        "colab_type": "code",
        "colab": {
          "base_uri": "https://localhost:8080/",
          "height": 138
        },
        "outputId": "f2f81bcd-fc11-4ce3-f430-c7a618edd366"
      },
      "source": [
        "aux.columns"
      ],
      "execution_count": null,
      "outputs": [
        {
          "output_type": "execute_result",
          "data": {
            "text/plain": [
              "Index(['Year', 'Life expectancy ', 'Adult Mortality', 'infant deaths',\n",
              "       'Alcohol', 'percentage expenditure', 'Hepatitis B', 'Measles ', ' BMI ',\n",
              "       'under-five deaths ', 'Polio', 'Total expenditure', 'Diphtheria ',\n",
              "       ' HIV/AIDS', 'GDP', 'Population', ' thinness  1-19 years',\n",
              "       ' thinness 5-9 years', 'Income composition of resources', 'Schooling',\n",
              "       'Developed', 'Developing'],\n",
              "      dtype='object')"
            ]
          },
          "metadata": {
            "tags": []
          },
          "execution_count": 182
        }
      ]
    },
    {
      "cell_type": "markdown",
      "metadata": {
        "id": "qLRDrlqbn7Dh",
        "colab_type": "text"
      },
      "source": [
        "##Checkeo de valores no nulos\n",
        "\n"
      ]
    },
    {
      "cell_type": "code",
      "metadata": {
        "id": "QO87dsHcn-v1",
        "colab_type": "code",
        "colab": {
          "base_uri": "https://localhost:8080/",
          "height": 520
        },
        "outputId": "3ed39c73-f832-460b-9ddd-7647737d8c90"
      },
      "source": [
        "aux.info()"
      ],
      "execution_count": null,
      "outputs": [
        {
          "output_type": "stream",
          "text": [
            "<class 'pandas.core.frame.DataFrame'>\n",
            "RangeIndex: 2938 entries, 0 to 2937\n",
            "Data columns (total 22 columns):\n",
            " #   Column                           Non-Null Count  Dtype  \n",
            "---  ------                           --------------  -----  \n",
            " 0   Year                             2938 non-null   int64  \n",
            " 1   Life expectancy                  2928 non-null   float64\n",
            " 2   Adult Mortality                  2928 non-null   float64\n",
            " 3   infant deaths                    2938 non-null   int64  \n",
            " 4   Alcohol                          2744 non-null   float64\n",
            " 5   percentage expenditure           2938 non-null   float64\n",
            " 6   Hepatitis B                      2385 non-null   float64\n",
            " 7   Measles                          2938 non-null   int64  \n",
            " 8    BMI                             2904 non-null   float64\n",
            " 9   under-five deaths                2938 non-null   int64  \n",
            " 10  Polio                            2919 non-null   float64\n",
            " 11  Total expenditure                2712 non-null   float64\n",
            " 12  Diphtheria                       2919 non-null   float64\n",
            " 13   HIV/AIDS                        2938 non-null   float64\n",
            " 14  GDP                              2490 non-null   float64\n",
            " 15  Population                       2286 non-null   float64\n",
            " 16   thinness  1-19 years            2904 non-null   float64\n",
            " 17   thinness 5-9 years              2904 non-null   float64\n",
            " 18  Income composition of resources  2771 non-null   float64\n",
            " 19  Schooling                        2775 non-null   float64\n",
            " 20  Developed                        2938 non-null   uint8  \n",
            " 21  Developing                       2938 non-null   uint8  \n",
            "dtypes: float64(16), int64(4), uint8(2)\n",
            "memory usage: 464.9 KB\n"
          ],
          "name": "stdout"
        }
      ]
    },
    {
      "cell_type": "markdown",
      "metadata": {
        "id": "vR8L0eI3o4Z4",
        "colab_type": "text"
      },
      "source": [
        "Parece que no hay demasiados valores no numéricos. Sin embargo, los que hay pueden afectar el desempeño del modelo por lo que van a ser llenados por la media de cada columna"
      ]
    },
    {
      "cell_type": "code",
      "metadata": {
        "id": "5dJqRLmpowYi",
        "colab_type": "code",
        "colab": {
          "base_uri": "https://localhost:8080/",
          "height": 520
        },
        "outputId": "3229fceb-823a-4f5a-b136-ed633b6c68bd"
      },
      "source": [
        "aux.fillna(aux.mean(),inplace=True)\n",
        "aux.info()"
      ],
      "execution_count": null,
      "outputs": [
        {
          "output_type": "stream",
          "text": [
            "<class 'pandas.core.frame.DataFrame'>\n",
            "RangeIndex: 2938 entries, 0 to 2937\n",
            "Data columns (total 22 columns):\n",
            " #   Column                           Non-Null Count  Dtype  \n",
            "---  ------                           --------------  -----  \n",
            " 0   Year                             2938 non-null   int64  \n",
            " 1   Life expectancy                  2938 non-null   float64\n",
            " 2   Adult Mortality                  2938 non-null   float64\n",
            " 3   infant deaths                    2938 non-null   int64  \n",
            " 4   Alcohol                          2938 non-null   float64\n",
            " 5   percentage expenditure           2938 non-null   float64\n",
            " 6   Hepatitis B                      2938 non-null   float64\n",
            " 7   Measles                          2938 non-null   int64  \n",
            " 8    BMI                             2938 non-null   float64\n",
            " 9   under-five deaths                2938 non-null   int64  \n",
            " 10  Polio                            2938 non-null   float64\n",
            " 11  Total expenditure                2938 non-null   float64\n",
            " 12  Diphtheria                       2938 non-null   float64\n",
            " 13   HIV/AIDS                        2938 non-null   float64\n",
            " 14  GDP                              2938 non-null   float64\n",
            " 15  Population                       2938 non-null   float64\n",
            " 16   thinness  1-19 years            2938 non-null   float64\n",
            " 17   thinness 5-9 years              2938 non-null   float64\n",
            " 18  Income composition of resources  2938 non-null   float64\n",
            " 19  Schooling                        2938 non-null   float64\n",
            " 20  Developed                        2938 non-null   uint8  \n",
            " 21  Developing                       2938 non-null   uint8  \n",
            "dtypes: float64(16), int64(4), uint8(2)\n",
            "memory usage: 464.9 KB\n"
          ],
          "name": "stdout"
        }
      ]
    },
    {
      "cell_type": "markdown",
      "metadata": {
        "id": "B99ORHO-lcip",
        "colab_type": "text"
      },
      "source": [
        "##Escalamiento de los datos\n"
      ]
    },
    {
      "cell_type": "code",
      "metadata": {
        "id": "Q8Z73di8lfAe",
        "colab_type": "code",
        "colab": {
          "base_uri": "https://localhost:8080/"
        },
        "outputId": "09a56783-f3bd-42d1-8120-a72fc50ceb43"
      },
      "source": [
        "for columna in aux.columns:\n",
        "  aux[columna] = (aux[columna] - aux[columna].min()) / (aux[columna].max() - aux[columna].min())\n",
        "aux"
      ],
      "execution_count": null,
      "outputs": [
        {
          "output_type": "execute_result",
          "data": {
            "text/html": [
              "<div>\n",
              "<style scoped>\n",
              "    .dataframe tbody tr th:only-of-type {\n",
              "        vertical-align: middle;\n",
              "    }\n",
              "\n",
              "    .dataframe tbody tr th {\n",
              "        vertical-align: top;\n",
              "    }\n",
              "\n",
              "    .dataframe thead th {\n",
              "        text-align: right;\n",
              "    }\n",
              "</style>\n",
              "<table border=\"1\" class=\"dataframe\">\n",
              "  <thead>\n",
              "    <tr style=\"text-align: right;\">\n",
              "      <th></th>\n",
              "      <th>Year</th>\n",
              "      <th>Life expectancy</th>\n",
              "      <th>Adult Mortality</th>\n",
              "      <th>infant deaths</th>\n",
              "      <th>Alcohol</th>\n",
              "      <th>percentage expenditure</th>\n",
              "      <th>Hepatitis B</th>\n",
              "      <th>Measles</th>\n",
              "      <th>BMI</th>\n",
              "      <th>under-five deaths</th>\n",
              "      <th>Polio</th>\n",
              "      <th>Total expenditure</th>\n",
              "      <th>Diphtheria</th>\n",
              "      <th>HIV/AIDS</th>\n",
              "      <th>GDP</th>\n",
              "      <th>Population</th>\n",
              "      <th>thinness  1-19 years</th>\n",
              "      <th>thinness 5-9 years</th>\n",
              "      <th>Income composition of resources</th>\n",
              "      <th>Schooling</th>\n",
              "      <th>Developed</th>\n",
              "      <th>Developing</th>\n",
              "    </tr>\n",
              "  </thead>\n",
              "  <tbody>\n",
              "    <tr>\n",
              "      <th>0</th>\n",
              "      <td>1.000000</td>\n",
              "      <td>0.544592</td>\n",
              "      <td>0.362881</td>\n",
              "      <td>0.034444</td>\n",
              "      <td>0.000000</td>\n",
              "      <td>0.003659</td>\n",
              "      <td>0.653061</td>\n",
              "      <td>0.005439</td>\n",
              "      <td>0.209733</td>\n",
              "      <td>0.0332</td>\n",
              "      <td>0.031250</td>\n",
              "      <td>0.452118</td>\n",
              "      <td>0.649485</td>\n",
              "      <td>0.000000</td>\n",
              "      <td>0.004889</td>\n",
              "      <td>0.026074</td>\n",
              "      <td>0.619565</td>\n",
              "      <td>0.603509</td>\n",
              "      <td>0.505274</td>\n",
              "      <td>0.487923</td>\n",
              "      <td>0.0</td>\n",
              "      <td>1.0</td>\n",
              "    </tr>\n",
              "    <tr>\n",
              "      <th>1</th>\n",
              "      <td>0.933333</td>\n",
              "      <td>0.447818</td>\n",
              "      <td>0.373961</td>\n",
              "      <td>0.035556</td>\n",
              "      <td>0.000000</td>\n",
              "      <td>0.003774</td>\n",
              "      <td>0.622449</td>\n",
              "      <td>0.002319</td>\n",
              "      <td>0.203940</td>\n",
              "      <td>0.0344</td>\n",
              "      <td>0.572917</td>\n",
              "      <td>0.453279</td>\n",
              "      <td>0.618557</td>\n",
              "      <td>0.000000</td>\n",
              "      <td>0.005127</td>\n",
              "      <td>0.000253</td>\n",
              "      <td>0.630435</td>\n",
              "      <td>0.610526</td>\n",
              "      <td>0.502110</td>\n",
              "      <td>0.483092</td>\n",
              "      <td>0.0</td>\n",
              "      <td>1.0</td>\n",
              "    </tr>\n",
              "    <tr>\n",
              "      <th>2</th>\n",
              "      <td>0.866667</td>\n",
              "      <td>0.447818</td>\n",
              "      <td>0.369806</td>\n",
              "      <td>0.036667</td>\n",
              "      <td>0.000000</td>\n",
              "      <td>0.003759</td>\n",
              "      <td>0.642857</td>\n",
              "      <td>0.002027</td>\n",
              "      <td>0.198146</td>\n",
              "      <td>0.0356</td>\n",
              "      <td>0.614583</td>\n",
              "      <td>0.450377</td>\n",
              "      <td>0.639175</td>\n",
              "      <td>0.000000</td>\n",
              "      <td>0.005287</td>\n",
              "      <td>0.024525</td>\n",
              "      <td>0.637681</td>\n",
              "      <td>0.617544</td>\n",
              "      <td>0.495781</td>\n",
              "      <td>0.478261</td>\n",
              "      <td>0.0</td>\n",
              "      <td>1.0</td>\n",
              "    </tr>\n",
              "    <tr>\n",
              "      <th>3</th>\n",
              "      <td>0.800000</td>\n",
              "      <td>0.440228</td>\n",
              "      <td>0.375346</td>\n",
              "      <td>0.038333</td>\n",
              "      <td>0.000000</td>\n",
              "      <td>0.004014</td>\n",
              "      <td>0.673469</td>\n",
              "      <td>0.013135</td>\n",
              "      <td>0.192352</td>\n",
              "      <td>0.0372</td>\n",
              "      <td>0.666667</td>\n",
              "      <td>0.473012</td>\n",
              "      <td>0.670103</td>\n",
              "      <td>0.000000</td>\n",
              "      <td>0.005608</td>\n",
              "      <td>0.002857</td>\n",
              "      <td>0.644928</td>\n",
              "      <td>0.628070</td>\n",
              "      <td>0.488397</td>\n",
              "      <td>0.473430</td>\n",
              "      <td>0.0</td>\n",
              "      <td>1.0</td>\n",
              "    </tr>\n",
              "    <tr>\n",
              "      <th>4</th>\n",
              "      <td>0.733333</td>\n",
              "      <td>0.434535</td>\n",
              "      <td>0.379501</td>\n",
              "      <td>0.039444</td>\n",
              "      <td>0.000000</td>\n",
              "      <td>0.000364</td>\n",
              "      <td>0.683673</td>\n",
              "      <td>0.014200</td>\n",
              "      <td>0.187717</td>\n",
              "      <td>0.0388</td>\n",
              "      <td>0.677083</td>\n",
              "      <td>0.435287</td>\n",
              "      <td>0.680412</td>\n",
              "      <td>0.000000</td>\n",
              "      <td>0.000519</td>\n",
              "      <td>0.002302</td>\n",
              "      <td>0.655797</td>\n",
              "      <td>0.635088</td>\n",
              "      <td>0.478903</td>\n",
              "      <td>0.458937</td>\n",
              "      <td>0.0</td>\n",
              "      <td>1.0</td>\n",
              "    </tr>\n",
              "    <tr>\n",
              "      <th>...</th>\n",
              "      <td>...</td>\n",
              "      <td>...</td>\n",
              "      <td>...</td>\n",
              "      <td>...</td>\n",
              "      <td>...</td>\n",
              "      <td>...</td>\n",
              "      <td>...</td>\n",
              "      <td>...</td>\n",
              "      <td>...</td>\n",
              "      <td>...</td>\n",
              "      <td>...</td>\n",
              "      <td>...</td>\n",
              "      <td>...</td>\n",
              "      <td>...</td>\n",
              "      <td>...</td>\n",
              "      <td>...</td>\n",
              "      <td>...</td>\n",
              "      <td>...</td>\n",
              "      <td>...</td>\n",
              "      <td>...</td>\n",
              "      <td>...</td>\n",
              "      <td>...</td>\n",
              "    </tr>\n",
              "    <tr>\n",
              "      <th>2933</th>\n",
              "      <td>0.266667</td>\n",
              "      <td>0.151803</td>\n",
              "      <td>1.000000</td>\n",
              "      <td>0.015000</td>\n",
              "      <td>0.243561</td>\n",
              "      <td>0.000000</td>\n",
              "      <td>0.683673</td>\n",
              "      <td>0.000146</td>\n",
              "      <td>0.302433</td>\n",
              "      <td>0.0168</td>\n",
              "      <td>0.666667</td>\n",
              "      <td>0.392339</td>\n",
              "      <td>0.649485</td>\n",
              "      <td>0.663366</td>\n",
              "      <td>0.003799</td>\n",
              "      <td>0.009875</td>\n",
              "      <td>0.336957</td>\n",
              "      <td>0.326316</td>\n",
              "      <td>0.429325</td>\n",
              "      <td>0.444444</td>\n",
              "      <td>0.0</td>\n",
              "      <td>1.0</td>\n",
              "    </tr>\n",
              "    <tr>\n",
              "      <th>2934</th>\n",
              "      <td>0.200000</td>\n",
              "      <td>0.155598</td>\n",
              "      <td>0.988920</td>\n",
              "      <td>0.014444</td>\n",
              "      <td>0.226764</td>\n",
              "      <td>0.000000</td>\n",
              "      <td>0.061224</td>\n",
              "      <td>0.004703</td>\n",
              "      <td>0.297798</td>\n",
              "      <td>0.0164</td>\n",
              "      <td>0.041667</td>\n",
              "      <td>0.356936</td>\n",
              "      <td>0.680412</td>\n",
              "      <td>0.724752</td>\n",
              "      <td>0.003790</td>\n",
              "      <td>0.009764</td>\n",
              "      <td>0.351449</td>\n",
              "      <td>0.343860</td>\n",
              "      <td>0.440928</td>\n",
              "      <td>0.458937</td>\n",
              "      <td>0.0</td>\n",
              "      <td>1.0</td>\n",
              "    </tr>\n",
              "    <tr>\n",
              "      <th>2935</th>\n",
              "      <td>0.133333</td>\n",
              "      <td>0.161290</td>\n",
              "      <td>0.099723</td>\n",
              "      <td>0.013889</td>\n",
              "      <td>0.247480</td>\n",
              "      <td>0.000000</td>\n",
              "      <td>0.734694</td>\n",
              "      <td>0.001433</td>\n",
              "      <td>0.293163</td>\n",
              "      <td>0.0160</td>\n",
              "      <td>0.729167</td>\n",
              "      <td>0.357516</td>\n",
              "      <td>0.711340</td>\n",
              "      <td>0.786139</td>\n",
              "      <td>0.000467</td>\n",
              "      <td>0.000097</td>\n",
              "      <td>0.039855</td>\n",
              "      <td>0.042105</td>\n",
              "      <td>0.450422</td>\n",
              "      <td>0.483092</td>\n",
              "      <td>0.0</td>\n",
              "      <td>1.0</td>\n",
              "    </tr>\n",
              "    <tr>\n",
              "      <th>2936</th>\n",
              "      <td>0.066667</td>\n",
              "      <td>0.170778</td>\n",
              "      <td>0.948753</td>\n",
              "      <td>0.013889</td>\n",
              "      <td>0.095745</td>\n",
              "      <td>0.000000</td>\n",
              "      <td>0.765306</td>\n",
              "      <td>0.002493</td>\n",
              "      <td>0.288528</td>\n",
              "      <td>0.0156</td>\n",
              "      <td>0.760417</td>\n",
              "      <td>0.336042</td>\n",
              "      <td>0.752577</td>\n",
              "      <td>0.831683</td>\n",
              "      <td>0.004589</td>\n",
              "      <td>0.009558</td>\n",
              "      <td>0.054348</td>\n",
              "      <td>0.056140</td>\n",
              "      <td>0.450422</td>\n",
              "      <td>0.473430</td>\n",
              "      <td>0.0</td>\n",
              "      <td>1.0</td>\n",
              "    </tr>\n",
              "    <tr>\n",
              "      <th>2937</th>\n",
              "      <td>0.000000</td>\n",
              "      <td>0.184061</td>\n",
              "      <td>0.919668</td>\n",
              "      <td>0.013333</td>\n",
              "      <td>0.093505</td>\n",
              "      <td>0.000000</td>\n",
              "      <td>0.795918</td>\n",
              "      <td>0.006989</td>\n",
              "      <td>0.283893</td>\n",
              "      <td>0.0156</td>\n",
              "      <td>0.781250</td>\n",
              "      <td>0.390598</td>\n",
              "      <td>0.783505</td>\n",
              "      <td>0.859406</td>\n",
              "      <td>0.004579</td>\n",
              "      <td>0.009446</td>\n",
              "      <td>0.394928</td>\n",
              "      <td>0.389474</td>\n",
              "      <td>0.457806</td>\n",
              "      <td>0.473430</td>\n",
              "      <td>0.0</td>\n",
              "      <td>1.0</td>\n",
              "    </tr>\n",
              "  </tbody>\n",
              "</table>\n",
              "<p>2938 rows × 22 columns</p>\n",
              "</div>"
            ],
            "text/plain": [
              "          Year  Life expectancy   ...  Developed  Developing\n",
              "0     1.000000          0.544592  ...        0.0         1.0\n",
              "1     0.933333          0.447818  ...        0.0         1.0\n",
              "2     0.866667          0.447818  ...        0.0         1.0\n",
              "3     0.800000          0.440228  ...        0.0         1.0\n",
              "4     0.733333          0.434535  ...        0.0         1.0\n",
              "...        ...               ...  ...        ...         ...\n",
              "2933  0.266667          0.151803  ...        0.0         1.0\n",
              "2934  0.200000          0.155598  ...        0.0         1.0\n",
              "2935  0.133333          0.161290  ...        0.0         1.0\n",
              "2936  0.066667          0.170778  ...        0.0         1.0\n",
              "2937  0.000000          0.184061  ...        0.0         1.0\n",
              "\n",
              "[2938 rows x 22 columns]"
            ]
          },
          "metadata": {
            "tags": []
          },
          "execution_count": 185
        }
      ]
    },
    {
      "cell_type": "markdown",
      "metadata": {
        "id": "WGViVdF1g44K",
        "colab_type": "text"
      },
      "source": [
        "#Modelos"
      ]
    },
    {
      "cell_type": "markdown",
      "metadata": {
        "id": "QyU4w1LLswK0",
        "colab_type": "text"
      },
      "source": [
        "Función general para todos los modelos"
      ]
    },
    {
      "cell_type": "code",
      "metadata": {
        "id": "D5QuTWjTsvpC",
        "colab_type": "code",
        "colab": {}
      },
      "source": [
        "def resultados(columnas,datos,objetivo='Life expectancy '):\n",
        "  X_train, X_test, y_train, y_test = train_test_split(datos[columnas], datos[objetivo], random_state=0) #Por defecto se asigna 25% al conjunto de prueba y 75% al de entrenamiento\n",
        "  #Creación y ajuste del modelo de regresión lineal\n",
        "  reg = LinearRegression() \n",
        "  reg.fit(X_train, y_train)\n",
        "  #Predicción y cálculo de las métricas solicitadas\n",
        "  prediction_y_train = reg.predict(X_train)\n",
        "  r_squared1 = r2_score(y_train,prediction_y_train)\n",
        "  prediction_y_test = reg.predict(X_test)\n",
        "  mse1 = mean_squared_error(y_test,prediction_y_test)\n",
        "  return (f'Se obtuvo un r2 de {r_squared1} en el conjunto de entrenamiento y un mean squared error de {mse1} en el conjunto de prueba',reg)"
      ],
      "execution_count": null,
      "outputs": []
    },
    {
      "cell_type": "markdown",
      "metadata": {
        "id": "cr_UAvSSkeQY",
        "colab_type": "text"
      },
      "source": [
        "##Modelo 1\n",
        "Este modelo tendrá en cuenta todas las columnas."
      ]
    },
    {
      "cell_type": "code",
      "metadata": {
        "id": "6qrQiM0hkisn",
        "colab_type": "code",
        "colab": {}
      },
      "source": [
        "objetivo = 'Life expectancy '\n",
        "lista_Columnas = aux.columns.to_list()\n",
        "lista_Columnas.remove(objetivo)\n",
        "colM1 = lista_Columnas\n",
        "columnas = lista_Columnas"
      ],
      "execution_count": null,
      "outputs": []
    },
    {
      "cell_type": "markdown",
      "metadata": {
        "id": "i65WGBq2qA2w",
        "colab_type": "text"
      },
      "source": [
        "###Resultados"
      ]
    },
    {
      "cell_type": "code",
      "metadata": {
        "id": "w0Xh3MkcqDCg",
        "colab_type": "code",
        "colab": {
          "base_uri": "https://localhost:8080/",
          "height": 34
        },
        "outputId": "55cf73c3-d008-45b4-c93f-b9383fe0dd8b"
      },
      "source": [
        "Modelo1 = resultados(columnas,aux,objetivo)\n",
        "Modelo1[0]"
      ],
      "execution_count": null,
      "outputs": [
        {
          "output_type": "execute_result",
          "data": {
            "application/vnd.google.colaboratory.intrinsic+json": {
              "type": "string"
            },
            "text/plain": [
              "'Se obtuvo un r2 de 0.815917676840848 en el conjunto de entrenamiento y un mean squared error de 0.005822845021164382 en el conjunto de prueba'"
            ]
          },
          "metadata": {
            "tags": []
          },
          "execution_count": 188
        }
      ]
    },
    {
      "cell_type": "markdown",
      "metadata": {
        "colab_type": "text",
        "id": "XGdA1hoVutIT"
      },
      "source": [
        "##Modelo 2\n",
        "Este modelo no tendrá en cuenta las columnas:\n",
        "1. Alcohol\n",
        "2. Hepatitis B\n",
        "3. BMI\n",
        "4. Total expenditure\n",
        "5. GDP\n",
        "6. Population\n",
        "7. thinness  1-19 years\n",
        "8. thinness 5-9 years\n",
        "9. Income composition of resources\n",
        "10. Schooling\n",
        "\n"
      ]
    },
    {
      "cell_type": "code",
      "metadata": {
        "id": "bEfaVaLKuztf",
        "colab_type": "code",
        "colab": {}
      },
      "source": [
        "objetivo = 'Life expectancy '\n",
        "lista_Columnas = aux.columns.to_list()\n",
        "lista_Columnas.remove(objetivo)\n",
        "a_remover = ['Alcohol','Hepatitis B',' BMI ','Total expenditure','GDP','Population',' thinness  1-19 years',' thinness 5-9 years','Income composition of resources', 'Schooling']\n",
        "lista_Columnas = [x for x in lista_Columnas if x not in a_remover]\n",
        "colM2 = lista_Columnas\n",
        "\n",
        "columnas = lista_Columnas"
      ],
      "execution_count": null,
      "outputs": []
    },
    {
      "cell_type": "markdown",
      "metadata": {
        "id": "-gn7TB7FvKKe",
        "colab_type": "text"
      },
      "source": [
        "###Resultados"
      ]
    },
    {
      "cell_type": "code",
      "metadata": {
        "id": "zqkWB3kBvI7b",
        "colab_type": "code",
        "colab": {
          "base_uri": "https://localhost:8080/",
          "height": 34
        },
        "outputId": "7186ac1e-5600-4826-d469-9bc25c7aee8b"
      },
      "source": [
        "Modelo2 = resultados(columnas,aux,objetivo)\n",
        "Modelo2[0]"
      ],
      "execution_count": null,
      "outputs": [
        {
          "output_type": "execute_result",
          "data": {
            "application/vnd.google.colaboratory.intrinsic+json": {
              "type": "string"
            },
            "text/plain": [
              "'Se obtuvo un r2 de 0.731001003221222 en el conjunto de entrenamiento y un mean squared error de 0.009385997777545074 en el conjunto de prueba'"
            ]
          },
          "metadata": {
            "tags": []
          },
          "execution_count": 190
        }
      ]
    },
    {
      "cell_type": "markdown",
      "metadata": {
        "id": "lkRmYrU7vEXs",
        "colab_type": "text"
      },
      "source": [
        "##Modelo 3\n",
        "Este modelo no tendrá en cuenta las columnas:\n",
        "\n",
        "1. Income composition of resources\n",
        "2. GDP\n",
        "3. Total expenditure\n",
        "4. Hepatitis B\n",
        "5. Alcohol\n",
        "6. Population\n",
        "\n"
      ]
    },
    {
      "cell_type": "code",
      "metadata": {
        "id": "BxxZ63WpvGN1",
        "colab_type": "code",
        "colab": {}
      },
      "source": [
        "objetivo = 'Life expectancy '\n",
        "lista_Columnas = aux.columns.to_list()\n",
        "lista_Columnas.remove(objetivo)\n",
        "a_remover = ['Income composition of resources','GDP','Total expenditure','Hepatitis B','Alcohol','Population']\n",
        "lista_Columnas = [x for x in lista_Columnas if x not in a_remover]\n",
        "colM3 = lista_Columnas\n",
        "\n",
        "columnas = lista_Columnas"
      ],
      "execution_count": null,
      "outputs": []
    },
    {
      "cell_type": "markdown",
      "metadata": {
        "id": "b09dv3jwvSml",
        "colab_type": "text"
      },
      "source": [
        "###Resultados"
      ]
    },
    {
      "cell_type": "code",
      "metadata": {
        "id": "nq3sN2t0vUF9",
        "colab_type": "code",
        "colab": {
          "base_uri": "https://localhost:8080/",
          "height": 34
        },
        "outputId": "028b0ded-7934-42bd-cb45-d6b32c55dca0"
      },
      "source": [
        "Modelo3 = resultados(columnas,aux,objetivo)\n",
        "Modelo3[0]"
      ],
      "execution_count": null,
      "outputs": [
        {
          "output_type": "execute_result",
          "data": {
            "application/vnd.google.colaboratory.intrinsic+json": {
              "type": "string"
            },
            "text/plain": [
              "'Se obtuvo un r2 de 0.8076631230190523 en el conjunto de entrenamiento y un mean squared error de 0.005942843426660348 en el conjunto de prueba'"
            ]
          },
          "metadata": {
            "tags": []
          },
          "execution_count": 192
        }
      ]
    },
    {
      "cell_type": "markdown",
      "metadata": {
        "id": "5y5aykWVGDKt",
        "colab_type": "text"
      },
      "source": [
        "#Variable de mayor afectación\n"
      ]
    },
    {
      "cell_type": "markdown",
      "metadata": {
        "id": "N4Lt6ApvH8z1",
        "colab_type": "text"
      },
      "source": [
        "##Pesos de todas las variables"
      ]
    },
    {
      "cell_type": "code",
      "metadata": {
        "id": "UygS19xIGJFH",
        "colab_type": "code",
        "colab": {
          "base_uri": "https://localhost:8080/",
          "height": 381
        },
        "outputId": "5a3252d6-45d5-4dea-9d2e-928131ba6676"
      },
      "source": [
        "parejas = list(zip(colM1,Modelo1[1].coef_))\n",
        "parejas.sort(key=lambda x:x[1],reverse=True)\n",
        "parejas"
      ],
      "execution_count": null,
      "outputs": [
        {
          "output_type": "execute_result",
          "data": {
            "text/plain": [
              "[('infant deaths', 3.391790801562926),\n",
              " ('Schooling', 0.22344196366163807),\n",
              " ('Income composition of resources', 0.11254823371245773),\n",
              " ('GDP', 0.08789125244828759),\n",
              " (' BMI ', 0.07951091370471196),\n",
              " ('Diphtheria ', 0.07084676531183802),\n",
              " ('Polio', 0.05819857839541722),\n",
              " ('Total expenditure', 0.04017070069564396),\n",
              " ('Population', 0.023720944656703866),\n",
              " ('percentage expenditure', 0.02248923572642583),\n",
              " (' thinness 5-9 years', 0.018361479206929838),\n",
              " ('Alcohol', 0.017362200596462336),\n",
              " ('Developed', 0.014932698247758482),\n",
              " ('Year', -0.004192615434181024),\n",
              " ('Developing', -0.014932698247760279),\n",
              " ('Hepatitis B', -0.026916999546542305),\n",
              " (' thinness  1-19 years', -0.05285170334080163),\n",
              " ('Measles ', -0.09220403948606884),\n",
              " ('Adult Mortality', -0.27221021593181166),\n",
              " (' HIV/AIDS', -0.4320584503230993),\n",
              " ('under-five deaths ', -3.540296098243306)]"
            ]
          },
          "metadata": {
            "tags": []
          },
          "execution_count": 198
        }
      ]
    },
    {
      "cell_type": "markdown",
      "metadata": {
        "id": "0CQ4Sx0mICLT",
        "colab_type": "text"
      },
      "source": [
        "##Peso de la variable de mayor afectación "
      ]
    },
    {
      "cell_type": "code",
      "metadata": {
        "id": "4dH9_l7aILpJ",
        "colab_type": "code",
        "colab": {
          "base_uri": "https://localhost:8080/",
          "height": 34
        },
        "outputId": "8e7fac0a-feb9-4728-8413-40eb50212e61"
      },
      "source": [
        "mas_pesada = parejas[0] if abs(parejas[0][1]) > abs(parejas[-1][1]) else parejas[-1]\n",
        "mas_pesada"
      ],
      "execution_count": null,
      "outputs": [
        {
          "output_type": "execute_result",
          "data": {
            "text/plain": [
              "('under-five deaths ', -3.540296098243306)"
            ]
          },
          "metadata": {
            "tags": []
          },
          "execution_count": 200
        }
      ]
    }
  ]
}