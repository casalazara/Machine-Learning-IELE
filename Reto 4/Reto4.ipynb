{
  "nbformat": 4,
  "nbformat_minor": 0,
  "metadata": {
    "colab": {
      "name": "Untitled0.ipynb",
      "provenance": [],
      "include_colab_link": true
    },
    "kernelspec": {
      "name": "python3",
      "display_name": "Python 3"
    }
  },
  "cells": [
    {
      "cell_type": "markdown",
      "metadata": {
        "id": "view-in-github",
        "colab_type": "text"
      },
      "source": [
        "<a href=\"https://colab.research.google.com/github/casalazara/Machine-Learning-IELE/blob/master/Reto%204/Reto4.ipynb\" target=\"_parent\"><img src=\"https://colab.research.google.com/assets/colab-badge.svg\" alt=\"Open In Colab\"/></a>"
      ]
    },
    {
      "cell_type": "code",
      "metadata": {
        "id": "SBV6XCARNqNe"
      },
      "source": [
        "import keras,os\r\n",
        "from keras.models import Sequential\r\n",
        "from keras.layers import Dense, Conv2D, MaxPool2D , Flatten\r\n",
        "from keras.preprocessing.image import ImageDataGenerator\r\n",
        "import numpy as np\r\n",
        "import pandas as pd \r\n",
        "from keras.preprocessing import image\r\n",
        "from keras.models import load_model\r\n",
        "from google.colab import drive"
      ],
      "execution_count": 3,
      "outputs": []
    },
    {
      "cell_type": "code",
      "metadata": {
        "colab": {
          "base_uri": "https://localhost:8080/"
        },
        "id": "Oq8GSYJlop1x",
        "outputId": "e77281fa-f64e-4d26-c71a-ba34707b8960"
      },
      "source": [
        "drive.mount('./gdrive')\n",
        "os.chdir('./gdrive/MyDrive/reto4')"
      ],
      "execution_count": 10,
      "outputs": [
        {
          "output_type": "stream",
          "text": [
            "Drive already mounted at ./gdrive; to attempt to forcibly remount, call drive.mount(\"./gdrive\", force_remount=True).\n"
          ],
          "name": "stdout"
        }
      ]
    },
    {
      "cell_type": "code",
      "metadata": {
        "id": "Mq2Mp6eZN9MF"
      },
      "source": [
        "trdata = ImageDataGenerator()\r\n",
        "traindata = trdata.flow_from_directory(directory=\"seg_train\",target_size=(224,224))\r\n",
        "tsdata = ImageDataGenerator()\r\n",
        "testdata = tsdata.flow_from_directory(directory=\"seg_test\", target_size=(224,224))"
      ],
      "execution_count": null,
      "outputs": []
    },
    {
      "cell_type": "markdown",
      "metadata": {
        "id": "PJAjHgaMp8_P"
      },
      "source": [
        "# VGG-16\r\n",
        "![Arquitectura](https://miro.medium.com/max/850/1*_Lg1i7wv1pLpzp2F4MLrvw.png)\r\n"
      ]
    },
    {
      "cell_type": "markdown",
      "metadata": {
        "id": "Zzit6l7BCcNT"
      },
      "source": [
        "## Callback"
      ]
    },
    {
      "cell_type": "code",
      "metadata": {
        "id": "pXL07N-ZCeU7"
      },
      "source": [
        "class CustomCallback(keras.callbacks.Callback):\n",
        "    def __init__(self, weights_dir, patience=10, rate=0.5):\n",
        "        \"\"\"\n",
        "        Initializer Method\n",
        "        :param weights_dir: The directory of the model weights\n",
        "        :param patience: Number of epochs before reducing lr\n",
        "        :param rate: The rate to reduce the lr\n",
        "        \"\"\"\n",
        "        super(CustomCallback, self).__init__()\n",
        "        self.weights_dir = weights_dir\n",
        "        self.rate = rate\n",
        "        self.patience = patience\n",
        "\n",
        "    def on_train_begin(self, logs=None):\n",
        "        \"\"\"\n",
        "        Configurations to be taken an account on\n",
        "        before training begins.\n",
        "        :param logs: The logs from the output.\n",
        "        \"\"\"\n",
        "        self.best_loss = np.Inf\n",
        "        self.best_acc = 0\n",
        "        self.wait = 0\n",
        "        self.best_weights = None\n",
        "    \n",
        "    def on_epoch_end(self, epoch, logs=None):\n",
        "        \"\"\"\n",
        "        Method that is called each time an epoch ends\n",
        "        excecution\n",
        "        :param epoch: The current epoch of the training\n",
        "        :param logs: The logs from the output from an epoch ended\n",
        "        \"\"\"\n",
        "        # Current validation loss\n",
        "        current_loss = logs.get(\"val_loss\")\n",
        "        # Current validation Accuracy\n",
        "        current_acc = logs.get(\"val_acc\")\n",
        "        if (current_loss < self.best_loss and \n",
        "            current_acc > self.best_acc):\n",
        "            # We save the model weights\n",
        "            # We wait again\n",
        "            # We assign the best loss and the best accuracy.\n",
        "            self.wait = 0\n",
        "            self.best_loss = current_loss\n",
        "            self.best_acc = current_acc\n",
        "            self.model.save_weights(self.weights_dir)\n",
        "            self.best_weights = self.model.get_weights()\n",
        "            print(\"\\nBest Weights Saved!!\")\n",
        "        else:\n",
        "            self.wait += 1\n",
        "            if self.wait >= self.patience:\n",
        "                # Reduce learning rate by the initialized rate.\n",
        "                self.wait = 0\n",
        "                print(f\"\\nEpoch {epoch}, Reducing Learning Rate\")\n",
        "                # We set the new learning rate\n",
        "                lr = K.get_value(self.model.optimizer.lr)\n",
        "                new_lr = lr * self.rate\n",
        "                K.set_value(self.model.optimizer.lr, new_lr)\n",
        "                print(f\"\\nLearning Rate Reduced: {new_lr}\")\n",
        "                # We load the best weights to continue the training.\n",
        "                self.model.set_weights(self.best_weights)\n",
        "                print(\"\\nBest Weights Loaded!!\")"
      ],
      "execution_count": null,
      "outputs": []
    },
    {
      "cell_type": "markdown",
      "metadata": {
        "id": "5KuLxibIp-Uf"
      },
      "source": [
        "## Sin Transfer Learning"
      ]
    },
    {
      "cell_type": "markdown",
      "metadata": {
        "id": "lsvuvwBap5i8"
      },
      "source": [
        "### Construcción del modelo"
      ]
    },
    {
      "cell_type": "code",
      "metadata": {
        "id": "2x6CkdPzN9Q_"
      },
      "source": [
        "model = Sequential([\r\n",
        "                    Conv2D(input_shape=(224,224,3),filters=64,kernel_size=(3,3),padding=\"same\", activation=\"relu\"),\r\n",
        "                    Conv2D(filters=64,kernel_size=(3,3),padding=\"same\", activation=\"relu\"),\r\n",
        "                    MaxPool2D(pool_size=(2,2),strides=(2,2)),\r\n",
        "                    Conv2D(filters=128, kernel_size=(3,3), padding=\"same\", activation=\"relu\"),\r\n",
        "                    Conv2D(filters=128, kernel_size=(3,3), padding=\"same\", activation=\"relu\"),\r\n",
        "                    MaxPool2D(pool_size=(2,2),strides=(2,2)),\r\n",
        "                    Conv2D(filters=256, kernel_size=(3,3), padding=\"same\", activation=\"relu\"),\r\n",
        "                    Conv2D(filters=256, kernel_size=(3,3), padding=\"same\", activation=\"relu\"),\r\n",
        "                    Conv2D(filters=256, kernel_size=(3,3), padding=\"same\", activation=\"relu\"),\r\n",
        "                    MaxPool2D(pool_size=(2,2),strides=(2,2)),\r\n",
        "                    Conv2D(filters=512, kernel_size=(3,3), padding=\"same\", activation=\"relu\"),\r\n",
        "                    Conv2D(filters=512, kernel_size=(3,3), padding=\"same\", activation=\"relu\"),\r\n",
        "                    Conv2D(filters=512, kernel_size=(3,3), padding=\"same\", activation=\"relu\"),\r\n",
        "                    MaxPool2D(pool_size=(2,2),strides=(2,2)),\r\n",
        "                    Conv2D(filters=512, kernel_size=(3,3), padding=\"same\", activation=\"relu\"),\r\n",
        "                    Conv2D(filters=512, kernel_size=(3,3), padding=\"same\", activation=\"relu\"),\r\n",
        "                    Conv2D(filters=512, kernel_size=(3,3), padding=\"same\", activation=\"relu\"),\r\n",
        "                    MaxPool2D(pool_size=(2,2),strides=(2,2))\r\n",
        "])"
      ],
      "execution_count": null,
      "outputs": []
    },
    {
      "cell_type": "markdown",
      "metadata": {
        "id": "k65iHy9wpwre"
      },
      "source": [
        "### Últimas capas"
      ]
    },
    {
      "cell_type": "code",
      "metadata": {
        "id": "Nct3l1UNODbV"
      },
      "source": [
        "model.add(Flatten())\r\n",
        "model.add(Dense(units=512,activation=\"relu\"))\r\n",
        "model.add(Dense(units=64,activation=\"relu\"))\r\n",
        "model.add(Dense(units=6, activation=\"softmax\"))"
      ],
      "execution_count": null,
      "outputs": []
    },
    {
      "cell_type": "markdown",
      "metadata": {
        "id": "cJ0leifwpzyJ"
      },
      "source": [
        "### Compilación"
      ]
    },
    {
      "cell_type": "code",
      "metadata": {
        "id": "N65aFudwOFrW"
      },
      "source": [
        "model.compile(loss='categorical_crossentropy',optimizer='adam',metrics=['acc'])"
      ],
      "execution_count": null,
      "outputs": []
    },
    {
      "cell_type": "markdown",
      "metadata": {
        "id": "8iwQ07aGuU4o"
      },
      "source": [
        "### Resumen del modelo"
      ]
    },
    {
      "cell_type": "code",
      "metadata": {
        "id": "K50ddBfKOKkH"
      },
      "source": [
        "model.summary()"
      ],
      "execution_count": null,
      "outputs": []
    },
    {
      "cell_type": "markdown",
      "metadata": {
        "id": "ODd7qdoSp1Zn"
      },
      "source": [
        "### Entrenamiento"
      ]
    },
    {
      "cell_type": "code",
      "metadata": {
        "id": "HpGdVkJ1OMok"
      },
      "source": [
        "history = model.fit_generator(steps_per_epoch=100,\r\n",
        "                              generator=traindata, validation_data= testdata, \r\n",
        "                              validation_steps=10,epochs=100,\r\n",
        "                              callbacks=[CustomCallback('train_best_weights_1.h5')])"
      ],
      "execution_count": null,
      "outputs": []
    },
    {
      "cell_type": "markdown",
      "metadata": {
        "id": "l3olQj1_uy6k"
      },
      "source": [
        "### Evaluación"
      ]
    },
    {
      "cell_type": "code",
      "metadata": {
        "id": "-V6287tIOPPY"
      },
      "source": [
        "acc = history.history['acc']\r\n",
        "val_acc = history.history['val_acc']\r\n",
        "loss = history.history['loss']\r\n",
        "val_loss = history.history['val_loss']\r\n",
        "\r\n",
        "epochs = range(len(acc))\r\n",
        "\r\n",
        "plt.plot(epochs, acc, 'r', label='Training accuracy')\r\n",
        "plt.plot(epochs, val_acc, 'b', label='Validation accuracy')\r\n",
        "plt.title('Training and validation accuracy')\r\n",
        "plt.legend()\r\n",
        "plt.figure()\r\n",
        "\r\n",
        "plt.plot(epochs, loss, 'r', label='Training Loss')\r\n",
        "plt.plot(epochs, val_loss, 'b', label='Validation Loss')\r\n",
        "plt.title('Training and validation loss')\r\n",
        "plt.legend()\r\n",
        "\r\n",
        "plt.show()"
      ],
      "execution_count": null,
      "outputs": []
    },
    {
      "cell_type": "markdown",
      "metadata": {
        "id": "ecwcVNo3qBlC"
      },
      "source": [
        "## Con Transfer Learning"
      ]
    },
    {
      "cell_type": "markdown",
      "metadata": {
        "id": "OPzqJ4FrcSEt"
      },
      "source": [
        "### Carga del modelo"
      ]
    },
    {
      "cell_type": "code",
      "metadata": {
        "id": "TJAr1ojYauqx",
        "colab": {
          "base_uri": "https://localhost:8080/"
        },
        "outputId": "b0dfbdba-2c80-42b2-9241-518342ccb8fb"
      },
      "source": [
        "model=VGG16(include_top=False,input_shape=(300,300,3))"
      ],
      "execution_count": null,
      "outputs": [
        {
          "output_type": "stream",
          "text": [
            "Downloading data from https://storage.googleapis.com/tensorflow/keras-applications/vgg16/vgg16_weights_tf_dim_ordering_tf_kernels_notop.h5\n",
            "58892288/58889256 [==============================] - 0s 0us/step\n"
          ],
          "name": "stdout"
        }
      ]
    },
    {
      "cell_type": "markdown",
      "metadata": {
        "id": "6fir_h3pcUJ4"
      },
      "source": [
        "### Congelamiento de capas"
      ]
    },
    {
      "cell_type": "code",
      "metadata": {
        "id": "LzvZieDCaxQ0"
      },
      "source": [
        "for layer in model.layers:\n",
        "    layer.trainable=False"
      ],
      "execution_count": null,
      "outputs": []
    },
    {
      "cell_type": "markdown",
      "metadata": {
        "id": "aeS3FtWIcbw-"
      },
      "source": [
        "### Últimas capas"
      ]
    },
    {
      "cell_type": "code",
      "metadata": {
        "id": "DZdKZn_kcd4t"
      },
      "source": [
        "output=model.layers[-1].output\n",
        "model_final=tf.keras.layers.Flatten()(output)\n",
        "model_final=tf.keras.layers.Dense(512,activation='relu')(model_final)\n",
        "model_final=tf.keras.layers.Dense(64,activation='relu')(model_final)\n",
        "model_final=tf.keras.layers.Dense(6,activation='softmax')(model_final)"
      ],
      "execution_count": null,
      "outputs": []
    },
    {
      "cell_type": "markdown",
      "metadata": {
        "id": "ZWK6wMLJci4V"
      },
      "source": [
        "### Modelo final"
      ]
    },
    {
      "cell_type": "code",
      "metadata": {
        "id": "QILks2NXckOU"
      },
      "source": [
        "model=tf.keras.models.Model(model.input,model_final)"
      ],
      "execution_count": null,
      "outputs": []
    },
    {
      "cell_type": "markdown",
      "metadata": {
        "id": "2pZn_C-wclwM"
      },
      "source": [
        "### Compilación"
      ]
    },
    {
      "cell_type": "code",
      "metadata": {
        "id": "ZAmxIK1TcnYX"
      },
      "source": [
        "model.compile(loss='categorical_crossentropy',optimizer='adam',metrics=['acc'])"
      ],
      "execution_count": null,
      "outputs": []
    },
    {
      "cell_type": "markdown",
      "metadata": {
        "id": "-VGpkW4EG_Ts"
      },
      "source": [
        "### Resumen del modelo"
      ]
    },
    {
      "cell_type": "code",
      "metadata": {
        "colab": {
          "base_uri": "https://localhost:8080/"
        },
        "id": "qidfCILcG94s",
        "outputId": "8d0fe05b-fed6-409a-9a93-c65bbc57462f"
      },
      "source": [
        "model.summary()"
      ],
      "execution_count": null,
      "outputs": [
        {
          "output_type": "stream",
          "text": [
            "Model: \"functional_1\"\n",
            "_________________________________________________________________\n",
            "Layer (type)                 Output Shape              Param #   \n",
            "=================================================================\n",
            "input_1 (InputLayer)         [(None, 300, 300, 3)]     0         \n",
            "_________________________________________________________________\n",
            "block1_conv1 (Conv2D)        (None, 300, 300, 64)      1792      \n",
            "_________________________________________________________________\n",
            "block1_conv2 (Conv2D)        (None, 300, 300, 64)      36928     \n",
            "_________________________________________________________________\n",
            "block1_pool (MaxPooling2D)   (None, 150, 150, 64)      0         \n",
            "_________________________________________________________________\n",
            "block2_conv1 (Conv2D)        (None, 150, 150, 128)     73856     \n",
            "_________________________________________________________________\n",
            "block2_conv2 (Conv2D)        (None, 150, 150, 128)     147584    \n",
            "_________________________________________________________________\n",
            "block2_pool (MaxPooling2D)   (None, 75, 75, 128)       0         \n",
            "_________________________________________________________________\n",
            "block3_conv1 (Conv2D)        (None, 75, 75, 256)       295168    \n",
            "_________________________________________________________________\n",
            "block3_conv2 (Conv2D)        (None, 75, 75, 256)       590080    \n",
            "_________________________________________________________________\n",
            "block3_conv3 (Conv2D)        (None, 75, 75, 256)       590080    \n",
            "_________________________________________________________________\n",
            "block3_pool (MaxPooling2D)   (None, 37, 37, 256)       0         \n",
            "_________________________________________________________________\n",
            "block4_conv1 (Conv2D)        (None, 37, 37, 512)       1180160   \n",
            "_________________________________________________________________\n",
            "block4_conv2 (Conv2D)        (None, 37, 37, 512)       2359808   \n",
            "_________________________________________________________________\n",
            "block4_conv3 (Conv2D)        (None, 37, 37, 512)       2359808   \n",
            "_________________________________________________________________\n",
            "block4_pool (MaxPooling2D)   (None, 18, 18, 512)       0         \n",
            "_________________________________________________________________\n",
            "block5_conv1 (Conv2D)        (None, 18, 18, 512)       2359808   \n",
            "_________________________________________________________________\n",
            "block5_conv2 (Conv2D)        (None, 18, 18, 512)       2359808   \n",
            "_________________________________________________________________\n",
            "block5_conv3 (Conv2D)        (None, 18, 18, 512)       2359808   \n",
            "_________________________________________________________________\n",
            "block5_pool (MaxPooling2D)   (None, 9, 9, 512)         0         \n",
            "_________________________________________________________________\n",
            "flatten (Flatten)            (None, 41472)             0         \n",
            "_________________________________________________________________\n",
            "dense (Dense)                (None, 512)               21234176  \n",
            "_________________________________________________________________\n",
            "dense_1 (Dense)              (None, 64)                32832     \n",
            "_________________________________________________________________\n",
            "dense_2 (Dense)              (None, 5)                 325       \n",
            "=================================================================\n",
            "Total params: 35,982,021\n",
            "Trainable params: 21,267,333\n",
            "Non-trainable params: 14,714,688\n",
            "_________________________________________________________________\n"
          ],
          "name": "stdout"
        }
      ]
    },
    {
      "cell_type": "markdown",
      "metadata": {
        "id": "CfZZyUu4cn_T"
      },
      "source": [
        "### Entrenamiento"
      ]
    },
    {
      "cell_type": "code",
      "metadata": {
        "id": "gUEnuQRLcrR_",
        "colab": {
          "base_uri": "https://localhost:8080/"
        },
        "outputId": "bd9ccfce-849f-4101-c4b0-e9e6605636c1"
      },
      "source": [
        "history = model.fit_generator(steps_per_epoch=100,\n",
        "                              generator=traindata, validation_data= testdata, \n",
        "                              validation_steps=10,epochs=100,\n",
        "                              callbacks=[CustomCallback('train_best_weights_2.h5')])"
      ],
      "execution_count": null,
      "outputs": [
        {
          "output_type": "stream",
          "text": [
            "Epoch 1/5\n",
            "150/150 [==============================] - ETA: 0s - loss: 0.1371 - acc: 0.9517\n",
            "Best Weights Saved!!\n",
            "150/150 [==============================] - 1190s 8s/step - loss: 0.1371 - acc: 0.9517 - val_loss: 0.3291 - val_acc: 0.8933\n",
            "Epoch 2/5\n",
            "150/150 [==============================] - 1196s 8s/step - loss: 0.1165 - acc: 0.9575 - val_loss: 0.5077 - val_acc: 0.8267\n",
            "Epoch 3/5\n",
            "150/150 [==============================] - 1195s 8s/step - loss: 0.0865 - acc: 0.9708 - val_loss: 0.3219 - val_acc: 0.8867\n",
            "Epoch 4/5\n",
            "150/150 [==============================] - 1194s 8s/step - loss: 0.0444 - acc: 0.9883 - val_loss: 0.4785 - val_acc: 0.8533\n",
            "Epoch 5/5\n",
            "150/150 [==============================] - 1196s 8s/step - loss: 0.0252 - acc: 0.9958 - val_loss: 0.3314 - val_acc: 0.8867\n"
          ],
          "name": "stdout"
        }
      ]
    },
    {
      "cell_type": "markdown",
      "metadata": {
        "id": "fGtcHETNq9S-"
      },
      "source": [
        "### Evaluación"
      ]
    },
    {
      "cell_type": "code",
      "metadata": {
        "id": "UjRGf0CSq-dc",
        "colab": {
          "base_uri": "https://localhost:8080/",
          "height": 544
        },
        "outputId": "eebb31b0-788b-4d1f-8bbd-8571e17cb3e1"
      },
      "source": [
        "acc = history.history['acc']\n",
        "val_acc = history.history['val_acc']\n",
        "loss = history.history['loss']\n",
        "val_loss = history.history['val_loss']\n",
        "\n",
        "epochs = range(len(acc))\n",
        "\n",
        "plt.plot(epochs, acc, 'r', label='Training accuracy')\n",
        "plt.plot(epochs, val_acc, 'b', label='Validation accuracy')\n",
        "plt.title('Training and validation accuracy')\n",
        "plt.legend()\n",
        "plt.figure()\n",
        "\n",
        "plt.plot(epochs, loss, 'r', label='Training Loss')\n",
        "plt.plot(epochs, val_loss, 'b', label='Validation Loss')\n",
        "plt.title('Training and validation loss')\n",
        "plt.legend()\n",
        "\n",
        "plt.show()"
      ],
      "execution_count": null,
      "outputs": [
        {
          "output_type": "display_data",
          "data": {
            "image/png": "[encoded data removed]",
            "text/plain": [
              "<Figure size 432x288 with 1 Axes>"
            ]
          },
          "metadata": {
            "tags": [],
            "needs_background": "light"
          }
        },
        {
          "output_type": "display_data",
          "data": {
            "image/png": "[encoded data removed]",
            "text/plain": [
              "<Figure size 432x288 with 1 Axes>"
            ]
          },
          "metadata": {
            "tags": [],
            "needs_background": "light"
          }
        }
      ]
    }
  ]
}