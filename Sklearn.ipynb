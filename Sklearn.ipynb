{
  "nbformat": 4,
  "nbformat_minor": 0,
  "metadata": {
    "colab": {
      "name": "Sklearn.ipynb",
      "provenance": []
    },
    "kernelspec": {
      "name": "python3",
      "display_name": "Python 3"
    }
  },
  "cells": [
    {
      "cell_type": "code",
      "metadata": {
        "id": "4k3pJme6h8rJ",
        "colab_type": "code",
        "colab": {}
      },
      "source": [
        "\n",
        "import matplotlib.pyplot as plt\n",
        "import numpy as np\n",
        "from sklearn import datasets, linear_model\n",
        "from sklearn.metrics import mean_squared_error, r2_score # las dos medidas que se van a utilizar pero en diferentes datasets.\n",
        "from sklearn.model_selection import train_test_split\n"
      ],
      "execution_count": 5,
      "outputs": []
    },
    {
      "cell_type": "markdown",
      "metadata": {
        "id": "9PR9zsALif-Q",
        "colab_type": "text"
      },
      "source": [
        "Preparamos el  datatset y lo partimos en train y test"
      ]
    },
    {
      "cell_type": "code",
      "metadata": {
        "id": "j8eqvI_iigaq",
        "colab_type": "code",
        "colab": {}
      },
      "source": [
        "\n",
        "# Load the diabetes dataset\n",
        "diabetes_X, diabetes_y = datasets.load_diabetes(return_X_y=True)\n",
        "\n",
        "# Use only one feature\n",
        "diabetes_X = diabetes_X[:, np.newaxis, 2]\n",
        "\n",
        "# Split the data into training/testing sets\n",
        "diabetes_X_train = diabetes_X[:-20]\n",
        "diabetes_X_test = diabetes_X[-20:]\n",
        "\n",
        "\n",
        "\n",
        "\n",
        "# Split the targets into training/testing sets\n",
        "diabetes_y_train = diabetes_y[:-20]\n",
        "diabetes_y_test = diabetes_y[-20:]\n",
        "\n",
        "diabetes_X_train,diabetes_X_test,diabetes_y_train,diabetes_y_test =  train_test_split(diabetes_X,diabetes_y,test_size=0.3)\n"
      ],
      "execution_count": 9,
      "outputs": []
    },
    {
      "cell_type": "markdown",
      "metadata": {
        "id": "Rb0OYhWRjlzV",
        "colab_type": "text"
      },
      "source": [
        "# La regresión lineal\n"
      ]
    },
    {
      "cell_type": "code",
      "metadata": {
        "id": "BZlwKom8jmLK",
        "colab_type": "code",
        "colab": {
          "base_uri": "https://localhost:8080/",
          "height": 337
        },
        "outputId": "2362fc31-5126-4203-e8a8-3823f09b0f8d"
      },
      "source": [
        "\n",
        "# Create linear regression object\n",
        "regr = linear_model.LinearRegression()\n",
        "\n",
        "# Train the model using the training sets\n",
        "regr.fit(diabetes_X_train, diabetes_y_train)\n",
        "\n",
        "# Make predictions using the testing set\n",
        "diabetes_y_pred = regr.predict(diabetes_X_test)\n",
        "\n",
        "# The coefficients\n",
        "print('Coefficients: \\n', regr.coef_)\n",
        "print(\"intercept:\",regr.intercept_)\n",
        "# The mean squared error\n",
        "print('Mean squared error: %.2f'\n",
        "      % mean_squared_error(diabetes_y_test, diabetes_y_pred))\n",
        "# The coefficient of determination: 1 is perfect prediction\n",
        "print('Coefficient of determination: %.2f'\n",
        "      % r2_score(diabetes_y_test, diabetes_y_pred))\n",
        "\n",
        "# Plot outputs\n",
        "plt.scatter(diabetes_X_test, diabetes_y_test,  color='black')\n",
        "plt.plot(diabetes_X_test, diabetes_y_pred, color='blue', linewidth=3)\n",
        "\n",
        "plt.xticks(())\n",
        "plt.yticks(())\n",
        "\n",
        "plt.show()"
      ],
      "execution_count": 10,
      "outputs": [
        {
          "output_type": "stream",
          "text": [
            "Coefficients: \n",
            " [949.35954909]\n",
            "intercept: 151.33759728529355\n",
            "Mean squared error: 4181.10\n",
            "Coefficient of determination: 0.28\n"
          ],
          "name": "stdout"
        },
        {
          "output_type": "display_data",
          "data": {
            "image/png": "[encoded data removed]",
            "text/plain": [
              "<Figure size 432x288 with 1 Axes>"
            ]
          },
          "metadata": {
            "tags": []
          }
        }
      ]
    },
    {
      "cell_type": "markdown",
      "metadata": {
        "id": "q3KSJfvyjopE",
        "colab_type": "text"
      },
      "source": [
        " Miro cual es el R cuadrado ajustado"
      ]
    },
    {
      "cell_type": "code",
      "metadata": {
        "id": "r6EelCiAnhle",
        "colab_type": "code",
        "colab": {}
      },
      "source": [
        "form sklearn.metric import r2_score\n",
        "\n"
      ],
      "execution_count": null,
      "outputs": []
    },
    {
      "cell_type": "markdown",
      "metadata": {
        "id": "1jvAo3kdwOwV",
        "colab_type": "text"
      },
      "source": [
        "Este es el $R^2$ pero no el $R^2$ ajustado. Este se calcula de la siguiente manera:\n",
        "\\begin{equation}\n",
        "\\bar{R}^2 = R^2 -\\frac{k-1}{n-k}(1-R^2)\n",
        "\\end{equation}\n",
        "Donde $n$ es el número de obsevaciones y $k$ el número de parámetros."
      ]
    },
    {
      "cell_type": "code",
      "metadata": {
        "id": "QGivPD72x8og",
        "colab_type": "code",
        "colab": {
          "base_uri": "https://localhost:8080/",
          "height": 51
        },
        "outputId": "c427b207-6cec-46dd-c103-3c10e56c2bbe"
      },
      "source": [
        "y_hat = regr.predict(diabetes_X_train)\n",
        "K = diabetes_X_train.shape[1]\n",
        "n=len(diabetes_y_train)\n",
        "r_ajustado = r2_score(diabetes_y_train,y_hat)-((K-1)/(n-K))*(1-r2_score(diabetes_y_train,y_hat))\n",
        "print(r_ajustado)\n",
        "\n",
        "mean_squared_error(diabetes_y_test,diabetes_y_pred )"
      ],
      "execution_count": 14,
      "outputs": [
        {
          "output_type": "stream",
          "text": [
            "0.3693834371341034\n"
          ],
          "name": "stdout"
        },
        {
          "output_type": "execute_result",
          "data": {
            "text/plain": [
              "4181.096747176954"
            ]
          },
          "metadata": {
            "tags": []
          },
          "execution_count": 14
        }
      ]
    }
  ]
}